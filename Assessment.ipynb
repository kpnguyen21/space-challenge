{
 "cells": [
  {
   "cell_type": "markdown",
   "id": "84e6f994-c2c5-4c00-90fc-7e757ac12668",
   "metadata": {},
   "source": [
    "# AmericaSave Mortgage Assessment"
   ]
  },
  {
   "cell_type": "markdown",
   "id": "c4e2341d-cab4-4a7f-abb4-c528ca12b8a4",
   "metadata": {},
   "source": [
    "## Project\n",
    "\n",
    "Your team must develop a real-time SQL assignment algorithm that automatically matches prospective customers with the best travel agent available. Agents not only guide customers through the booking process but also upsell luxury packages, exclusive excursions, and custom accommodations. At the end of each journey, customers rate their experience with their travel agent. Your solution should receive details about a customer (listed below) and return a stack-ranked list of travel agents ordered from best to worst."
   ]
  },
  {
   "cell_type": "markdown",
   "id": "48ddfb01-d7b5-4875-a415-5b59a2a494dd",
   "metadata": {},
   "source": [
    "## Requirements\n",
    "\n",
    "- Provide a written overview of your model and the approach you chose\n",
    "- Provide SQL Code that can be executed without errors. If your model requires the building of new tables, stored procedures or functions, make sure you provide the SQL code that creates them"
   ]
  },
  {
   "cell_type": "markdown",
   "id": "db41a222-2c9e-4d45-beb3-069ea596f79a",
   "metadata": {},
   "source": [
    "## Overview"
   ]
  },
  {
   "cell_type": "markdown",
   "id": "c396f033-d9f9-4aa0-8edd-c87d94362ced",
   "metadata": {},
   "source": [
    "The goal of this workflow was to build an intelligent agent assignment system that balances workload fairly, adapted dynamically to booking activity, and ensured customers were matched with the most qualified agents. By integrating historical booking data and agent performance metrics, the system kept track of each agent’s availability and continuously updated rankings based on their activity. Automated triggers manage incoming customer assignments and respond to booking status changes in real time, enabling a responsive and scalable approach to agent deployment."
   ]
  },
  {
   "cell_type": "markdown",
   "id": "d5226560-124b-495b-9cd2-4952b2475658",
   "metadata": {},
   "source": [
    "## Step-by-step instruction"
   ]
  },
  {
   "cell_type": "markdown",
   "id": "61a9c0fb-c1b8-40c8-8fa9-c36d0a9be616",
   "metadata": {},
   "source": [
    "- <u>Step 1</u>: Merged the `bookings` and `assignment_history` tables to incorporate the `AgentID` field into the `bookings` table. The resulting table was named `bookings_2`, which would be used going forward.\n",
    "- <u>Step 2</u>: Added `load` and `agent_rank` columns to the `space_travel_agents` table.\n",
    "    - The `load` column represented the number of active customer assignments for each agent.\n",
    "    - The `agent_rank` column prioritized agents based on minimal `load`, highest `YearsOfService`, and best `AverageCustomerServiceRating`.\n",
    "    - These metrics would be updated regularly to ensure incoming customers were matched with the most suitable agents.\n",
    "- <u>Step 3</u>: Initialized the `load` and `agent_rank columns`.\n",
    "    - All agents were initially assigned a `load` value of 0.\n",
    "    - `agent_rank` was computed in the following order of precedence: `load` in ascending order, `YearsOfService` in descending order, and `AverageCustomerServiceRating` in descending order.\n",
    "- <u>Step 4</u>: Created a new table, `new_customer`, containing the following fields: `CustomerName`, `CommunicationMethod`, `LeadSource`, `Destination`, and `LaunchLocation`.\n",
    "- <u>Step 5</u>: Defined the following triggers to automate assignment workflows and load tracking:\n",
    "    - `updating_assignment_history`: Inserted a record into `assignment_history` with the fields `CustomerName`, `AssignmentID`, `CommunicationMethod`, `LeadSource`, `AssignedDateTime`, and `AgentID`. Note: `AssignedDateTime` was set to the current time plus 56 years.\n",
    "    - `updating_bookings_2`: Inserted data into `bookings_2`, including `BookingID`, `AssignmentID`, `Destination`, `LaunchLocation`, `BookingStatus`, and `AgentID`.\n",
    "    - `updating_loads`: Incremented the `load` value in `space_travel_agents` whenever a new customer was inserted into `new_customer`.\n",
    "    - `update_loads_subtracting`: Decremented the agent’s `load` in `space_travel_agents` if a `booking`’s `BookingStatus` changed from 'Pending' to either 'Confirmed' or 'Cancelled'.\n",
    "    - `recompute_agent_rank_on_load`: Recalculated `agent_rank` in response to changes in `load`. Since `agent_rank` was dynamic, this trigger ensured that it remained up to date as assignments shift.\n",
    "- <u>Step 6</u>: To evaluate the algorithm’s behavior, I tested two scenarios:\n",
    "    – <u>Scenario 1</u>: The `new_customer` table was updated to simulate the addition of new users.\n",
    "    – <u>Scenario 2</u>: The `BookingStatus` field in `bookings_2` was modified to reflect status changes."
   ]
  },
  {
   "cell_type": "markdown",
   "id": "982d5a52-8349-4fff-9786-d70ef65abb94",
   "metadata": {},
   "source": [
    "## Import and connect to the database"
   ]
  },
  {
   "cell_type": "code",
   "execution_count": 1,
   "id": "58ef8cb3-8c49-45a6-9917-b6a7de86a7b8",
   "metadata": {},
   "outputs": [],
   "source": [
    "import sqlite3"
   ]
  },
  {
   "cell_type": "code",
   "execution_count": 2,
   "id": "354aad93-9648-4640-8ef9-5aa7f0810065",
   "metadata": {},
   "outputs": [],
   "source": [
    "# Connect to the SQLite database (or create it if it doesn't exist)\n",
    "conn = sqlite3.connect('my_database.db')\n",
    "cursor = conn.cursor()"
   ]
  },
  {
   "cell_type": "code",
   "execution_count": 3,
   "id": "2b031734-52c9-4856-a60e-a5c903a2ae40",
   "metadata": {},
   "outputs": [
    {
     "data": {
      "text/html": [
       "<span style=\"None\">Connecting to &#x27;sqlite:///my_database.db&#x27;</span>"
      ],
      "text/plain": [
       "Connecting to 'sqlite:///my_database.db'"
      ]
     },
     "metadata": {},
     "output_type": "display_data"
    }
   ],
   "source": [
    "%load_ext sql\n",
    "%sql sqlite:///my_database.db"
   ]
  },
  {
   "cell_type": "code",
   "execution_count": 4,
   "id": "2452b51f-e74a-4701-b43b-26d4ba21f4d5",
   "metadata": {},
   "outputs": [],
   "source": [
    "# Delete all tables from the database. This is useful when rerunning the notebook."
   ]
  },
  {
   "cell_type": "code",
   "execution_count": 5,
   "id": "f94123b2-2983-45b3-821f-c705c0f8e419",
   "metadata": {},
   "outputs": [],
   "source": [
    "# Get all user-defined tables (excluding internal SQLite tables)\n",
    "cursor.execute(\"SELECT name FROM sqlite_master WHERE type='table' AND name NOT LIKE 'sqlite_%';\")\n",
    "tables = cursor.fetchall()\n",
    "\n",
    "# Drop each table\n",
    "for table in tables:\n",
    "    cursor.execute(f\"DROP TABLE IF EXISTS {table[0]};\")"
   ]
  },
  {
   "cell_type": "code",
   "execution_count": 6,
   "id": "a9e089bf-bcf8-4a1e-969a-0d916bacd814",
   "metadata": {},
   "outputs": [],
   "source": [
    "# Read the tables\n",
    "table_list = ['assignment_history SQL Table.txt', 'bookings SQL Table.txt', 'space_travel_agents SQL Table.txt']\n",
    "\n",
    "for t in table_list:\n",
    "    with open(t, 'r') as f:\n",
    "        script = f.read()\n",
    "    cursor.executescript(script)"
   ]
  },
  {
   "cell_type": "markdown",
   "id": "ba02317a-e5f1-4b61-93a5-491caa026c1c",
   "metadata": {},
   "source": [
    "## Step 1: Merge tables\n",
    "I merged tables `bookings` and `assignment_history` so that `bookings` included `AgentID` information. I named this table `bookings_2` and and I would be using it going forward."
   ]
  },
  {
   "cell_type": "code",
   "execution_count": 7,
   "id": "79fec4e4-d91c-453c-b26d-041d3736b474",
   "metadata": {},
   "outputs": [
    {
     "data": {
      "text/html": [
       "<span style=\"None\">Running query in &#x27;sqlite:///my_database.db&#x27;</span>"
      ],
      "text/plain": [
       "Running query in 'sqlite:///my_database.db'"
      ]
     },
     "metadata": {},
     "output_type": "display_data"
    },
    {
     "data": {
      "text/html": [
       "<table>\n",
       "    <thead>\n",
       "        <tr>\n",
       "        </tr>\n",
       "    </thead>\n",
       "    <tbody>\n",
       "    </tbody>\n",
       "</table>"
      ],
      "text/plain": [
       "++\n",
       "||\n",
       "++\n",
       "++"
      ]
     },
     "execution_count": 7,
     "metadata": {},
     "output_type": "execute_result"
    }
   ],
   "source": [
    "%%sql\n",
    "\n",
    "CREATE TABLE bookings_2 AS\n",
    "SELECT B.*,\n",
    "        AH.AgentID\n",
    "FROM bookings AS B\n",
    "LEFT JOIN assignment_history AS AH USING(AssignmentID)"
   ]
  },
  {
   "cell_type": "markdown",
   "id": "a4694b15-0615-4f9a-b92b-8119a1c176a0",
   "metadata": {},
   "source": [
    "## Step 2: Added `load` and `agent_rank` columns"
   ]
  },
  {
   "cell_type": "markdown",
   "id": "74496e5d-a595-4c74-882d-df08f4a1013b",
   "metadata": {},
   "source": [
    "I created a `load` column with a default value of 0 to track how many active customer assignments each agent had. Whenever an agent was assigned to a new customer, their corresponding `load` value was incremented to reflect their current workload. Conversely, after completing a customer's request, the `load` was decremented by 1."
   ]
  },
  {
   "cell_type": "code",
   "execution_count": 8,
   "id": "a82c884d-0ec1-4fe3-a078-96fd08e3b31d",
   "metadata": {},
   "outputs": [
    {
     "data": {
      "text/html": [
       "<span style=\"None\">Running query in &#x27;sqlite:///my_database.db&#x27;</span>"
      ],
      "text/plain": [
       "Running query in 'sqlite:///my_database.db'"
      ]
     },
     "metadata": {},
     "output_type": "display_data"
    },
    {
     "data": {
      "text/html": [
       "<table>\n",
       "    <thead>\n",
       "        <tr>\n",
       "        </tr>\n",
       "    </thead>\n",
       "    <tbody>\n",
       "    </tbody>\n",
       "</table>"
      ],
      "text/plain": [
       "++\n",
       "||\n",
       "++\n",
       "++"
      ]
     },
     "execution_count": 8,
     "metadata": {},
     "output_type": "execute_result"
    }
   ],
   "source": [
    "%%sql \n",
    "\n",
    "ALTER TABLE space_travel_agents\n",
    "ADD COLUMN load INTEGER DEFAULT 0;\n",
    "\n",
    "ALTER TABLE space_travel_agents\n",
    "ADD COLUMN agent_rank INTEGER;"
   ]
  },
  {
   "cell_type": "markdown",
   "id": "34fee382-091e-44ca-9189-3476c2f504a1",
   "metadata": {},
   "source": [
    "## Step 3: Initialized the `load` and `agent_rank columns`"
   ]
  },
  {
   "cell_type": "markdown",
   "id": "67965f5e-0632-44f4-8138-64561f550db3",
   "metadata": {},
   "source": [
    "As an initial setup before implementing triggers, I manually iterated through the `bookings_2` table and incremented the `load` value for each agent whenever a booking record had a `BookingStatus` of 'Pending'. This approach ensured that the agent workloads accurately reflected all active customer assignments prior to automating the process with triggers."
   ]
  },
  {
   "cell_type": "code",
   "execution_count": 9,
   "id": "7bbc1e3f-7ee7-40b1-bf2a-3c9296b3d0af",
   "metadata": {},
   "outputs": [
    {
     "data": {
      "text/html": [
       "<span style=\"None\">Running query in &#x27;sqlite:///my_database.db&#x27;</span>"
      ],
      "text/plain": [
       "Running query in 'sqlite:///my_database.db'"
      ]
     },
     "metadata": {},
     "output_type": "display_data"
    },
    {
     "data": {
      "text/html": [
       "<span style=\"color: green\">30 rows affected.</span>"
      ],
      "text/plain": [
       "30 rows affected."
      ]
     },
     "metadata": {},
     "output_type": "display_data"
    },
    {
     "data": {
      "text/html": [
       "<table>\n",
       "    <thead>\n",
       "        <tr>\n",
       "        </tr>\n",
       "    </thead>\n",
       "    <tbody>\n",
       "    </tbody>\n",
       "</table>"
      ],
      "text/plain": [
       "++\n",
       "||\n",
       "++\n",
       "++"
      ]
     },
     "execution_count": 9,
     "metadata": {},
     "output_type": "execute_result"
    }
   ],
   "source": [
    "%%sql\n",
    "\n",
    "UPDATE space_travel_agents\n",
    "SET load = load + (\n",
    "  SELECT COUNT(*)\n",
    "  FROM bookings_2\n",
    "  WHERE bookings_2.AgentID = space_travel_agents.AgentID\n",
    "    AND bookings_2.BookingStatus = 'Pending'\n",
    ")"
   ]
  },
  {
   "cell_type": "code",
   "execution_count": 10,
   "id": "9c62011e-5bc5-4f47-946f-c8776ecbfa3c",
   "metadata": {},
   "outputs": [
    {
     "data": {
      "text/html": [
       "<span style=\"None\">Running query in &#x27;sqlite:///my_database.db&#x27;</span>"
      ],
      "text/plain": [
       "Running query in 'sqlite:///my_database.db'"
      ]
     },
     "metadata": {},
     "output_type": "display_data"
    },
    {
     "data": {
      "text/html": [
       "<span style=\"color: green\">30 rows affected.</span>"
      ],
      "text/plain": [
       "30 rows affected."
      ]
     },
     "metadata": {},
     "output_type": "display_data"
    },
    {
     "data": {
      "text/html": [
       "<table>\n",
       "    <thead>\n",
       "        <tr>\n",
       "        </tr>\n",
       "    </thead>\n",
       "    <tbody>\n",
       "    </tbody>\n",
       "</table>"
      ],
      "text/plain": [
       "++\n",
       "||\n",
       "++\n",
       "++"
      ]
     },
     "execution_count": 10,
     "metadata": {},
     "output_type": "execute_result"
    }
   ],
   "source": [
    "%%sql\n",
    "\n",
    "UPDATE space_travel_agents\n",
    "SET agent_rank = (\n",
    "  SELECT COUNT(*)\n",
    "  FROM space_travel_agents AS b\n",
    "  WHERE b.load < space_travel_agents.load\n",
    "     OR (b.load = space_travel_agents.load AND b.YearsOfService > space_travel_agents.YearsOfService)\n",
    "     OR (b.load = space_travel_agents.load AND b.YearsOfService = space_travel_agents.YearsOfService AND b.AverageCustomerServiceRating > space_travel_agents.AverageCustomerServiceRating)\n",
    ") + 1;"
   ]
  },
  {
   "cell_type": "code",
   "execution_count": 11,
   "id": "a9702c5f-2501-4e6e-97a3-757b06bed004",
   "metadata": {},
   "outputs": [
    {
     "data": {
      "text/html": [
       "<span style=\"None\">Running query in &#x27;sqlite:///my_database.db&#x27;</span>"
      ],
      "text/plain": [
       "Running query in 'sqlite:///my_database.db'"
      ]
     },
     "metadata": {},
     "output_type": "display_data"
    },
    {
     "data": {
      "text/html": [
       "<table>\n",
       "    <thead>\n",
       "        <tr>\n",
       "            <th>AgentID</th>\n",
       "            <th>FirstName</th>\n",
       "            <th>LastName</th>\n",
       "            <th>Email</th>\n",
       "            <th>JobTitle</th>\n",
       "            <th>DepartmentName</th>\n",
       "            <th>ManagerName</th>\n",
       "            <th>SpaceLicenseNumber</th>\n",
       "            <th>YearsOfService</th>\n",
       "            <th>AverageCustomerServiceRating</th>\n",
       "            <th>load</th>\n",
       "            <th>agent_rank</th>\n",
       "        </tr>\n",
       "    </thead>\n",
       "    <tbody>\n",
       "        <tr>\n",
       "            <td>1</td>\n",
       "            <td>Aurora</td>\n",
       "            <td>Tanaka</td>\n",
       "            <td>aurora.tanaka@astra2081.com</td>\n",
       "            <td>Senior Space Travel Agent</td>\n",
       "            <td>Interplanetary Sales</td>\n",
       "            <td>Lyra Chen</td>\n",
       "            <td>SL-2081-001</td>\n",
       "            <td>12</td>\n",
       "            <td>4.0</td>\n",
       "            <td>0</td>\n",
       "            <td>5</td>\n",
       "        </tr>\n",
       "        <tr>\n",
       "            <td>2</td>\n",
       "            <td>Kai</td>\n",
       "            <td>Rodriguez</td>\n",
       "            <td>kai.rodriguez@astra2081.com</td>\n",
       "            <td>Space Travel Agent</td>\n",
       "            <td>Luxury Voyages</td>\n",
       "            <td>Lyra Chen</td>\n",
       "            <td>SL-2081-002</td>\n",
       "            <td>7</td>\n",
       "            <td>4.0</td>\n",
       "            <td>1</td>\n",
       "            <td>21</td>\n",
       "        </tr>\n",
       "        <tr>\n",
       "            <td>3</td>\n",
       "            <td>Nova</td>\n",
       "            <td>Singh</td>\n",
       "            <td>nova.singh@astra2081.com</td>\n",
       "            <td>Senior Space Travel Agent</td>\n",
       "            <td>Premium Bookings</td>\n",
       "            <td>Zane Holloway</td>\n",
       "            <td>SL-2081-003</td>\n",
       "            <td>15</td>\n",
       "            <td>4.0</td>\n",
       "            <td>0</td>\n",
       "            <td>2</td>\n",
       "        </tr>\n",
       "        <tr>\n",
       "            <td>4</td>\n",
       "            <td>Leo</td>\n",
       "            <td>Kim</td>\n",
       "            <td>leo.kim@astra2081.com</td>\n",
       "            <td>Space Travel Agent</td>\n",
       "            <td>Interplanetary Sales</td>\n",
       "            <td>Lyra Chen</td>\n",
       "            <td>SL-2081-004</td>\n",
       "            <td>5</td>\n",
       "            <td>4.0</td>\n",
       "            <td>0</td>\n",
       "            <td>10</td>\n",
       "        </tr>\n",
       "        <tr>\n",
       "            <td>5</td>\n",
       "            <td>Vera</td>\n",
       "            <td>Nguyen</td>\n",
       "            <td>vera.nguyen@astra2081.com</td>\n",
       "            <td>Space Travel Agent</td>\n",
       "            <td>Luxury Voyages</td>\n",
       "            <td>Zane Holloway</td>\n",
       "            <td>SL-2081-005</td>\n",
       "            <td>3</td>\n",
       "            <td>3.9</td>\n",
       "            <td>1</td>\n",
       "            <td>24</td>\n",
       "        </tr>\n",
       "    </tbody>\n",
       "</table>"
      ],
      "text/plain": [
       "+---------+-----------+-----------+-----------------------------+---------------------------+----------------------+---------------+--------------------+----------------+------------------------------+------+------------+\n",
       "| AgentID | FirstName |  LastName |            Email            |          JobTitle         |    DepartmentName    |  ManagerName  | SpaceLicenseNumber | YearsOfService | AverageCustomerServiceRating | load | agent_rank |\n",
       "+---------+-----------+-----------+-----------------------------+---------------------------+----------------------+---------------+--------------------+----------------+------------------------------+------+------------+\n",
       "|    1    |   Aurora  |   Tanaka  | aurora.tanaka@astra2081.com | Senior Space Travel Agent | Interplanetary Sales |   Lyra Chen   |    SL-2081-001     |       12       |             4.0              |  0   |     5      |\n",
       "|    2    |    Kai    | Rodriguez | kai.rodriguez@astra2081.com |     Space Travel Agent    |    Luxury Voyages    |   Lyra Chen   |    SL-2081-002     |       7        |             4.0              |  1   |     21     |\n",
       "|    3    |    Nova   |   Singh   |   nova.singh@astra2081.com  | Senior Space Travel Agent |   Premium Bookings   | Zane Holloway |    SL-2081-003     |       15       |             4.0              |  0   |     2      |\n",
       "|    4    |    Leo    |    Kim    |    leo.kim@astra2081.com    |     Space Travel Agent    | Interplanetary Sales |   Lyra Chen   |    SL-2081-004     |       5        |             4.0              |  0   |     10     |\n",
       "|    5    |    Vera   |   Nguyen  |  vera.nguyen@astra2081.com  |     Space Travel Agent    |    Luxury Voyages    | Zane Holloway |    SL-2081-005     |       3        |             3.9              |  1   |     24     |\n",
       "+---------+-----------+-----------+-----------------------------+---------------------------+----------------------+---------------+--------------------+----------------+------------------------------+------+------------+"
      ]
     },
     "execution_count": 11,
     "metadata": {},
     "output_type": "execute_result"
    }
   ],
   "source": [
    "%sql SELECT * FROM space_travel_agents LIMIT 5"
   ]
  },
  {
   "cell_type": "markdown",
   "id": "123c03ca-253e-4e2c-954a-699ef889b0ea",
   "metadata": {},
   "source": [
    "### Create agent_rank_tracker"
   ]
  },
  {
   "cell_type": "code",
   "execution_count": 12,
   "id": "688eb4a9-84da-43eb-9c64-b67460a9a73d",
   "metadata": {},
   "outputs": [
    {
     "data": {
      "text/html": [
       "<span style=\"None\">Running query in &#x27;sqlite:///my_database.db&#x27;</span>"
      ],
      "text/plain": [
       "Running query in 'sqlite:///my_database.db'"
      ]
     },
     "metadata": {},
     "output_type": "display_data"
    },
    {
     "data": {
      "text/html": [
       "<span style=\"color: green\">30 rows affected.</span>"
      ],
      "text/plain": [
       "30 rows affected."
      ]
     },
     "metadata": {},
     "output_type": "display_data"
    },
    {
     "data": {
      "text/html": [
       "<table>\n",
       "    <thead>\n",
       "        <tr>\n",
       "        </tr>\n",
       "    </thead>\n",
       "    <tbody>\n",
       "    </tbody>\n",
       "</table>"
      ],
      "text/plain": [
       "++\n",
       "||\n",
       "++\n",
       "++"
      ]
     },
     "execution_count": 12,
     "metadata": {},
     "output_type": "execute_result"
    }
   ],
   "source": [
    "%%sql\n",
    "\n",
    "CREATE TABLE IF NOT EXISTS agent_rank_tracker (\n",
    "    AgentID INTEGER PRIMARY KEY,\n",
    "    agent_rank INTEGER \n",
    ");\n",
    "\n",
    "INSERT INTO agent_rank_tracker (AgentID, agent_rank)\n",
    "    SELECT a.AgentID,\n",
    "        (\n",
    "            SELECT COUNT(*)\n",
    "            FROM space_travel_agents AS b\n",
    "            WHERE b.load < a.load\n",
    "              OR (b.load = a.load AND b.YearsOfService > a.YearsOfService)\n",
    "              OR (b.load = a.load AND b.YearsOfService = a.YearsOfService AND b.AverageCustomerServiceRating > a.AverageCustomerServiceRating)\n",
    "         ) + 1\n",
    "    FROM space_travel_agents AS a;"
   ]
  },
  {
   "cell_type": "code",
   "execution_count": 13,
   "id": "0185ee0e-f57f-47bf-9ac4-0c8f6ca527a3",
   "metadata": {},
   "outputs": [
    {
     "data": {
      "text/html": [
       "<span style=\"None\">Running query in &#x27;sqlite:///my_database.db&#x27;</span>"
      ],
      "text/plain": [
       "Running query in 'sqlite:///my_database.db'"
      ]
     },
     "metadata": {},
     "output_type": "display_data"
    },
    {
     "data": {
      "text/html": [
       "<table>\n",
       "    <thead>\n",
       "        <tr>\n",
       "            <th>AgentID</th>\n",
       "            <th>agent_rank</th>\n",
       "        </tr>\n",
       "    </thead>\n",
       "    <tbody>\n",
       "        <tr>\n",
       "            <td>6</td>\n",
       "            <td>1</td>\n",
       "        </tr>\n",
       "        <tr>\n",
       "            <td>3</td>\n",
       "            <td>2</td>\n",
       "        </tr>\n",
       "        <tr>\n",
       "            <td>27</td>\n",
       "            <td>2</td>\n",
       "        </tr>\n",
       "        <tr>\n",
       "            <td>24</td>\n",
       "            <td>4</td>\n",
       "        </tr>\n",
       "        <tr>\n",
       "            <td>1</td>\n",
       "            <td>5</td>\n",
       "        </tr>\n",
       "    </tbody>\n",
       "</table>"
      ],
      "text/plain": [
       "+---------+------------+\n",
       "| AgentID | agent_rank |\n",
       "+---------+------------+\n",
       "|    6    |     1      |\n",
       "|    3    |     2      |\n",
       "|    27   |     2      |\n",
       "|    24   |     4      |\n",
       "|    1    |     5      |\n",
       "+---------+------------+"
      ]
     },
     "execution_count": 13,
     "metadata": {},
     "output_type": "execute_result"
    }
   ],
   "source": [
    "%sql SELECT * FROM agent_rank_tracker ORDER BY agent_rank LIMIT 5"
   ]
  },
  {
   "cell_type": "markdown",
   "id": "d438135f-2169-4500-be42-bd7c5f4e1f5b",
   "metadata": {},
   "source": [
    "## Step 4: Created `new_customer` table"
   ]
  },
  {
   "cell_type": "code",
   "execution_count": 14,
   "id": "79b0c820-8080-43a6-b581-b3d48e8d1706",
   "metadata": {},
   "outputs": [
    {
     "data": {
      "text/html": [
       "<span style=\"None\">Running query in &#x27;sqlite:///my_database.db&#x27;</span>"
      ],
      "text/plain": [
       "Running query in 'sqlite:///my_database.db'"
      ]
     },
     "metadata": {},
     "output_type": "display_data"
    },
    {
     "data": {
      "text/html": [
       "<table>\n",
       "    <thead>\n",
       "        <tr>\n",
       "        </tr>\n",
       "    </thead>\n",
       "    <tbody>\n",
       "    </tbody>\n",
       "</table>"
      ],
      "text/plain": [
       "++\n",
       "||\n",
       "++\n",
       "++"
      ]
     },
     "execution_count": 14,
     "metadata": {},
     "output_type": "execute_result"
    }
   ],
   "source": [
    "%%sql\n",
    "\n",
    "CREATE TABLE new_customer (\n",
    "    CustomerName VARCHAR(100) PRIMARY KEY,\n",
    "    CommunicationMethod VARCHAR(50) NOT NULL CHECK (CommunicationMethod IN ('Phone Call', 'Text')),\n",
    "    LeadSource VARCHAR(50) NOT NULL CHECK (LeadSource IN ('Organic', 'Bought')),\n",
    "    Destination VARCHAR(50) NOT NULL CHECK (Destination IN ('Mars', 'Europa', 'Titan', 'Venus', 'Ganymede')),\n",
    "    LaunchLocation VARCHAR(200) NOT NULL CHECK (LaunchLocation IN ('Dallas-Fort Worth Launch Complex', \n",
    "    'New York Orbital Gateway', 'Dubai Interplanetary Hub',\n",
    "    'Tokyo Spaceport Terminal', 'London Ascension Platform', 'Sydney Stellar Port'))\n",
    "    )"
   ]
  },
  {
   "cell_type": "markdown",
   "id": "7cbd411d-8f9d-4dd5-82a4-529111cf3e78",
   "metadata": {},
   "source": [
    "## Step 5: Defined triggers"
   ]
  },
  {
   "cell_type": "markdown",
   "id": "afde5769-08a9-44ce-99fc-8e08e6e9ddfc",
   "metadata": {},
   "source": [
    "### Updated assignment_history"
   ]
  },
  {
   "cell_type": "code",
   "execution_count": 15,
   "id": "c281aa56-66e4-4866-ae0d-06c9406f6202",
   "metadata": {},
   "outputs": [
    {
     "data": {
      "text/html": [
       "<span style=\"None\">Running query in &#x27;sqlite:///my_database.db&#x27;</span>"
      ],
      "text/plain": [
       "Running query in 'sqlite:///my_database.db'"
      ]
     },
     "metadata": {},
     "output_type": "display_data"
    },
    {
     "data": {
      "text/html": [
       "<table>\n",
       "    <thead>\n",
       "        <tr>\n",
       "        </tr>\n",
       "    </thead>\n",
       "    <tbody>\n",
       "    </tbody>\n",
       "</table>"
      ],
      "text/plain": [
       "++\n",
       "||\n",
       "++\n",
       "++"
      ]
     },
     "execution_count": 15,
     "metadata": {},
     "output_type": "execute_result"
    }
   ],
   "source": [
    "%%sql\n",
    "\n",
    "CREATE TRIGGER updating_assignment_history\n",
    "AFTER INSERT ON new_customer\n",
    "FOR EACH ROW\n",
    "BEGIN\n",
    "\n",
    "    -- Insert assignment_history\n",
    "    INSERT INTO assignment_history (\n",
    "                CustomerName,\n",
    "                AssignmentID,\n",
    "                CommunicationMethod,\n",
    "                LeadSource,\n",
    "                AssignedDateTime,\n",
    "                AgentID\n",
    "                )\n",
    "    VALUES (\n",
    "            NEW.CustomerName,\n",
    "            (SELECT IFNULL(MAX(AssignmentID), 0) + 1 FROM assignment_history),\n",
    "                    NEW.CommunicationMethod,\n",
    "                    NEW.LeadSource,\n",
    "                    datetime('now', '+56 years'),\n",
    "            (SELECT AgentID FROM agent_rank_tracker ORDER BY agent_rank LIMIT 1)\n",
    "    );\n",
    "END;"
   ]
  },
  {
   "cell_type": "markdown",
   "id": "84662b5f-d58a-4c25-885a-481d7c5acb56",
   "metadata": {},
   "source": [
    "### Inserted into bookings_2"
   ]
  },
  {
   "cell_type": "code",
   "execution_count": 16,
   "id": "2fa10f9c-19f3-4989-868c-aa75717244df",
   "metadata": {},
   "outputs": [
    {
     "data": {
      "text/html": [
       "<span style=\"None\">Running query in &#x27;sqlite:///my_database.db&#x27;</span>"
      ],
      "text/plain": [
       "Running query in 'sqlite:///my_database.db'"
      ]
     },
     "metadata": {},
     "output_type": "display_data"
    },
    {
     "data": {
      "text/html": [
       "<table>\n",
       "    <thead>\n",
       "        <tr>\n",
       "        </tr>\n",
       "    </thead>\n",
       "    <tbody>\n",
       "    </tbody>\n",
       "</table>"
      ],
      "text/plain": [
       "++\n",
       "||\n",
       "++\n",
       "++"
      ]
     },
     "execution_count": 16,
     "metadata": {},
     "output_type": "execute_result"
    }
   ],
   "source": [
    "%%sql\n",
    "\n",
    "CREATE TRIGGER updating_bookings_2\n",
    "AFTER INSERT ON assignment_history\n",
    "FOR EACH ROW\n",
    "BEGIN\n",
    "    \n",
    "    INSERT INTO bookings_2 (\n",
    "                BookingID,\n",
    "                AssignmentID,\n",
    "                Destination,\n",
    "                LaunchLocation,\n",
    "                BookingStatus,\n",
    "                AgentID\n",
    "                )\n",
    "    VALUES (\n",
    "            (SELECT IFNULL(MAX(BookingID), 0) + 1 FROM bookings_2),\n",
    "                    NEW.AssignmentID,\n",
    "                    (SELECT Destination FROM new_customer WHERE CustomerName = NEW.CustomerName),\n",
    "                    (SELECT LaunchLocation FROM new_customer WHERE CustomerName = NEW.CustomerName),\n",
    "                    'Pending',\n",
    "                    NEW.AgentID\n",
    "            );\n",
    "END;"
   ]
  },
  {
   "cell_type": "markdown",
   "id": "b6199069-c821-410c-ab16-9eef86690fa5",
   "metadata": {},
   "source": [
    "### Updated load if new row was added to table `bookings_2`"
   ]
  },
  {
   "cell_type": "code",
   "execution_count": 17,
   "id": "2cc595e3-7293-4671-8266-e6910e7fcfd9",
   "metadata": {},
   "outputs": [
    {
     "data": {
      "text/html": [
       "<span style=\"None\">Running query in &#x27;sqlite:///my_database.db&#x27;</span>"
      ],
      "text/plain": [
       "Running query in 'sqlite:///my_database.db'"
      ]
     },
     "metadata": {},
     "output_type": "display_data"
    },
    {
     "data": {
      "text/html": [
       "<table>\n",
       "    <thead>\n",
       "        <tr>\n",
       "        </tr>\n",
       "    </thead>\n",
       "    <tbody>\n",
       "    </tbody>\n",
       "</table>"
      ],
      "text/plain": [
       "++\n",
       "||\n",
       "++\n",
       "++"
      ]
     },
     "execution_count": 17,
     "metadata": {},
     "output_type": "execute_result"
    }
   ],
   "source": [
    "%%sql\n",
    "\n",
    "CREATE TRIGGER updating_loads\n",
    "AFTER INSERT ON bookings_2\n",
    "FOR EACH ROW\n",
    "BEGIN\n",
    "    UPDATE space_travel_agents\n",
    "    SET load = load + 1\n",
    "    WHERE AgentID = NEW.AgentID AND NEW.BookingStatus = 'Pending';\n",
    "END;"
   ]
  },
  {
   "cell_type": "markdown",
   "id": "35fa2468-99c3-4bc1-ab01-e8dcb6866cbb",
   "metadata": {},
   "source": [
    "### Changed `BookingStatus` from \"Pending\" to \"Cancelled\" or \"Confirmed\""
   ]
  },
  {
   "cell_type": "code",
   "execution_count": 18,
   "id": "b3d1b960-191a-4696-b9d0-7aa0531655c3",
   "metadata": {},
   "outputs": [
    {
     "data": {
      "text/html": [
       "<span style=\"None\">Running query in &#x27;sqlite:///my_database.db&#x27;</span>"
      ],
      "text/plain": [
       "Running query in 'sqlite:///my_database.db'"
      ]
     },
     "metadata": {},
     "output_type": "display_data"
    },
    {
     "data": {
      "text/html": [
       "<table>\n",
       "    <thead>\n",
       "        <tr>\n",
       "        </tr>\n",
       "    </thead>\n",
       "    <tbody>\n",
       "    </tbody>\n",
       "</table>"
      ],
      "text/plain": [
       "++\n",
       "||\n",
       "++\n",
       "++"
      ]
     },
     "execution_count": 18,
     "metadata": {},
     "output_type": "execute_result"
    }
   ],
   "source": [
    "%%sql\n",
    "\n",
    "CREATE TRIGGER update_loads_subtracting\n",
    "AFTER UPDATE OF BookingStatus ON bookings_2\n",
    "FOR EACH ROW\n",
    "    WHEN OLD.BookingStatus = 'Pending' AND NEW.BookingStatus IN ('Confirmed', 'Cancelled')\n",
    "    BEGIN\n",
    "        UPDATE space_travel_agents\n",
    "        SET load = MAX(load - 1, 0)\n",
    "        WHERE AgentID = NEW.AgentID;\n",
    "    END;"
   ]
  },
  {
   "cell_type": "markdown",
   "id": "9dd371a2-1368-4101-a350-7811d1241d2e",
   "metadata": {},
   "source": [
    "### Recomputed agent_rank"
   ]
  },
  {
   "cell_type": "code",
   "execution_count": 19,
   "id": "197cdb74-59c6-4501-87f0-715b2c978b71",
   "metadata": {},
   "outputs": [
    {
     "data": {
      "text/html": [
       "<span style=\"None\">Running query in &#x27;sqlite:///my_database.db&#x27;</span>"
      ],
      "text/plain": [
       "Running query in 'sqlite:///my_database.db'"
      ]
     },
     "metadata": {},
     "output_type": "display_data"
    },
    {
     "data": {
      "text/html": [
       "<table>\n",
       "    <thead>\n",
       "        <tr>\n",
       "        </tr>\n",
       "    </thead>\n",
       "    <tbody>\n",
       "    </tbody>\n",
       "</table>"
      ],
      "text/plain": [
       "++\n",
       "||\n",
       "++\n",
       "++"
      ]
     },
     "execution_count": 19,
     "metadata": {},
     "output_type": "execute_result"
    }
   ],
   "source": [
    "%%sql\n",
    "    \n",
    "CREATE TRIGGER recompute_agent_rank_on_load\n",
    "AFTER UPDATE OF load ON space_travel_agents\n",
    "FOR EACH ROW\n",
    "BEGIN\n",
    "    DELETE FROM agent_rank_tracker;\n",
    "\n",
    "    INSERT INTO agent_rank_tracker (AgentID, agent_rank)\n",
    "    SELECT a.AgentID,\n",
    "            (SELECT COUNT(*)\n",
    "                FROM space_travel_agents AS b\n",
    "                WHERE b.load < a.load\n",
    "                OR (b.load = a.load AND b.YearsOfService > a.YearsOfService)\n",
    "                OR (b.load = a.load AND b.YearsOfService = a.YearsOfService\n",
    "                AND b.AverageCustomerServiceRating > a.AverageCustomerServiceRating)\n",
    "            ) + 1\n",
    "FROM space_travel_agents AS a;\n",
    "END;"
   ]
  },
  {
   "cell_type": "markdown",
   "id": "ac126637-a87f-4ae8-840b-2a2d3288a239",
   "metadata": {},
   "source": [
    "## Step 6: Evaluated the algorithm"
   ]
  },
  {
   "cell_type": "markdown",
   "id": "8aa08451-eadc-4430-b217-9e8d5f7be35b",
   "metadata": {},
   "source": [
    "### Scenario 1: Inserted new rows to `new_customer`"
   ]
  },
  {
   "cell_type": "markdown",
   "id": "800710d2-fc9b-4741-ad85-8d823f9a767e",
   "metadata": {},
   "source": [
    "Prior to inserting new records, the top five agents ranked were `AgentIDs` 6, 3, 27, 24, and 1."
   ]
  },
  {
   "cell_type": "code",
   "execution_count": 20,
   "id": "68a24dbd-494f-4fd9-a34b-a80a1a8ff949",
   "metadata": {},
   "outputs": [
    {
     "data": {
      "text/html": [
       "<span style=\"None\">Running query in &#x27;sqlite:///my_database.db&#x27;</span>"
      ],
      "text/plain": [
       "Running query in 'sqlite:///my_database.db'"
      ]
     },
     "metadata": {},
     "output_type": "display_data"
    },
    {
     "data": {
      "text/html": [
       "<table>\n",
       "    <thead>\n",
       "        <tr>\n",
       "            <th>AgentID</th>\n",
       "            <th>agent_rank</th>\n",
       "        </tr>\n",
       "    </thead>\n",
       "    <tbody>\n",
       "        <tr>\n",
       "            <td>6</td>\n",
       "            <td>1</td>\n",
       "        </tr>\n",
       "        <tr>\n",
       "            <td>3</td>\n",
       "            <td>2</td>\n",
       "        </tr>\n",
       "        <tr>\n",
       "            <td>27</td>\n",
       "            <td>2</td>\n",
       "        </tr>\n",
       "        <tr>\n",
       "            <td>24</td>\n",
       "            <td>4</td>\n",
       "        </tr>\n",
       "        <tr>\n",
       "            <td>1</td>\n",
       "            <td>5</td>\n",
       "        </tr>\n",
       "    </tbody>\n",
       "</table>"
      ],
      "text/plain": [
       "+---------+------------+\n",
       "| AgentID | agent_rank |\n",
       "+---------+------------+\n",
       "|    6    |     1      |\n",
       "|    3    |     2      |\n",
       "|    27   |     2      |\n",
       "|    24   |     4      |\n",
       "|    1    |     5      |\n",
       "+---------+------------+"
      ]
     },
     "execution_count": 20,
     "metadata": {},
     "output_type": "execute_result"
    }
   ],
   "source": [
    "%sql SELECT * FROM agent_rank_tracker ORDER BY agent_rank LIMIT 5"
   ]
  },
  {
   "cell_type": "markdown",
   "id": "8e9c989b-87b7-43cb-bfcc-8dc04ba22535",
   "metadata": {},
   "source": [
    "I added two rows to the new_customer table. \n",
    "- Kate Nguyen, located in Houston, TX, contacted our company via text. Her friend had previously taken a trip with us, and she expressed interest in traveling to Mars. The closest launch location for her was the Dallas–Fort Worth Launch Complex.\n",
    "- John Doe called us from Sydney after discovering our company through Facebook Ads. He was interested in a trip to Europa departing from the Sydney Stellar Port."
   ]
  },
  {
   "cell_type": "code",
   "execution_count": 21,
   "id": "e45c9646-2a7a-4e48-b72f-bf3a2b816400",
   "metadata": {},
   "outputs": [
    {
     "data": {
      "text/html": [
       "<span style=\"None\">Running query in &#x27;sqlite:///my_database.db&#x27;</span>"
      ],
      "text/plain": [
       "Running query in 'sqlite:///my_database.db'"
      ]
     },
     "metadata": {},
     "output_type": "display_data"
    },
    {
     "data": {
      "text/html": [
       "<span style=\"color: green\">2 rows affected.</span>"
      ],
      "text/plain": [
       "2 rows affected."
      ]
     },
     "metadata": {},
     "output_type": "display_data"
    },
    {
     "data": {
      "text/html": [
       "<table>\n",
       "    <thead>\n",
       "        <tr>\n",
       "        </tr>\n",
       "    </thead>\n",
       "    <tbody>\n",
       "    </tbody>\n",
       "</table>"
      ],
      "text/plain": [
       "++\n",
       "||\n",
       "++\n",
       "++"
      ]
     },
     "execution_count": 21,
     "metadata": {},
     "output_type": "execute_result"
    }
   ],
   "source": [
    "%%sql\n",
    "\n",
    "INSERT INTO new_customer (\n",
    "                        CustomerName, \n",
    "                        CommunicationMethod,\n",
    "                        LeadSource, \n",
    "                        Destination, \n",
    "                        LaunchLocation\n",
    "                        )\n",
    "VALUES (\n",
    "        'Kate Nguyen', \n",
    "        'Text', \n",
    "        'Organic', \n",
    "        'Mars', \n",
    "        'Dallas-Fort Worth Launch Complex'),\n",
    "        (\n",
    "        'Jonh Doe', \n",
    "        'Phone Call', \n",
    "        'Bought', \n",
    "        'Europa', \n",
    "        'Sydney Stellar Port'\n",
    "        )"
   ]
  },
  {
   "cell_type": "markdown",
   "id": "97c9d780-15a2-4af8-a65d-452ca2e148ea",
   "metadata": {},
   "source": [
    "The `assignment_history` table was updated correctly, including the increment of `AssignmentID`. Notably, the top two agents, `AgentID` 6 and `AgentID` 3, were correctly assigned to Kate and John, respectively. Additionally, the AssignedDateTime field accurately reflected the intended future timestamp."
   ]
  },
  {
   "cell_type": "code",
   "execution_count": 22,
   "id": "59e48ed7-2950-412d-8eaa-330a9745e1c7",
   "metadata": {},
   "outputs": [
    {
     "data": {
      "text/html": [
       "<span style=\"None\">Running query in &#x27;sqlite:///my_database.db&#x27;</span>"
      ],
      "text/plain": [
       "Running query in 'sqlite:///my_database.db'"
      ]
     },
     "metadata": {},
     "output_type": "display_data"
    },
    {
     "data": {
      "text/html": [
       "<table>\n",
       "    <thead>\n",
       "        <tr>\n",
       "            <th>AssignmentID</th>\n",
       "            <th>AgentID</th>\n",
       "            <th>CustomerName</th>\n",
       "            <th>CommunicationMethod</th>\n",
       "            <th>LeadSource</th>\n",
       "            <th>AssignedDateTime</th>\n",
       "        </tr>\n",
       "    </thead>\n",
       "    <tbody>\n",
       "        <tr>\n",
       "            <td>452</td>\n",
       "            <td>3</td>\n",
       "            <td>Jonh Doe</td>\n",
       "            <td>Phone Call</td>\n",
       "            <td>Bought</td>\n",
       "            <td>2081-07-10 23:16:20</td>\n",
       "        </tr>\n",
       "        <tr>\n",
       "            <td>451</td>\n",
       "            <td>6</td>\n",
       "            <td>Kate Nguyen</td>\n",
       "            <td>Text</td>\n",
       "            <td>Organic</td>\n",
       "            <td>2081-07-10 23:16:20</td>\n",
       "        </tr>\n",
       "        <tr>\n",
       "            <td>450</td>\n",
       "            <td>11</td>\n",
       "            <td>Mira Cruz</td>\n",
       "            <td>Phone Call</td>\n",
       "            <td>Bought</td>\n",
       "            <td>2081-04-10 15:00:00</td>\n",
       "        </tr>\n",
       "        <tr>\n",
       "            <td>449</td>\n",
       "            <td>20</td>\n",
       "            <td>Arlo King</td>\n",
       "            <td>Text</td>\n",
       "            <td>Organic</td>\n",
       "            <td>2081-04-10 13:50:00</td>\n",
       "        </tr>\n",
       "        <tr>\n",
       "            <td>448</td>\n",
       "            <td>2</td>\n",
       "            <td>Tinsley Ross</td>\n",
       "            <td>Text</td>\n",
       "            <td>Bought</td>\n",
       "            <td>2081-04-10 12:40:00</td>\n",
       "        </tr>\n",
       "        <tr>\n",
       "            <td>447</td>\n",
       "            <td>16</td>\n",
       "            <td>Elowen Bell</td>\n",
       "            <td>Phone Call</td>\n",
       "            <td>Organic</td>\n",
       "            <td>2081-04-10 11:30:00</td>\n",
       "        </tr>\n",
       "        <tr>\n",
       "            <td>446</td>\n",
       "            <td>24</td>\n",
       "            <td>Callahan Rivera</td>\n",
       "            <td>Text</td>\n",
       "            <td>Bought</td>\n",
       "            <td>2081-04-10 10:20:00</td>\n",
       "        </tr>\n",
       "        <tr>\n",
       "            <td>445</td>\n",
       "            <td>7</td>\n",
       "            <td>Kylan Scott</td>\n",
       "            <td>Text</td>\n",
       "            <td>Organic</td>\n",
       "            <td>2081-04-10 09:10:00</td>\n",
       "        </tr>\n",
       "        <tr>\n",
       "            <td>444</td>\n",
       "            <td>28</td>\n",
       "            <td>Zya Lewis</td>\n",
       "            <td>Phone Call</td>\n",
       "            <td>Bought</td>\n",
       "            <td>2081-04-09 14:55:00</td>\n",
       "        </tr>\n",
       "        <tr>\n",
       "            <td>443</td>\n",
       "            <td>13</td>\n",
       "            <td>Azalea Brooks</td>\n",
       "            <td>Text</td>\n",
       "            <td>Organic</td>\n",
       "            <td>2081-04-09 13:45:00</td>\n",
       "        </tr>\n",
       "    </tbody>\n",
       "</table>\n",
       "<span style=\"font-style:italic;text-align:center;\">Truncated to <a href=\"https://jupysql.ploomber.io/en/latest/api/configuration.html#displaylimit\">displaylimit</a> of 10.</span>"
      ],
      "text/plain": [
       "+--------------+---------+-----------------+---------------------+------------+---------------------+\n",
       "| AssignmentID | AgentID |   CustomerName  | CommunicationMethod | LeadSource |   AssignedDateTime  |\n",
       "+--------------+---------+-----------------+---------------------+------------+---------------------+\n",
       "|     452      |    3    |     Jonh Doe    |      Phone Call     |   Bought   | 2081-07-10 23:16:20 |\n",
       "|     451      |    6    |   Kate Nguyen   |         Text        |  Organic   | 2081-07-10 23:16:20 |\n",
       "|     450      |    11   |    Mira Cruz    |      Phone Call     |   Bought   | 2081-04-10 15:00:00 |\n",
       "|     449      |    20   |    Arlo King    |         Text        |  Organic   | 2081-04-10 13:50:00 |\n",
       "|     448      |    2    |   Tinsley Ross  |         Text        |   Bought   | 2081-04-10 12:40:00 |\n",
       "|     447      |    16   |   Elowen Bell   |      Phone Call     |  Organic   | 2081-04-10 11:30:00 |\n",
       "|     446      |    24   | Callahan Rivera |         Text        |   Bought   | 2081-04-10 10:20:00 |\n",
       "|     445      |    7    |   Kylan Scott   |         Text        |  Organic   | 2081-04-10 09:10:00 |\n",
       "|     444      |    28   |    Zya Lewis    |      Phone Call     |   Bought   | 2081-04-09 14:55:00 |\n",
       "|     443      |    13   |  Azalea Brooks  |         Text        |  Organic   | 2081-04-09 13:45:00 |\n",
       "+--------------+---------+-----------------+---------------------+------------+---------------------+\n",
       "Truncated to displaylimit of 10."
      ]
     },
     "execution_count": 22,
     "metadata": {},
     "output_type": "execute_result"
    }
   ],
   "source": [
    "%sql SELECT * FROM assignment_history ORDER BY AssignmentID DESC"
   ]
  },
  {
   "cell_type": "markdown",
   "id": "9e5efa3b-3ae9-4134-8680-8a9cbf576c09",
   "metadata": {},
   "source": [
    "Reviewing the `agent_rank_tracker`, the `agent_rank` values were updated correctly. `AgentID` 27, which was previously ranked third before the `new_customer` table was updated, moved to first on the list."
   ]
  },
  {
   "cell_type": "code",
   "execution_count": 23,
   "id": "347a913a-b4de-4fa2-b629-fcdb352fee0e",
   "metadata": {},
   "outputs": [
    {
     "data": {
      "text/html": [
       "<span style=\"None\">Running query in &#x27;sqlite:///my_database.db&#x27;</span>"
      ],
      "text/plain": [
       "Running query in 'sqlite:///my_database.db'"
      ]
     },
     "metadata": {},
     "output_type": "display_data"
    },
    {
     "data": {
      "text/html": [
       "<table>\n",
       "    <thead>\n",
       "        <tr>\n",
       "            <th>AgentID</th>\n",
       "            <th>agent_rank</th>\n",
       "        </tr>\n",
       "    </thead>\n",
       "    <tbody>\n",
       "        <tr>\n",
       "            <td>27</td>\n",
       "            <td>1</td>\n",
       "        </tr>\n",
       "        <tr>\n",
       "            <td>24</td>\n",
       "            <td>2</td>\n",
       "        </tr>\n",
       "        <tr>\n",
       "            <td>1</td>\n",
       "            <td>3</td>\n",
       "        </tr>\n",
       "        <tr>\n",
       "            <td>16</td>\n",
       "            <td>3</td>\n",
       "        </tr>\n",
       "        <tr>\n",
       "            <td>19</td>\n",
       "            <td>5</td>\n",
       "        </tr>\n",
       "        <tr>\n",
       "            <td>11</td>\n",
       "            <td>6</td>\n",
       "        </tr>\n",
       "        <tr>\n",
       "            <td>25</td>\n",
       "            <td>7</td>\n",
       "        </tr>\n",
       "        <tr>\n",
       "            <td>4</td>\n",
       "            <td>8</td>\n",
       "        </tr>\n",
       "        <tr>\n",
       "            <td>23</td>\n",
       "            <td>9</td>\n",
       "        </tr>\n",
       "        <tr>\n",
       "            <td>29</td>\n",
       "            <td>10</td>\n",
       "        </tr>\n",
       "    </tbody>\n",
       "</table>\n",
       "<span style=\"font-style:italic;text-align:center;\">Truncated to <a href=\"https://jupysql.ploomber.io/en/latest/api/configuration.html#displaylimit\">displaylimit</a> of 10.</span>"
      ],
      "text/plain": [
       "+---------+------------+\n",
       "| AgentID | agent_rank |\n",
       "+---------+------------+\n",
       "|    27   |     1      |\n",
       "|    24   |     2      |\n",
       "|    1    |     3      |\n",
       "|    16   |     3      |\n",
       "|    19   |     5      |\n",
       "|    11   |     6      |\n",
       "|    25   |     7      |\n",
       "|    4    |     8      |\n",
       "|    23   |     9      |\n",
       "|    29   |     10     |\n",
       "+---------+------------+\n",
       "Truncated to displaylimit of 10."
      ]
     },
     "execution_count": 23,
     "metadata": {},
     "output_type": "execute_result"
    }
   ],
   "source": [
    "%sql SELECT * FROM agent_rank_tracker ORDER BY agent_rank LIMIT 10"
   ]
  },
  {
   "cell_type": "markdown",
   "id": "e0a48042-6a98-4a24-aca8-f9d9532b777e",
   "metadata": {},
   "source": [
    "### Scenario 2: Changed `BookingStatus` from \"Pending\" to \"Cancelled\""
   ]
  },
  {
   "cell_type": "markdown",
   "id": "aeb9a9b6-9cef-40e1-af64-7b1583465483",
   "metadata": {},
   "source": [
    "I reselected AgentID 3, who was ranked 17 after accepting a new request. Upon removing the assigned load, AgentID 3 returned to the top rank. This scenario would serve as a valuable sanity check, confirming the accuracy of the ranking logic."
   ]
  },
  {
   "cell_type": "code",
   "execution_count": 24,
   "id": "98dca6d2-ecfa-463a-a780-3a9bc6e9dbe1",
   "metadata": {},
   "outputs": [
    {
     "data": {
      "text/html": [
       "<span style=\"None\">Running query in &#x27;sqlite:///my_database.db&#x27;</span>"
      ],
      "text/plain": [
       "Running query in 'sqlite:///my_database.db'"
      ]
     },
     "metadata": {},
     "output_type": "display_data"
    },
    {
     "data": {
      "text/html": [
       "<table>\n",
       "    <thead>\n",
       "        <tr>\n",
       "            <th>AgentID</th>\n",
       "            <th>agent_rank</th>\n",
       "        </tr>\n",
       "    </thead>\n",
       "    <tbody>\n",
       "        <tr>\n",
       "            <td>3</td>\n",
       "            <td>17</td>\n",
       "        </tr>\n",
       "    </tbody>\n",
       "</table>"
      ],
      "text/plain": [
       "+---------+------------+\n",
       "| AgentID | agent_rank |\n",
       "+---------+------------+\n",
       "|    3    |     17     |\n",
       "+---------+------------+"
      ]
     },
     "execution_count": 24,
     "metadata": {},
     "output_type": "execute_result"
    }
   ],
   "source": [
    "%sql SELECT * FROM agent_rank_tracker WHERE AgentID = 3"
   ]
  },
  {
   "cell_type": "markdown",
   "id": "16c49276-beed-42a6-8912-5c6fc2664b9b",
   "metadata": {},
   "source": [
    "Changed the `BookingStatus` for `AgentID` 3 from 'Pending' to 'Cancelled'."
   ]
  },
  {
   "cell_type": "code",
   "execution_count": 25,
   "id": "32287c3b-a0ae-43e2-a415-649c43999255",
   "metadata": {},
   "outputs": [
    {
     "data": {
      "text/html": [
       "<span style=\"None\">Running query in &#x27;sqlite:///my_database.db&#x27;</span>"
      ],
      "text/plain": [
       "Running query in 'sqlite:///my_database.db'"
      ]
     },
     "metadata": {},
     "output_type": "display_data"
    },
    {
     "data": {
      "text/html": [
       "<table>\n",
       "    <thead>\n",
       "        <tr>\n",
       "            <th>BookingID</th>\n",
       "            <th>AssignmentID</th>\n",
       "            <th>BookingCompleteDate</th>\n",
       "            <th>CancelledDate</th>\n",
       "            <th>Destination</th>\n",
       "            <th>Package</th>\n",
       "            <th>LaunchLocation</th>\n",
       "            <th>DestinationRevenue</th>\n",
       "            <th>PackageRevenue</th>\n",
       "            <th>TotalRevenue</th>\n",
       "            <th>BookingStatus</th>\n",
       "            <th>AgentID</th>\n",
       "        </tr>\n",
       "    </thead>\n",
       "    <tbody>\n",
       "        <tr>\n",
       "            <td>414</td>\n",
       "            <td>452</td>\n",
       "            <td>None</td>\n",
       "            <td>None</td>\n",
       "            <td>Europa</td>\n",
       "            <td>None</td>\n",
       "            <td>Sydney Stellar Port</td>\n",
       "            <td>None</td>\n",
       "            <td>None</td>\n",
       "            <td>None</td>\n",
       "            <td>Pending</td>\n",
       "            <td>3</td>\n",
       "        </tr>\n",
       "    </tbody>\n",
       "</table>"
      ],
      "text/plain": [
       "+-----------+--------------+---------------------+---------------+-------------+---------+---------------------+--------------------+----------------+--------------+---------------+---------+\n",
       "| BookingID | AssignmentID | BookingCompleteDate | CancelledDate | Destination | Package |    LaunchLocation   | DestinationRevenue | PackageRevenue | TotalRevenue | BookingStatus | AgentID |\n",
       "+-----------+--------------+---------------------+---------------+-------------+---------+---------------------+--------------------+----------------+--------------+---------------+---------+\n",
       "|    414    |     452      |         None        |      None     |    Europa   |   None  | Sydney Stellar Port |        None        |      None      |     None     |    Pending    |    3    |\n",
       "+-----------+--------------+---------------------+---------------+-------------+---------+---------------------+--------------------+----------------+--------------+---------------+---------+"
      ]
     },
     "execution_count": 25,
     "metadata": {},
     "output_type": "execute_result"
    }
   ],
   "source": [
    "%%sql\n",
    "\n",
    "SELECT * \n",
    "FROM bookings_2\n",
    "WHERE AgentID = 3 AND BookingStatus = 'Pending'"
   ]
  },
  {
   "cell_type": "markdown",
   "id": "3feb65c2-0dd3-4741-918a-ed641bfad68d",
   "metadata": {},
   "source": [
    "Let's change the BookingStatus of BookingID = 414 into 'Cancelled'."
   ]
  },
  {
   "cell_type": "code",
   "execution_count": 26,
   "id": "861265d5-ab36-4291-8cfa-f4e01ecb2b66",
   "metadata": {},
   "outputs": [
    {
     "data": {
      "text/html": [
       "<span style=\"None\">Running query in &#x27;sqlite:///my_database.db&#x27;</span>"
      ],
      "text/plain": [
       "Running query in 'sqlite:///my_database.db'"
      ]
     },
     "metadata": {},
     "output_type": "display_data"
    },
    {
     "data": {
      "text/html": [
       "<span style=\"color: green\">1 rows affected.</span>"
      ],
      "text/plain": [
       "1 rows affected."
      ]
     },
     "metadata": {},
     "output_type": "display_data"
    },
    {
     "data": {
      "text/html": [
       "<table>\n",
       "    <thead>\n",
       "        <tr>\n",
       "            <th>BookingID</th>\n",
       "            <th>AssignmentID</th>\n",
       "            <th>BookingCompleteDate</th>\n",
       "            <th>CancelledDate</th>\n",
       "            <th>Destination</th>\n",
       "            <th>Package</th>\n",
       "            <th>LaunchLocation</th>\n",
       "            <th>DestinationRevenue</th>\n",
       "            <th>PackageRevenue</th>\n",
       "            <th>TotalRevenue</th>\n",
       "            <th>BookingStatus</th>\n",
       "            <th>AgentID</th>\n",
       "        </tr>\n",
       "    </thead>\n",
       "    <tbody>\n",
       "        <tr>\n",
       "            <td>414</td>\n",
       "            <td>452</td>\n",
       "            <td>None</td>\n",
       "            <td>None</td>\n",
       "            <td>Europa</td>\n",
       "            <td>None</td>\n",
       "            <td>Sydney Stellar Port</td>\n",
       "            <td>None</td>\n",
       "            <td>None</td>\n",
       "            <td>None</td>\n",
       "            <td>Cancelled</td>\n",
       "            <td>3</td>\n",
       "        </tr>\n",
       "    </tbody>\n",
       "</table>"
      ],
      "text/plain": [
       "+-----------+--------------+---------------------+---------------+-------------+---------+---------------------+--------------------+----------------+--------------+---------------+---------+\n",
       "| BookingID | AssignmentID | BookingCompleteDate | CancelledDate | Destination | Package |    LaunchLocation   | DestinationRevenue | PackageRevenue | TotalRevenue | BookingStatus | AgentID |\n",
       "+-----------+--------------+---------------------+---------------+-------------+---------+---------------------+--------------------+----------------+--------------+---------------+---------+\n",
       "|    414    |     452      |         None        |      None     |    Europa   |   None  | Sydney Stellar Port |        None        |      None      |     None     |   Cancelled   |    3    |\n",
       "+-----------+--------------+---------------------+---------------+-------------+---------+---------------------+--------------------+----------------+--------------+---------------+---------+"
      ]
     },
     "execution_count": 26,
     "metadata": {},
     "output_type": "execute_result"
    }
   ],
   "source": [
    "%%sql\n",
    "\n",
    "UPDATE bookings_2\n",
    "SET BookingStatus = 'Cancelled'\n",
    "WHERE AgentID = 3 AND BookingID = 414;\n",
    "\n",
    "SELECT * \n",
    "FROM bookings_2\n",
    "WHERE AgentID = 3 AND BookingID = 414;"
   ]
  },
  {
   "cell_type": "markdown",
   "id": "836f607c-1a1d-422d-b906-5fd783189ca1",
   "metadata": {},
   "source": [
    "Following the status change from 'Pending' to 'Cancelled' for `AgentID` 3, the `load` value in `space_travel_agents` was successfully decremented, reflecting the agent’s completion of their customer assignment. As a result, `AgentID` 3 reclaimed the top rank in the system’s dynamic `agent_rank tracker`. This change demonstrated that both the trigger logic and ranking recalculation mechanisms were functioning as expected, ensuring agents are evaluated and prioritized in real time as workload conditions evolve."
   ]
  },
  {
   "cell_type": "markdown",
   "id": "05f20cc9-352f-4f66-9546-a05f1074958c",
   "metadata": {},
   "source": [
    "Let's check the load"
   ]
  },
  {
   "cell_type": "code",
   "execution_count": 27,
   "id": "3ca7bdee-433a-43a8-921d-604cfcc064df",
   "metadata": {},
   "outputs": [
    {
     "data": {
      "text/html": [
       "<span style=\"None\">Running query in &#x27;sqlite:///my_database.db&#x27;</span>"
      ],
      "text/plain": [
       "Running query in 'sqlite:///my_database.db'"
      ]
     },
     "metadata": {},
     "output_type": "display_data"
    },
    {
     "data": {
      "text/html": [
       "<table>\n",
       "    <thead>\n",
       "        <tr>\n",
       "            <th>AgentID</th>\n",
       "            <th>FirstName</th>\n",
       "            <th>LastName</th>\n",
       "            <th>Email</th>\n",
       "            <th>JobTitle</th>\n",
       "            <th>DepartmentName</th>\n",
       "            <th>ManagerName</th>\n",
       "            <th>SpaceLicenseNumber</th>\n",
       "            <th>YearsOfService</th>\n",
       "            <th>AverageCustomerServiceRating</th>\n",
       "            <th>load</th>\n",
       "            <th>agent_rank</th>\n",
       "        </tr>\n",
       "    </thead>\n",
       "    <tbody>\n",
       "        <tr>\n",
       "            <td>3</td>\n",
       "            <td>Nova</td>\n",
       "            <td>Singh</td>\n",
       "            <td>nova.singh@astra2081.com</td>\n",
       "            <td>Senior Space Travel Agent</td>\n",
       "            <td>Premium Bookings</td>\n",
       "            <td>Zane Holloway</td>\n",
       "            <td>SL-2081-003</td>\n",
       "            <td>15</td>\n",
       "            <td>4.0</td>\n",
       "            <td>0</td>\n",
       "            <td>2</td>\n",
       "        </tr>\n",
       "    </tbody>\n",
       "</table>"
      ],
      "text/plain": [
       "+---------+-----------+----------+--------------------------+---------------------------+------------------+---------------+--------------------+----------------+------------------------------+------+------------+\n",
       "| AgentID | FirstName | LastName |          Email           |          JobTitle         |  DepartmentName  |  ManagerName  | SpaceLicenseNumber | YearsOfService | AverageCustomerServiceRating | load | agent_rank |\n",
       "+---------+-----------+----------+--------------------------+---------------------------+------------------+---------------+--------------------+----------------+------------------------------+------+------------+\n",
       "|    3    |    Nova   |  Singh   | nova.singh@astra2081.com | Senior Space Travel Agent | Premium Bookings | Zane Holloway |    SL-2081-003     |       15       |             4.0              |  0   |     2      |\n",
       "+---------+-----------+----------+--------------------------+---------------------------+------------------+---------------+--------------------+----------------+------------------------------+------+------------+"
      ]
     },
     "execution_count": 27,
     "metadata": {},
     "output_type": "execute_result"
    }
   ],
   "source": [
    "%sql SELECT * FROM space_travel_agents WHERE AgentID = 3"
   ]
  },
  {
   "cell_type": "code",
   "execution_count": 28,
   "id": "d6566991-dbef-429b-a564-0995f5143140",
   "metadata": {},
   "outputs": [
    {
     "data": {
      "text/html": [
       "<span style=\"None\">Running query in &#x27;sqlite:///my_database.db&#x27;</span>"
      ],
      "text/plain": [
       "Running query in 'sqlite:///my_database.db'"
      ]
     },
     "metadata": {},
     "output_type": "display_data"
    },
    {
     "data": {
      "text/html": [
       "<table>\n",
       "    <thead>\n",
       "        <tr>\n",
       "            <th>AgentID</th>\n",
       "            <th>agent_rank</th>\n",
       "        </tr>\n",
       "    </thead>\n",
       "    <tbody>\n",
       "        <tr>\n",
       "            <td>3</td>\n",
       "            <td>1</td>\n",
       "        </tr>\n",
       "        <tr>\n",
       "            <td>27</td>\n",
       "            <td>1</td>\n",
       "        </tr>\n",
       "        <tr>\n",
       "            <td>24</td>\n",
       "            <td>3</td>\n",
       "        </tr>\n",
       "        <tr>\n",
       "            <td>1</td>\n",
       "            <td>4</td>\n",
       "        </tr>\n",
       "        <tr>\n",
       "            <td>16</td>\n",
       "            <td>4</td>\n",
       "        </tr>\n",
       "    </tbody>\n",
       "</table>"
      ],
      "text/plain": [
       "+---------+------------+\n",
       "| AgentID | agent_rank |\n",
       "+---------+------------+\n",
       "|    3    |     1      |\n",
       "|    27   |     1      |\n",
       "|    24   |     3      |\n",
       "|    1    |     4      |\n",
       "|    16   |     4      |\n",
       "+---------+------------+"
      ]
     },
     "execution_count": 28,
     "metadata": {},
     "output_type": "execute_result"
    }
   ],
   "source": [
    "%sql SELECT * FROM agent_rank_tracker ORDER BY agent_rank LIMIT 5"
   ]
  }
 ],
 "metadata": {
  "kernelspec": {
   "display_name": "python_prep",
   "language": "python",
   "name": "python_prep"
  },
  "language_info": {
   "codemirror_mode": {
    "name": "ipython",
    "version": 3
   },
   "file_extension": ".py",
   "mimetype": "text/x-python",
   "name": "python",
   "nbconvert_exporter": "python",
   "pygments_lexer": "ipython3",
   "version": "3.12.3"
  }
 },
 "nbformat": 4,
 "nbformat_minor": 5
}
