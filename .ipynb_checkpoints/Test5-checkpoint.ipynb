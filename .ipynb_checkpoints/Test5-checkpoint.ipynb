{
 "cells": [
  {
   "cell_type": "markdown",
   "id": "bad8fd3b-ef9a-4429-b016-dccc44c56a78",
   "metadata": {},
   "source": [
    "## SQL"
   ]
  },
  {
   "cell_type": "code",
   "execution_count": 1,
   "id": "f915d6b0-a2d4-42fa-be61-dabb0e33c43a",
   "metadata": {},
   "outputs": [],
   "source": [
    "import sqlite3"
   ]
  },
  {
   "cell_type": "code",
   "execution_count": 2,
   "id": "24b1b81a-f12d-4a4b-afa3-9af37b85a3b2",
   "metadata": {},
   "outputs": [],
   "source": [
    "# Connect to the SQLite database (or create it if it doesn't exist)\n",
    "conn = sqlite3.connect('my_database.db')\n",
    "cursor = conn.cursor()"
   ]
  },
  {
   "cell_type": "code",
   "execution_count": 3,
   "id": "c373ddf9-93a2-4d2a-9dff-67b564b40a34",
   "metadata": {},
   "outputs": [
    {
     "data": {
      "text/html": [
       "<span style=\"None\">Connecting to &#x27;sqlite:///my_database.db&#x27;</span>"
      ],
      "text/plain": [
       "Connecting to 'sqlite:///my_database.db'"
      ]
     },
     "metadata": {},
     "output_type": "display_data"
    }
   ],
   "source": [
    "%load_ext sql\n",
    "%sql sqlite:///my_database.db"
   ]
  },
  {
   "cell_type": "code",
   "execution_count": 4,
   "id": "91f4e3c7-19e0-4b0e-8198-72572812e1b6",
   "metadata": {},
   "outputs": [],
   "source": [
    "# Delete all tables from the database. This is useful when rerunning the notebook."
   ]
  },
  {
   "cell_type": "code",
   "execution_count": 5,
   "id": "be0d5143-bc11-4004-b10e-1d22167fe442",
   "metadata": {},
   "outputs": [],
   "source": [
    "# Get all user-defined tables (excluding internal SQLite tables)\n",
    "cursor.execute(\"SELECT name FROM sqlite_master WHERE type='table' AND name NOT LIKE 'sqlite_%';\")\n",
    "tables = cursor.fetchall()\n",
    "\n",
    "# Drop each table\n",
    "for table in tables:\n",
    "    cursor.execute(f\"DROP TABLE IF EXISTS {table[0]};\")"
   ]
  },
  {
   "cell_type": "code",
   "execution_count": 6,
   "id": "cf27a1da-3ea3-41bf-a10e-09d6fb7105cd",
   "metadata": {},
   "outputs": [],
   "source": [
    "# Read the tables\n",
    "table_list = ['assignment_history SQL Table.txt', 'bookings SQL Table.txt', 'space_travel_agents SQL Table.txt']\n",
    "\n",
    "for t in table_list:\n",
    "    with open(t, 'r') as f:\n",
    "        script = f.read()\n",
    "    cursor.executescript(script)"
   ]
  },
  {
   "cell_type": "code",
   "execution_count": 7,
   "id": "c3bc6834-0253-4f11-aa22-fb05ea9118f6",
   "metadata": {},
   "outputs": [],
   "source": [
    "## Merge table bookings and assignment_history so that bookings have information of AgentID"
   ]
  },
  {
   "cell_type": "code",
   "execution_count": 8,
   "id": "8ba35518-cd42-4cfd-8d9c-8d129f823bad",
   "metadata": {},
   "outputs": [
    {
     "data": {
      "text/html": [
       "<span style=\"None\">Running query in &#x27;sqlite:///my_database.db&#x27;</span>"
      ],
      "text/plain": [
       "Running query in 'sqlite:///my_database.db'"
      ]
     },
     "metadata": {},
     "output_type": "display_data"
    },
    {
     "data": {
      "text/html": [
       "<table>\n",
       "    <thead>\n",
       "        <tr>\n",
       "        </tr>\n",
       "    </thead>\n",
       "    <tbody>\n",
       "    </tbody>\n",
       "</table>"
      ],
      "text/plain": [
       "++\n",
       "||\n",
       "++\n",
       "++"
      ]
     },
     "execution_count": 8,
     "metadata": {},
     "output_type": "execute_result"
    }
   ],
   "source": [
    "%%sql\n",
    "\n",
    "CREATE TABLE bookings_2 AS\n",
    "SELECT B.*,\n",
    "        AH.AgentID\n",
    "FROM bookings AS B\n",
    "LEFT JOIN assignment_history AS AH USING(AssignmentID)"
   ]
  },
  {
   "cell_type": "code",
   "execution_count": 9,
   "id": "971af047-2c39-48ca-839f-f7af35c06b0a",
   "metadata": {},
   "outputs": [
    {
     "data": {
      "text/html": [
       "<span style=\"None\">Running query in &#x27;sqlite:///my_database.db&#x27;</span>"
      ],
      "text/plain": [
       "Running query in 'sqlite:///my_database.db'"
      ]
     },
     "metadata": {},
     "output_type": "display_data"
    },
    {
     "data": {
      "text/html": [
       "<table>\n",
       "    <thead>\n",
       "        <tr>\n",
       "            <th>BookingID</th>\n",
       "            <th>AssignmentID</th>\n",
       "            <th>BookingCompleteDate</th>\n",
       "            <th>CancelledDate</th>\n",
       "            <th>Destination</th>\n",
       "            <th>Package</th>\n",
       "            <th>LaunchLocation</th>\n",
       "            <th>DestinationRevenue</th>\n",
       "            <th>PackageRevenue</th>\n",
       "            <th>TotalRevenue</th>\n",
       "            <th>BookingStatus</th>\n",
       "            <th>AgentID</th>\n",
       "        </tr>\n",
       "    </thead>\n",
       "    <tbody>\n",
       "        <tr>\n",
       "            <td>1</td>\n",
       "            <td>1</td>\n",
       "            <td>2081-02-01 10:00:00</td>\n",
       "            <td>None</td>\n",
       "            <td>Mars</td>\n",
       "            <td>Luxury Dome Stay</td>\n",
       "            <td>Dallas-Fort Worth Launch Complex</td>\n",
       "            <td>150000</td>\n",
       "            <td>25000</td>\n",
       "            <td>175000</td>\n",
       "            <td>Confirmed</td>\n",
       "            <td>7</td>\n",
       "        </tr>\n",
       "    </tbody>\n",
       "</table>"
      ],
      "text/plain": [
       "+-----------+--------------+---------------------+---------------+-------------+------------------+----------------------------------+--------------------+----------------+--------------+---------------+---------+\n",
       "| BookingID | AssignmentID | BookingCompleteDate | CancelledDate | Destination |     Package      |          LaunchLocation          | DestinationRevenue | PackageRevenue | TotalRevenue | BookingStatus | AgentID |\n",
       "+-----------+--------------+---------------------+---------------+-------------+------------------+----------------------------------+--------------------+----------------+--------------+---------------+---------+\n",
       "|     1     |      1       | 2081-02-01 10:00:00 |      None     |     Mars    | Luxury Dome Stay | Dallas-Fort Worth Launch Complex |       150000       |     25000      |    175000    |   Confirmed   |    7    |\n",
       "+-----------+--------------+---------------------+---------------+-------------+------------------+----------------------------------+--------------------+----------------+--------------+---------------+---------+"
      ]
     },
     "execution_count": 9,
     "metadata": {},
     "output_type": "execute_result"
    }
   ],
   "source": [
    "%sql SELECT * FROM bookings_2 LIMIT 1"
   ]
  },
  {
   "cell_type": "markdown",
   "id": "1429519b-dc14-4a30-873a-603ca8a97712",
   "metadata": {},
   "source": [
    "## Create another column for table space_travel_agents, named 'load'. This gives an update on available agents"
   ]
  },
  {
   "cell_type": "code",
   "execution_count": 10,
   "id": "fe7e1897-de4a-4d28-b3a2-a6af8141ffa8",
   "metadata": {},
   "outputs": [
    {
     "data": {
      "text/html": [
       "<span style=\"None\">Running query in &#x27;sqlite:///my_database.db&#x27;</span>"
      ],
      "text/plain": [
       "Running query in 'sqlite:///my_database.db'"
      ]
     },
     "metadata": {},
     "output_type": "display_data"
    },
    {
     "data": {
      "text/html": [
       "<table>\n",
       "    <thead>\n",
       "        <tr>\n",
       "        </tr>\n",
       "    </thead>\n",
       "    <tbody>\n",
       "    </tbody>\n",
       "</table>"
      ],
      "text/plain": [
       "++\n",
       "||\n",
       "++\n",
       "++"
      ]
     },
     "execution_count": 10,
     "metadata": {},
     "output_type": "execute_result"
    }
   ],
   "source": [
    "%%sql \n",
    "\n",
    "ALTER TABLE space_travel_agents\n",
    "ADD COLUMN load INTEGER DEFAULT 0;\n",
    "\n",
    "ALTER TABLE space_travel_agents\n",
    "ADD COLUMN agent_rank INTEGER;\n"
   ]
  },
  {
   "cell_type": "markdown",
   "id": "64cfa275-9de2-41ac-867e-729118375d71",
   "metadata": {},
   "source": [
    "## Update the load from bookings table and agent_rank from space_travel_agents"
   ]
  },
  {
   "cell_type": "code",
   "execution_count": 11,
   "id": "48086a52-a678-4db7-8355-6886e24e52c9",
   "metadata": {},
   "outputs": [
    {
     "data": {
      "text/html": [
       "<span style=\"None\">Running query in &#x27;sqlite:///my_database.db&#x27;</span>"
      ],
      "text/plain": [
       "Running query in 'sqlite:///my_database.db'"
      ]
     },
     "metadata": {},
     "output_type": "display_data"
    },
    {
     "data": {
      "text/html": [
       "<span style=\"color: green\">30 rows affected.</span>"
      ],
      "text/plain": [
       "30 rows affected."
      ]
     },
     "metadata": {},
     "output_type": "display_data"
    },
    {
     "data": {
      "text/html": [
       "<table>\n",
       "    <thead>\n",
       "        <tr>\n",
       "        </tr>\n",
       "    </thead>\n",
       "    <tbody>\n",
       "    </tbody>\n",
       "</table>"
      ],
      "text/plain": [
       "++\n",
       "||\n",
       "++\n",
       "++"
      ]
     },
     "execution_count": 11,
     "metadata": {},
     "output_type": "execute_result"
    }
   ],
   "source": [
    "%%sql\n",
    "UPDATE space_travel_agents\n",
    "SET load = load + (\n",
    "  SELECT COUNT(*)\n",
    "  FROM bookings_2\n",
    "  WHERE bookings_2.AgentID = space_travel_agents.AgentID\n",
    "    AND bookings_2.BookingStatus = 'Pending'\n",
    ")"
   ]
  },
  {
   "cell_type": "code",
   "execution_count": 12,
   "id": "2bd54027-a9fe-4970-be7c-22b784f488d0",
   "metadata": {},
   "outputs": [],
   "source": [
    "## Update agent_rank list"
   ]
  },
  {
   "cell_type": "code",
   "execution_count": 13,
   "id": "95341726-dc74-46bb-9b5e-c1e06fc11ae4",
   "metadata": {},
   "outputs": [
    {
     "data": {
      "text/html": [
       "<span style=\"None\">Running query in &#x27;sqlite:///my_database.db&#x27;</span>"
      ],
      "text/plain": [
       "Running query in 'sqlite:///my_database.db'"
      ]
     },
     "metadata": {},
     "output_type": "display_data"
    },
    {
     "data": {
      "text/html": [
       "<span style=\"color: green\">30 rows affected.</span>"
      ],
      "text/plain": [
       "30 rows affected."
      ]
     },
     "metadata": {},
     "output_type": "display_data"
    },
    {
     "data": {
      "text/html": [
       "<table>\n",
       "    <thead>\n",
       "        <tr>\n",
       "        </tr>\n",
       "    </thead>\n",
       "    <tbody>\n",
       "    </tbody>\n",
       "</table>"
      ],
      "text/plain": [
       "++\n",
       "||\n",
       "++\n",
       "++"
      ]
     },
     "execution_count": 13,
     "metadata": {},
     "output_type": "execute_result"
    }
   ],
   "source": [
    "%%sql\n",
    "\n",
    "UPDATE space_travel_agents\n",
    "SET agent_rank = (\n",
    "  SELECT COUNT(*)\n",
    "  FROM space_travel_agents AS b\n",
    "  WHERE b.load < space_travel_agents.load\n",
    "     OR (b.load = space_travel_agents.load AND b.YearsOfService > space_travel_agents.YearsOfService)\n",
    "     OR (b.load = space_travel_agents.load AND b.YearsOfService = space_travel_agents.YearsOfService AND b.AverageCustomerServiceRating > space_travel_agents.AverageCustomerServiceRating)\n",
    ") + 1;"
   ]
  },
  {
   "cell_type": "code",
   "execution_count": 14,
   "id": "6df491f5-102a-4eb1-b331-a235f7ea0b6a",
   "metadata": {},
   "outputs": [
    {
     "data": {
      "text/html": [
       "<span style=\"None\">Running query in &#x27;sqlite:///my_database.db&#x27;</span>"
      ],
      "text/plain": [
       "Running query in 'sqlite:///my_database.db'"
      ]
     },
     "metadata": {},
     "output_type": "display_data"
    },
    {
     "data": {
      "text/html": [
       "<table>\n",
       "    <thead>\n",
       "        <tr>\n",
       "            <th>AgentID</th>\n",
       "            <th>FirstName</th>\n",
       "            <th>LastName</th>\n",
       "            <th>Email</th>\n",
       "            <th>JobTitle</th>\n",
       "            <th>DepartmentName</th>\n",
       "            <th>ManagerName</th>\n",
       "            <th>SpaceLicenseNumber</th>\n",
       "            <th>YearsOfService</th>\n",
       "            <th>AverageCustomerServiceRating</th>\n",
       "            <th>load</th>\n",
       "            <th>agent_rank</th>\n",
       "        </tr>\n",
       "    </thead>\n",
       "    <tbody>\n",
       "        <tr>\n",
       "            <td>1</td>\n",
       "            <td>Aurora</td>\n",
       "            <td>Tanaka</td>\n",
       "            <td>aurora.tanaka@astra2081.com</td>\n",
       "            <td>Senior Space Travel Agent</td>\n",
       "            <td>Interplanetary Sales</td>\n",
       "            <td>Lyra Chen</td>\n",
       "            <td>SL-2081-001</td>\n",
       "            <td>12</td>\n",
       "            <td>4.0</td>\n",
       "            <td>0</td>\n",
       "            <td>5</td>\n",
       "        </tr>\n",
       "        <tr>\n",
       "            <td>2</td>\n",
       "            <td>Kai</td>\n",
       "            <td>Rodriguez</td>\n",
       "            <td>kai.rodriguez@astra2081.com</td>\n",
       "            <td>Space Travel Agent</td>\n",
       "            <td>Luxury Voyages</td>\n",
       "            <td>Lyra Chen</td>\n",
       "            <td>SL-2081-002</td>\n",
       "            <td>7</td>\n",
       "            <td>4.0</td>\n",
       "            <td>1</td>\n",
       "            <td>21</td>\n",
       "        </tr>\n",
       "        <tr>\n",
       "            <td>3</td>\n",
       "            <td>Nova</td>\n",
       "            <td>Singh</td>\n",
       "            <td>nova.singh@astra2081.com</td>\n",
       "            <td>Senior Space Travel Agent</td>\n",
       "            <td>Premium Bookings</td>\n",
       "            <td>Zane Holloway</td>\n",
       "            <td>SL-2081-003</td>\n",
       "            <td>15</td>\n",
       "            <td>4.0</td>\n",
       "            <td>0</td>\n",
       "            <td>2</td>\n",
       "        </tr>\n",
       "        <tr>\n",
       "            <td>4</td>\n",
       "            <td>Leo</td>\n",
       "            <td>Kim</td>\n",
       "            <td>leo.kim@astra2081.com</td>\n",
       "            <td>Space Travel Agent</td>\n",
       "            <td>Interplanetary Sales</td>\n",
       "            <td>Lyra Chen</td>\n",
       "            <td>SL-2081-004</td>\n",
       "            <td>5</td>\n",
       "            <td>4.0</td>\n",
       "            <td>0</td>\n",
       "            <td>10</td>\n",
       "        </tr>\n",
       "        <tr>\n",
       "            <td>5</td>\n",
       "            <td>Vera</td>\n",
       "            <td>Nguyen</td>\n",
       "            <td>vera.nguyen@astra2081.com</td>\n",
       "            <td>Space Travel Agent</td>\n",
       "            <td>Luxury Voyages</td>\n",
       "            <td>Zane Holloway</td>\n",
       "            <td>SL-2081-005</td>\n",
       "            <td>3</td>\n",
       "            <td>3.9</td>\n",
       "            <td>1</td>\n",
       "            <td>24</td>\n",
       "        </tr>\n",
       "    </tbody>\n",
       "</table>"
      ],
      "text/plain": [
       "+---------+-----------+-----------+-----------------------------+---------------------------+----------------------+---------------+--------------------+----------------+------------------------------+------+------------+\n",
       "| AgentID | FirstName |  LastName |            Email            |          JobTitle         |    DepartmentName    |  ManagerName  | SpaceLicenseNumber | YearsOfService | AverageCustomerServiceRating | load | agent_rank |\n",
       "+---------+-----------+-----------+-----------------------------+---------------------------+----------------------+---------------+--------------------+----------------+------------------------------+------+------------+\n",
       "|    1    |   Aurora  |   Tanaka  | aurora.tanaka@astra2081.com | Senior Space Travel Agent | Interplanetary Sales |   Lyra Chen   |    SL-2081-001     |       12       |             4.0              |  0   |     5      |\n",
       "|    2    |    Kai    | Rodriguez | kai.rodriguez@astra2081.com |     Space Travel Agent    |    Luxury Voyages    |   Lyra Chen   |    SL-2081-002     |       7        |             4.0              |  1   |     21     |\n",
       "|    3    |    Nova   |   Singh   |   nova.singh@astra2081.com  | Senior Space Travel Agent |   Premium Bookings   | Zane Holloway |    SL-2081-003     |       15       |             4.0              |  0   |     2      |\n",
       "|    4    |    Leo    |    Kim    |    leo.kim@astra2081.com    |     Space Travel Agent    | Interplanetary Sales |   Lyra Chen   |    SL-2081-004     |       5        |             4.0              |  0   |     10     |\n",
       "|    5    |    Vera   |   Nguyen  |  vera.nguyen@astra2081.com  |     Space Travel Agent    |    Luxury Voyages    | Zane Holloway |    SL-2081-005     |       3        |             3.9              |  1   |     24     |\n",
       "+---------+-----------+-----------+-----------------------------+---------------------------+----------------------+---------------+--------------------+----------------+------------------------------+------+------------+"
      ]
     },
     "execution_count": 14,
     "metadata": {},
     "output_type": "execute_result"
    }
   ],
   "source": [
    "%sql SELECT * FROM space_travel_agents LIMIT 5"
   ]
  },
  {
   "cell_type": "markdown",
   "id": "6b800941-5be4-4736-937c-b32bfddf6012",
   "metadata": {},
   "source": [
    "## Create trigger to update loads"
   ]
  },
  {
   "cell_type": "code",
   "execution_count": 15,
   "id": "691528c5-c029-4975-8239-64fca6326636",
   "metadata": {},
   "outputs": [
    {
     "data": {
      "text/html": [
       "<span style=\"None\">Running query in &#x27;sqlite:///my_database.db&#x27;</span>"
      ],
      "text/plain": [
       "Running query in 'sqlite:///my_database.db'"
      ]
     },
     "metadata": {},
     "output_type": "display_data"
    },
    {
     "data": {
      "text/html": [
       "<table>\n",
       "    <thead>\n",
       "        <tr>\n",
       "        </tr>\n",
       "    </thead>\n",
       "    <tbody>\n",
       "    </tbody>\n",
       "</table>"
      ],
      "text/plain": [
       "++\n",
       "||\n",
       "++\n",
       "++"
      ]
     },
     "execution_count": 15,
     "metadata": {},
     "output_type": "execute_result"
    }
   ],
   "source": [
    "%%sql\n",
    "    \n",
    "CREATE TRIGGER update_agent_load_subtracting\n",
    "AFTER UPDATE OF BookingStatus ON bookings_2\n",
    "BEGIN\n",
    "    -- Update agent load\n",
    "    UPDATE space_travel_agents\n",
    "    SET load = CASE\n",
    "        WHEN load > 0 THEN load - 1\n",
    "        ELSE 0\n",
    "    END\n",
    "    WHERE AgentID = NEW.AgentID\n",
    "    AND OLD.BookingStatus = 'Pending'\n",
    "    AND NEW.BookingStatus IN ('Confirmed', 'Rejected');\n",
    "\n",
    "END;"
   ]
  },
  {
   "cell_type": "code",
   "execution_count": 16,
   "id": "ec5c2e49-8d08-4876-907a-579513063d43",
   "metadata": {},
   "outputs": [
    {
     "data": {
      "text/html": [
       "<span style=\"None\">Running query in &#x27;sqlite:///my_database.db&#x27;</span>"
      ],
      "text/plain": [
       "Running query in 'sqlite:///my_database.db'"
      ]
     },
     "metadata": {},
     "output_type": "display_data"
    },
    {
     "data": {
      "text/html": [
       "<table>\n",
       "    <thead>\n",
       "        <tr>\n",
       "        </tr>\n",
       "    </thead>\n",
       "    <tbody>\n",
       "    </tbody>\n",
       "</table>"
      ],
      "text/plain": [
       "++\n",
       "||\n",
       "++\n",
       "++"
      ]
     },
     "execution_count": 16,
     "metadata": {},
     "output_type": "execute_result"
    }
   ],
   "source": [
    "%%sql\n",
    "    \n",
    "CREATE TRIGGER update_agent_load_adding\n",
    "AFTER INSERT ON bookings_2\n",
    "FOR EACH ROW\n",
    "BEGIN\n",
    "\n",
    "    UPDATE space_travel_agents\n",
    "    SET load = load + 1\n",
    "    WHERE AgentID = NEW.AgentID\n",
    "    AND NEW.BookingStatus = 'Pending';\n",
    "\n",
    "END;"
   ]
  },
  {
   "cell_type": "code",
   "execution_count": 17,
   "id": "078463bc-f15b-40ac-89be-81b42774f8fa",
   "metadata": {},
   "outputs": [],
   "source": [
    "## Create agent_rank based on load, YearsOfService, and AverageCustomerServiceRating"
   ]
  },
  {
   "cell_type": "markdown",
   "id": "e9238408-983b-4bc7-8d21-1b64e844327f",
   "metadata": {},
   "source": [
    "## Create trigger to update agent_rank"
   ]
  },
  {
   "cell_type": "code",
   "execution_count": 18,
   "id": "0d2bba77-15a5-47a3-9cb2-49fc82a010da",
   "metadata": {},
   "outputs": [
    {
     "data": {
      "text/html": [
       "<span style=\"None\">Running query in &#x27;sqlite:///my_database.db&#x27;</span>"
      ],
      "text/plain": [
       "Running query in 'sqlite:///my_database.db'"
      ]
     },
     "metadata": {},
     "output_type": "display_data"
    },
    {
     "data": {
      "text/html": [
       "<table>\n",
       "    <thead>\n",
       "        <tr>\n",
       "        </tr>\n",
       "    </thead>\n",
       "    <tbody>\n",
       "    </tbody>\n",
       "</table>"
      ],
      "text/plain": [
       "++\n",
       "||\n",
       "++\n",
       "++"
      ]
     },
     "execution_count": 18,
     "metadata": {},
     "output_type": "execute_result"
    }
   ],
   "source": [
    "%%sql\n",
    "\n",
    "CREATE TABLE IF NOT EXISTS agent_rank_tracker (\n",
    "  AgentID INTEGER PRIMARY KEY,\n",
    "  agent_rank INTEGER \n",
    ");"
   ]
  },
  {
   "cell_type": "code",
   "execution_count": 19,
   "id": "a6da5343-f76f-4cc8-b4eb-fe6e0ac3aec5",
   "metadata": {},
   "outputs": [],
   "source": [
    "## Create procedure for agent_rank"
   ]
  },
  {
   "cell_type": "code",
   "execution_count": 20,
   "id": "af064ca6-d0ef-4ec8-90a2-93c7eb7102e8",
   "metadata": {},
   "outputs": [
    {
     "data": {
      "text/html": [
       "<span style=\"None\">Running query in &#x27;sqlite:///my_database.db&#x27;</span>"
      ],
      "text/plain": [
       "Running query in 'sqlite:///my_database.db'"
      ]
     },
     "metadata": {},
     "output_type": "display_data"
    },
    {
     "data": {
      "text/html": [
       "<table>\n",
       "    <thead>\n",
       "        <tr>\n",
       "        </tr>\n",
       "    </thead>\n",
       "    <tbody>\n",
       "    </tbody>\n",
       "</table>"
      ],
      "text/plain": [
       "++\n",
       "||\n",
       "++\n",
       "++"
      ]
     },
     "execution_count": 20,
     "metadata": {},
     "output_type": "execute_result"
    }
   ],
   "source": [
    "%%sql\n",
    "\n",
    "CREATE TRIGGER update_agent_rank\n",
    "AFTER UPDATE OF load ON space_travel_agents\n",
    "FOR EACH ROW\n",
    "BEGIN\n",
    "  -- Step 1: Clear and rebuild tracker\n",
    "  DELETE FROM agent_rank_tracker;\n",
    "\n",
    "  INSERT INTO agent_rank_tracker (AgentID, agent_rank)\n",
    "  SELECT a.AgentID,\n",
    "         (\n",
    "           SELECT COUNT(*)\n",
    "           FROM space_travel_agents AS b\n",
    "           WHERE b.load < a.load\n",
    "              OR (b.load = a.load AND b.YearsOfService > a.YearsOfService)\n",
    "              OR (b.load = a.load AND b.YearsOfService = a.YearsOfService AND b.AverageCustomerServiceRating > a.AverageCustomerServiceRating)\n",
    "         ) + 1\n",
    "  FROM space_travel_agents AS a;\n",
    "\n",
    "  -- Step 2: Update space_travel_agents using a correlated subquery\n",
    "  UPDATE space_travel_agents\n",
    "  SET agent_rank = (\n",
    "    SELECT agent_rank\n",
    "    FROM agent_rank_tracker\n",
    "    WHERE agent_rank_tracker.AgentID = space_travel_agents.AgentID\n",
    "  )\n",
    "  WHERE AgentID IN (\n",
    "    SELECT AgentID FROM agent_rank_tracker\n",
    "  );\n",
    "END;"
   ]
  },
  {
   "cell_type": "code",
   "execution_count": 21,
   "id": "84aaecfe-1e79-4b4c-b49e-32cea5aaac42",
   "metadata": {},
   "outputs": [
    {
     "data": {
      "text/html": [
       "<span style=\"None\">Running query in &#x27;sqlite:///my_database.db&#x27;</span>"
      ],
      "text/plain": [
       "Running query in 'sqlite:///my_database.db'"
      ]
     },
     "metadata": {},
     "output_type": "display_data"
    },
    {
     "data": {
      "text/html": [
       "<table>\n",
       "    <thead>\n",
       "        <tr>\n",
       "        </tr>\n",
       "    </thead>\n",
       "    <tbody>\n",
       "    </tbody>\n",
       "</table>"
      ],
      "text/plain": [
       "++\n",
       "||\n",
       "++\n",
       "++"
      ]
     },
     "execution_count": 21,
     "metadata": {},
     "output_type": "execute_result"
    }
   ],
   "source": [
    "%%sql\n",
    "\n",
    "CREATE TRIGGER update_agent_rank_2\n",
    "AFTER INSERT ON bookings_2\n",
    "FOR EACH ROW\n",
    "BEGIN\n",
    "  -- Step 1: Clear and rebuild tracker\n",
    "  DELETE FROM agent_rank_tracker;\n",
    "\n",
    "  INSERT INTO agent_rank_tracker (AgentID, agent_rank)\n",
    "  SELECT a.AgentID,\n",
    "         (\n",
    "           SELECT COUNT(*)\n",
    "           FROM space_travel_agents AS b\n",
    "           WHERE b.load < a.load\n",
    "              OR (b.load = a.load AND b.YearsOfService > a.YearsOfService)\n",
    "              OR (b.load = a.load AND b.YearsOfService = a.YearsOfService AND b.AverageCustomerServiceRating > a.AverageCustomerServiceRating)\n",
    "         ) + 1\n",
    "  FROM space_travel_agents AS a;\n",
    "\n",
    "  -- Step 2: Update space_travel_agents using a correlated subquery\n",
    "  UPDATE space_travel_agents\n",
    "  SET agent_rank = (\n",
    "    SELECT agent_rank\n",
    "    FROM agent_rank_tracker\n",
    "    WHERE agent_rank_tracker.AgentID = space_travel_agents.AgentID\n",
    "  )\n",
    "  WHERE AgentID IN (\n",
    "    SELECT AgentID FROM agent_rank_tracker\n",
    "  );\n",
    "END;"
   ]
  },
  {
   "cell_type": "code",
   "execution_count": 22,
   "id": "71e30225-df0e-4a2f-8e04-f57a555ea7c7",
   "metadata": {},
   "outputs": [
    {
     "data": {
      "text/html": [
       "<span style=\"None\">Running query in &#x27;sqlite:///my_database.db&#x27;</span>"
      ],
      "text/plain": [
       "Running query in 'sqlite:///my_database.db'"
      ]
     },
     "metadata": {},
     "output_type": "display_data"
    },
    {
     "data": {
      "text/html": [
       "<table>\n",
       "    <thead>\n",
       "        <tr>\n",
       "        </tr>\n",
       "    </thead>\n",
       "    <tbody>\n",
       "    </tbody>\n",
       "</table>"
      ],
      "text/plain": [
       "++\n",
       "||\n",
       "++\n",
       "++"
      ]
     },
     "execution_count": 22,
     "metadata": {},
     "output_type": "execute_result"
    }
   ],
   "source": [
    "%%sql\n",
    "\n",
    "CREATE TRIGGER update_agent_rank_3\n",
    "AFTER INSERT ON assignment_history\n",
    "FOR EACH ROW\n",
    "BEGIN\n",
    "  -- Step 1: Clear and rebuild tracker\n",
    "  DELETE FROM agent_rank_tracker;\n",
    "\n",
    "  INSERT INTO agent_rank_tracker (AgentID, agent_rank)\n",
    "  SELECT a.AgentID,\n",
    "         (\n",
    "           SELECT COUNT(*)\n",
    "           FROM space_travel_agents AS b\n",
    "           WHERE b.load < a.load\n",
    "              OR (b.load = a.load AND b.YearsOfService > a.YearsOfService)\n",
    "              OR (b.load = a.load AND b.YearsOfService = a.YearsOfService AND b.AverageCustomerServiceRating > a.AverageCustomerServiceRating)\n",
    "         ) + 1\n",
    "  FROM space_travel_agents AS a;\n",
    "\n",
    "  -- Step 2: Update space_travel_agents using a correlated subquery\n",
    "  UPDATE space_travel_agents\n",
    "  SET agent_rank = (\n",
    "    SELECT agent_rank\n",
    "    FROM agent_rank_tracker\n",
    "    WHERE agent_rank_tracker.AgentID = space_travel_agents.AgentID\n",
    "  )\n",
    "  WHERE AgentID IN (\n",
    "    SELECT AgentID FROM agent_rank_tracker\n",
    "  );\n",
    "END;"
   ]
  },
  {
   "cell_type": "markdown",
   "id": "d0170492-e1f2-4294-a4c1-3051edb4427f",
   "metadata": {},
   "source": [
    "## Create another trigger when new row of 'Pending' was created. Only increase load if the new booking is 'Pending'"
   ]
  },
  {
   "cell_type": "code",
   "execution_count": 23,
   "id": "28e5396a-18bb-460c-950d-db94eccf36ab",
   "metadata": {},
   "outputs": [
    {
     "data": {
      "text/html": [
       "<span style=\"None\">Running query in &#x27;sqlite:///my_database.db&#x27;</span>"
      ],
      "text/plain": [
       "Running query in 'sqlite:///my_database.db'"
      ]
     },
     "metadata": {},
     "output_type": "display_data"
    },
    {
     "data": {
      "text/html": [
       "<table>\n",
       "    <thead>\n",
       "        <tr>\n",
       "            <th>AgentID</th>\n",
       "            <th>FirstName</th>\n",
       "            <th>LastName</th>\n",
       "            <th>Email</th>\n",
       "            <th>JobTitle</th>\n",
       "            <th>DepartmentName</th>\n",
       "            <th>ManagerName</th>\n",
       "            <th>SpaceLicenseNumber</th>\n",
       "            <th>YearsOfService</th>\n",
       "            <th>AverageCustomerServiceRating</th>\n",
       "            <th>load</th>\n",
       "            <th>agent_rank</th>\n",
       "        </tr>\n",
       "    </thead>\n",
       "    <tbody>\n",
       "        <tr>\n",
       "            <td>1</td>\n",
       "            <td>Aurora</td>\n",
       "            <td>Tanaka</td>\n",
       "            <td>aurora.tanaka@astra2081.com</td>\n",
       "            <td>Senior Space Travel Agent</td>\n",
       "            <td>Interplanetary Sales</td>\n",
       "            <td>Lyra Chen</td>\n",
       "            <td>SL-2081-001</td>\n",
       "            <td>12</td>\n",
       "            <td>4.0</td>\n",
       "            <td>0</td>\n",
       "            <td>5</td>\n",
       "        </tr>\n",
       "        <tr>\n",
       "            <td>2</td>\n",
       "            <td>Kai</td>\n",
       "            <td>Rodriguez</td>\n",
       "            <td>kai.rodriguez@astra2081.com</td>\n",
       "            <td>Space Travel Agent</td>\n",
       "            <td>Luxury Voyages</td>\n",
       "            <td>Lyra Chen</td>\n",
       "            <td>SL-2081-002</td>\n",
       "            <td>7</td>\n",
       "            <td>4.0</td>\n",
       "            <td>1</td>\n",
       "            <td>21</td>\n",
       "        </tr>\n",
       "        <tr>\n",
       "            <td>3</td>\n",
       "            <td>Nova</td>\n",
       "            <td>Singh</td>\n",
       "            <td>nova.singh@astra2081.com</td>\n",
       "            <td>Senior Space Travel Agent</td>\n",
       "            <td>Premium Bookings</td>\n",
       "            <td>Zane Holloway</td>\n",
       "            <td>SL-2081-003</td>\n",
       "            <td>15</td>\n",
       "            <td>4.0</td>\n",
       "            <td>0</td>\n",
       "            <td>2</td>\n",
       "        </tr>\n",
       "        <tr>\n",
       "            <td>4</td>\n",
       "            <td>Leo</td>\n",
       "            <td>Kim</td>\n",
       "            <td>leo.kim@astra2081.com</td>\n",
       "            <td>Space Travel Agent</td>\n",
       "            <td>Interplanetary Sales</td>\n",
       "            <td>Lyra Chen</td>\n",
       "            <td>SL-2081-004</td>\n",
       "            <td>5</td>\n",
       "            <td>4.0</td>\n",
       "            <td>0</td>\n",
       "            <td>10</td>\n",
       "        </tr>\n",
       "        <tr>\n",
       "            <td>5</td>\n",
       "            <td>Vera</td>\n",
       "            <td>Nguyen</td>\n",
       "            <td>vera.nguyen@astra2081.com</td>\n",
       "            <td>Space Travel Agent</td>\n",
       "            <td>Luxury Voyages</td>\n",
       "            <td>Zane Holloway</td>\n",
       "            <td>SL-2081-005</td>\n",
       "            <td>3</td>\n",
       "            <td>3.9</td>\n",
       "            <td>1</td>\n",
       "            <td>24</td>\n",
       "        </tr>\n",
       "    </tbody>\n",
       "</table>"
      ],
      "text/plain": [
       "+---------+-----------+-----------+-----------------------------+---------------------------+----------------------+---------------+--------------------+----------------+------------------------------+------+------------+\n",
       "| AgentID | FirstName |  LastName |            Email            |          JobTitle         |    DepartmentName    |  ManagerName  | SpaceLicenseNumber | YearsOfService | AverageCustomerServiceRating | load | agent_rank |\n",
       "+---------+-----------+-----------+-----------------------------+---------------------------+----------------------+---------------+--------------------+----------------+------------------------------+------+------------+\n",
       "|    1    |   Aurora  |   Tanaka  | aurora.tanaka@astra2081.com | Senior Space Travel Agent | Interplanetary Sales |   Lyra Chen   |    SL-2081-001     |       12       |             4.0              |  0   |     5      |\n",
       "|    2    |    Kai    | Rodriguez | kai.rodriguez@astra2081.com |     Space Travel Agent    |    Luxury Voyages    |   Lyra Chen   |    SL-2081-002     |       7        |             4.0              |  1   |     21     |\n",
       "|    3    |    Nova   |   Singh   |   nova.singh@astra2081.com  | Senior Space Travel Agent |   Premium Bookings   | Zane Holloway |    SL-2081-003     |       15       |             4.0              |  0   |     2      |\n",
       "|    4    |    Leo    |    Kim    |    leo.kim@astra2081.com    |     Space Travel Agent    | Interplanetary Sales |   Lyra Chen   |    SL-2081-004     |       5        |             4.0              |  0   |     10     |\n",
       "|    5    |    Vera   |   Nguyen  |  vera.nguyen@astra2081.com  |     Space Travel Agent    |    Luxury Voyages    | Zane Holloway |    SL-2081-005     |       3        |             3.9              |  1   |     24     |\n",
       "+---------+-----------+-----------+-----------------------------+---------------------------+----------------------+---------------+--------------------+----------------+------------------------------+------+------------+"
      ]
     },
     "execution_count": 23,
     "metadata": {},
     "output_type": "execute_result"
    }
   ],
   "source": [
    "%sql SELECT * FROM space_travel_agents LIMIT 5"
   ]
  },
  {
   "cell_type": "markdown",
   "id": "af014fcc-d4d7-46be-8eef-9c2afd92b30e",
   "metadata": {},
   "source": [
    "# Test trigger: agentID = 1 currently has load of 0 and agentID = 2 currently has load of 1"
   ]
  },
  {
   "cell_type": "code",
   "execution_count": 24,
   "id": "bcbcf0bf-f513-42ed-8965-321f589c55d1",
   "metadata": {},
   "outputs": [
    {
     "data": {
      "text/html": [
       "<span style=\"None\">Running query in &#x27;sqlite:///my_database.db&#x27;</span>"
      ],
      "text/plain": [
       "Running query in 'sqlite:///my_database.db'"
      ]
     },
     "metadata": {},
     "output_type": "display_data"
    },
    {
     "data": {
      "text/html": [
       "<table>\n",
       "    <thead>\n",
       "        <tr>\n",
       "            <th>BookingID</th>\n",
       "            <th>AssignmentID</th>\n",
       "            <th>BookingCompleteDate</th>\n",
       "            <th>CancelledDate</th>\n",
       "            <th>Destination</th>\n",
       "            <th>Package</th>\n",
       "            <th>LaunchLocation</th>\n",
       "            <th>DestinationRevenue</th>\n",
       "            <th>PackageRevenue</th>\n",
       "            <th>TotalRevenue</th>\n",
       "            <th>BookingStatus</th>\n",
       "            <th>AgentID</th>\n",
       "        </tr>\n",
       "    </thead>\n",
       "    <tbody>\n",
       "        <tr>\n",
       "            <td>351</td>\n",
       "            <td>389</td>\n",
       "            <td>None</td>\n",
       "            <td>None</td>\n",
       "            <td>Titan</td>\n",
       "            <td>Ringside Cruise</td>\n",
       "            <td>New York Orbital Gateway</td>\n",
       "            <td>140000</td>\n",
       "            <td>20000</td>\n",
       "            <td>160000</td>\n",
       "            <td>Pending</td>\n",
       "            <td>2</td>\n",
       "        </tr>\n",
       "    </tbody>\n",
       "</table>"
      ],
      "text/plain": [
       "+-----------+--------------+---------------------+---------------+-------------+-----------------+--------------------------+--------------------+----------------+--------------+---------------+---------+\n",
       "| BookingID | AssignmentID | BookingCompleteDate | CancelledDate | Destination |     Package     |      LaunchLocation      | DestinationRevenue | PackageRevenue | TotalRevenue | BookingStatus | AgentID |\n",
       "+-----------+--------------+---------------------+---------------+-------------+-----------------+--------------------------+--------------------+----------------+--------------+---------------+---------+\n",
       "|    351    |     389      |         None        |      None     |    Titan    | Ringside Cruise | New York Orbital Gateway |       140000       |     20000      |    160000    |    Pending    |    2    |\n",
       "+-----------+--------------+---------------------+---------------+-------------+-----------------+--------------------------+--------------------+----------------+--------------+---------------+---------+"
      ]
     },
     "execution_count": 24,
     "metadata": {},
     "output_type": "execute_result"
    }
   ],
   "source": [
    "%%sql\n",
    "SELECT * \n",
    "FROM bookings_2\n",
    "WHERE AgentID = 2 AND BookingStatus = 'Pending'"
   ]
  },
  {
   "cell_type": "code",
   "execution_count": 25,
   "id": "04123761-2b85-489e-b064-b41821a5eef3",
   "metadata": {},
   "outputs": [],
   "source": [
    "# Change BookingStatus to Confirmed bookingID = 351 "
   ]
  },
  {
   "cell_type": "code",
   "execution_count": 26,
   "id": "6adf2704-d18e-4ceb-bed4-e93dbaabb530",
   "metadata": {},
   "outputs": [
    {
     "data": {
      "text/html": [
       "<span style=\"None\">Running query in &#x27;sqlite:///my_database.db&#x27;</span>"
      ],
      "text/plain": [
       "Running query in 'sqlite:///my_database.db'"
      ]
     },
     "metadata": {},
     "output_type": "display_data"
    },
    {
     "data": {
      "text/html": [
       "<span style=\"color: green\">1 rows affected.</span>"
      ],
      "text/plain": [
       "1 rows affected."
      ]
     },
     "metadata": {},
     "output_type": "display_data"
    },
    {
     "data": {
      "text/html": [
       "<table>\n",
       "    <thead>\n",
       "        <tr>\n",
       "        </tr>\n",
       "    </thead>\n",
       "    <tbody>\n",
       "    </tbody>\n",
       "</table>"
      ],
      "text/plain": [
       "++\n",
       "||\n",
       "++\n",
       "++"
      ]
     },
     "execution_count": 26,
     "metadata": {},
     "output_type": "execute_result"
    }
   ],
   "source": [
    "%%sql\n",
    "UPDATE bookings_2 \n",
    "SET BookingStatus = 'Confirmed'\n",
    "WHERE BookingID = 351"
   ]
  },
  {
   "cell_type": "code",
   "execution_count": 27,
   "id": "c8fe9348-5868-486f-80ae-3c04c8ad70c0",
   "metadata": {},
   "outputs": [
    {
     "data": {
      "text/html": [
       "<span style=\"None\">Running query in &#x27;sqlite:///my_database.db&#x27;</span>"
      ],
      "text/plain": [
       "Running query in 'sqlite:///my_database.db'"
      ]
     },
     "metadata": {},
     "output_type": "display_data"
    },
    {
     "data": {
      "text/html": [
       "<table>\n",
       "    <thead>\n",
       "        <tr>\n",
       "            <th>AgentID</th>\n",
       "            <th>FirstName</th>\n",
       "            <th>LastName</th>\n",
       "            <th>Email</th>\n",
       "            <th>JobTitle</th>\n",
       "            <th>DepartmentName</th>\n",
       "            <th>ManagerName</th>\n",
       "            <th>SpaceLicenseNumber</th>\n",
       "            <th>YearsOfService</th>\n",
       "            <th>AverageCustomerServiceRating</th>\n",
       "            <th>load</th>\n",
       "            <th>agent_rank</th>\n",
       "        </tr>\n",
       "    </thead>\n",
       "    <tbody>\n",
       "        <tr>\n",
       "            <td>1</td>\n",
       "            <td>Aurora</td>\n",
       "            <td>Tanaka</td>\n",
       "            <td>aurora.tanaka@astra2081.com</td>\n",
       "            <td>Senior Space Travel Agent</td>\n",
       "            <td>Interplanetary Sales</td>\n",
       "            <td>Lyra Chen</td>\n",
       "            <td>SL-2081-001</td>\n",
       "            <td>12</td>\n",
       "            <td>4.0</td>\n",
       "            <td>0</td>\n",
       "            <td>5</td>\n",
       "        </tr>\n",
       "        <tr>\n",
       "            <td>2</td>\n",
       "            <td>Kai</td>\n",
       "            <td>Rodriguez</td>\n",
       "            <td>kai.rodriguez@astra2081.com</td>\n",
       "            <td>Space Travel Agent</td>\n",
       "            <td>Luxury Voyages</td>\n",
       "            <td>Lyra Chen</td>\n",
       "            <td>SL-2081-002</td>\n",
       "            <td>7</td>\n",
       "            <td>4.0</td>\n",
       "            <td>0</td>\n",
       "            <td>8</td>\n",
       "        </tr>\n",
       "        <tr>\n",
       "            <td>3</td>\n",
       "            <td>Nova</td>\n",
       "            <td>Singh</td>\n",
       "            <td>nova.singh@astra2081.com</td>\n",
       "            <td>Senior Space Travel Agent</td>\n",
       "            <td>Premium Bookings</td>\n",
       "            <td>Zane Holloway</td>\n",
       "            <td>SL-2081-003</td>\n",
       "            <td>15</td>\n",
       "            <td>4.0</td>\n",
       "            <td>0</td>\n",
       "            <td>2</td>\n",
       "        </tr>\n",
       "        <tr>\n",
       "            <td>4</td>\n",
       "            <td>Leo</td>\n",
       "            <td>Kim</td>\n",
       "            <td>leo.kim@astra2081.com</td>\n",
       "            <td>Space Travel Agent</td>\n",
       "            <td>Interplanetary Sales</td>\n",
       "            <td>Lyra Chen</td>\n",
       "            <td>SL-2081-004</td>\n",
       "            <td>5</td>\n",
       "            <td>4.0</td>\n",
       "            <td>0</td>\n",
       "            <td>11</td>\n",
       "        </tr>\n",
       "        <tr>\n",
       "            <td>5</td>\n",
       "            <td>Vera</td>\n",
       "            <td>Nguyen</td>\n",
       "            <td>vera.nguyen@astra2081.com</td>\n",
       "            <td>Space Travel Agent</td>\n",
       "            <td>Luxury Voyages</td>\n",
       "            <td>Zane Holloway</td>\n",
       "            <td>SL-2081-005</td>\n",
       "            <td>3</td>\n",
       "            <td>3.9</td>\n",
       "            <td>1</td>\n",
       "            <td>24</td>\n",
       "        </tr>\n",
       "    </tbody>\n",
       "</table>"
      ],
      "text/plain": [
       "+---------+-----------+-----------+-----------------------------+---------------------------+----------------------+---------------+--------------------+----------------+------------------------------+------+------------+\n",
       "| AgentID | FirstName |  LastName |            Email            |          JobTitle         |    DepartmentName    |  ManagerName  | SpaceLicenseNumber | YearsOfService | AverageCustomerServiceRating | load | agent_rank |\n",
       "+---------+-----------+-----------+-----------------------------+---------------------------+----------------------+---------------+--------------------+----------------+------------------------------+------+------------+\n",
       "|    1    |   Aurora  |   Tanaka  | aurora.tanaka@astra2081.com | Senior Space Travel Agent | Interplanetary Sales |   Lyra Chen   |    SL-2081-001     |       12       |             4.0              |  0   |     5      |\n",
       "|    2    |    Kai    | Rodriguez | kai.rodriguez@astra2081.com |     Space Travel Agent    |    Luxury Voyages    |   Lyra Chen   |    SL-2081-002     |       7        |             4.0              |  0   |     8      |\n",
       "|    3    |    Nova   |   Singh   |   nova.singh@astra2081.com  | Senior Space Travel Agent |   Premium Bookings   | Zane Holloway |    SL-2081-003     |       15       |             4.0              |  0   |     2      |\n",
       "|    4    |    Leo    |    Kim    |    leo.kim@astra2081.com    |     Space Travel Agent    | Interplanetary Sales |   Lyra Chen   |    SL-2081-004     |       5        |             4.0              |  0   |     11     |\n",
       "|    5    |    Vera   |   Nguyen  |  vera.nguyen@astra2081.com  |     Space Travel Agent    |    Luxury Voyages    | Zane Holloway |    SL-2081-005     |       3        |             3.9              |  1   |     24     |\n",
       "+---------+-----------+-----------+-----------------------------+---------------------------+----------------------+---------------+--------------------+----------------+------------------------------+------+------------+"
      ]
     },
     "execution_count": 27,
     "metadata": {},
     "output_type": "execute_result"
    }
   ],
   "source": [
    "%sql SELECT * FROM space_travel_agents LIMIT 5"
   ]
  },
  {
   "cell_type": "markdown",
   "id": "e81281ef-3559-4473-8945-4ab53bf3ba52",
   "metadata": {},
   "source": [
    "AgentID = 2 improves ranking after completing one \"Pending\" request."
   ]
  },
  {
   "cell_type": "code",
   "execution_count": 28,
   "id": "cab3ece7-f2a4-4a28-a570-ab606076093c",
   "metadata": {},
   "outputs": [
    {
     "data": {
      "text/html": [
       "<span style=\"None\">Running query in &#x27;sqlite:///my_database.db&#x27;</span>"
      ],
      "text/plain": [
       "Running query in 'sqlite:///my_database.db'"
      ]
     },
     "metadata": {},
     "output_type": "display_data"
    },
    {
     "data": {
      "text/html": [
       "<table>\n",
       "    <thead>\n",
       "        <tr>\n",
       "            <th>AgentID</th>\n",
       "            <th>agent_rank</th>\n",
       "        </tr>\n",
       "    </thead>\n",
       "    <tbody>\n",
       "        <tr>\n",
       "            <td>1</td>\n",
       "            <td>5</td>\n",
       "        </tr>\n",
       "        <tr>\n",
       "            <td>2</td>\n",
       "            <td>8</td>\n",
       "        </tr>\n",
       "        <tr>\n",
       "            <td>3</td>\n",
       "            <td>2</td>\n",
       "        </tr>\n",
       "        <tr>\n",
       "            <td>4</td>\n",
       "            <td>11</td>\n",
       "        </tr>\n",
       "        <tr>\n",
       "            <td>5</td>\n",
       "            <td>24</td>\n",
       "        </tr>\n",
       "    </tbody>\n",
       "</table>"
      ],
      "text/plain": [
       "+---------+------------+\n",
       "| AgentID | agent_rank |\n",
       "+---------+------------+\n",
       "|    1    |     5      |\n",
       "|    2    |     8      |\n",
       "|    3    |     2      |\n",
       "|    4    |     11     |\n",
       "|    5    |     24     |\n",
       "+---------+------------+"
      ]
     },
     "execution_count": 28,
     "metadata": {},
     "output_type": "execute_result"
    }
   ],
   "source": [
    "%sql SELECT * FROM agent_rank_tracker LIMIT 5"
   ]
  },
  {
   "cell_type": "code",
   "execution_count": 29,
   "id": "daa43366-afa4-4ab3-abab-7679022910e0",
   "metadata": {},
   "outputs": [
    {
     "data": {
      "text/html": [
       "<span style=\"None\">Running query in &#x27;sqlite:///my_database.db&#x27;</span>"
      ],
      "text/plain": [
       "Running query in 'sqlite:///my_database.db'"
      ]
     },
     "metadata": {},
     "output_type": "display_data"
    },
    {
     "data": {
      "text/html": [
       "<table>\n",
       "    <thead>\n",
       "        <tr>\n",
       "            <th>AgentID</th>\n",
       "            <th>FirstName</th>\n",
       "            <th>LastName</th>\n",
       "            <th>Email</th>\n",
       "            <th>JobTitle</th>\n",
       "            <th>DepartmentName</th>\n",
       "            <th>ManagerName</th>\n",
       "            <th>SpaceLicenseNumber</th>\n",
       "            <th>YearsOfService</th>\n",
       "            <th>AverageCustomerServiceRating</th>\n",
       "            <th>load</th>\n",
       "            <th>agent_rank</th>\n",
       "        </tr>\n",
       "    </thead>\n",
       "    <tbody>\n",
       "        <tr>\n",
       "            <td>6</td>\n",
       "            <td>Soren</td>\n",
       "            <td>Baker</td>\n",
       "            <td>soren.baker@astra2081.com</td>\n",
       "            <td>Lead Space Travel Agent</td>\n",
       "            <td>Premium Bookings</td>\n",
       "            <td>Zane Holloway</td>\n",
       "            <td>SL-2081-006</td>\n",
       "            <td>18</td>\n",
       "            <td>4.6</td>\n",
       "            <td>0</td>\n",
       "            <td>1</td>\n",
       "        </tr>\n",
       "        <tr>\n",
       "            <td>3</td>\n",
       "            <td>Nova</td>\n",
       "            <td>Singh</td>\n",
       "            <td>nova.singh@astra2081.com</td>\n",
       "            <td>Senior Space Travel Agent</td>\n",
       "            <td>Premium Bookings</td>\n",
       "            <td>Zane Holloway</td>\n",
       "            <td>SL-2081-003</td>\n",
       "            <td>15</td>\n",
       "            <td>4.0</td>\n",
       "            <td>0</td>\n",
       "            <td>2</td>\n",
       "        </tr>\n",
       "        <tr>\n",
       "            <td>27</td>\n",
       "            <td>Ronan</td>\n",
       "            <td>Young</td>\n",
       "            <td>ronan.young@astra2081.com</td>\n",
       "            <td>Senior Space Travel Agent</td>\n",
       "            <td>Premium Bookings</td>\n",
       "            <td>Zane Holloway</td>\n",
       "            <td>SL-2081-027</td>\n",
       "            <td>15</td>\n",
       "            <td>4.0</td>\n",
       "            <td>0</td>\n",
       "            <td>2</td>\n",
       "        </tr>\n",
       "    </tbody>\n",
       "</table>"
      ],
      "text/plain": [
       "+---------+-----------+----------+---------------------------+---------------------------+------------------+---------------+--------------------+----------------+------------------------------+------+------------+\n",
       "| AgentID | FirstName | LastName |           Email           |          JobTitle         |  DepartmentName  |  ManagerName  | SpaceLicenseNumber | YearsOfService | AverageCustomerServiceRating | load | agent_rank |\n",
       "+---------+-----------+----------+---------------------------+---------------------------+------------------+---------------+--------------------+----------------+------------------------------+------+------------+\n",
       "|    6    |   Soren   |  Baker   | soren.baker@astra2081.com |  Lead Space Travel Agent  | Premium Bookings | Zane Holloway |    SL-2081-006     |       18       |             4.6              |  0   |     1      |\n",
       "|    3    |    Nova   |  Singh   |  nova.singh@astra2081.com | Senior Space Travel Agent | Premium Bookings | Zane Holloway |    SL-2081-003     |       15       |             4.0              |  0   |     2      |\n",
       "|    27   |   Ronan   |  Young   | ronan.young@astra2081.com | Senior Space Travel Agent | Premium Bookings | Zane Holloway |    SL-2081-027     |       15       |             4.0              |  0   |     2      |\n",
       "+---------+-----------+----------+---------------------------+---------------------------+------------------+---------------+--------------------+----------------+------------------------------+------+------------+"
      ]
     },
     "execution_count": 29,
     "metadata": {},
     "output_type": "execute_result"
    }
   ],
   "source": [
    "%sql SELECT * FROM space_travel_agents ORDER BY agent_rank LIMIT 3"
   ]
  },
  {
   "cell_type": "code",
   "execution_count": 30,
   "id": "1827868c-2536-40d6-ba73-3309c66aefc3",
   "metadata": {},
   "outputs": [],
   "source": [
    "## Test for trigger bu adding another row to the table"
   ]
  },
  {
   "cell_type": "code",
   "execution_count": 31,
   "id": "b0deae63-3662-4741-ae5e-69884e668717",
   "metadata": {},
   "outputs": [
    {
     "data": {
      "text/html": [
       "<span style=\"None\">Running query in &#x27;sqlite:///my_database.db&#x27;</span>"
      ],
      "text/plain": [
       "Running query in 'sqlite:///my_database.db'"
      ]
     },
     "metadata": {},
     "output_type": "display_data"
    },
    {
     "data": {
      "text/html": [
       "<span style=\"color: green\">2 rows affected.</span>"
      ],
      "text/plain": [
       "2 rows affected."
      ]
     },
     "metadata": {},
     "output_type": "display_data"
    },
    {
     "data": {
      "text/html": [
       "<table>\n",
       "    <thead>\n",
       "        <tr>\n",
       "            <th>BookingID</th>\n",
       "            <th>AssignmentID</th>\n",
       "            <th>BookingCompleteDate</th>\n",
       "            <th>CancelledDate</th>\n",
       "            <th>Destination</th>\n",
       "            <th>Package</th>\n",
       "            <th>LaunchLocation</th>\n",
       "            <th>DestinationRevenue</th>\n",
       "            <th>PackageRevenue</th>\n",
       "            <th>TotalRevenue</th>\n",
       "            <th>BookingStatus</th>\n",
       "            <th>AgentID</th>\n",
       "        </tr>\n",
       "    </thead>\n",
       "    <tbody>\n",
       "        <tr>\n",
       "            <td>501</td>\n",
       "            <td>501</td>\n",
       "            <td>None</td>\n",
       "            <td>None</td>\n",
       "            <td>None</td>\n",
       "            <td>None</td>\n",
       "            <td>None</td>\n",
       "            <td>None</td>\n",
       "            <td>None</td>\n",
       "            <td>None</td>\n",
       "            <td>Pending</td>\n",
       "            <td>1</td>\n",
       "        </tr>\n",
       "        <tr>\n",
       "            <td>500</td>\n",
       "            <td>500</td>\n",
       "            <td>None</td>\n",
       "            <td>None</td>\n",
       "            <td>None</td>\n",
       "            <td>None</td>\n",
       "            <td>None</td>\n",
       "            <td>None</td>\n",
       "            <td>None</td>\n",
       "            <td>None</td>\n",
       "            <td>Pending</td>\n",
       "            <td>1</td>\n",
       "        </tr>\n",
       "        <tr>\n",
       "            <td>412</td>\n",
       "            <td>450</td>\n",
       "            <td>2081-04-10 14:25:00</td>\n",
       "            <td>None</td>\n",
       "            <td>Europa</td>\n",
       "            <td>Glacier Trek Adventure</td>\n",
       "            <td>Tokyo Spaceport Terminal</td>\n",
       "            <td>120000</td>\n",
       "            <td>25000</td>\n",
       "            <td>145000</td>\n",
       "            <td>Confirmed</td>\n",
       "            <td>11</td>\n",
       "        </tr>\n",
       "        <tr>\n",
       "            <td>411</td>\n",
       "            <td>449</td>\n",
       "            <td>2081-04-10 14:25:00</td>\n",
       "            <td>None</td>\n",
       "            <td>Titan</td>\n",
       "            <td>Ringside Cruise</td>\n",
       "            <td>New York Orbital Gateway</td>\n",
       "            <td>140000</td>\n",
       "            <td>20000</td>\n",
       "            <td>160000</td>\n",
       "            <td>Confirmed</td>\n",
       "            <td>20</td>\n",
       "        </tr>\n",
       "        <tr>\n",
       "            <td>410</td>\n",
       "            <td>448</td>\n",
       "            <td>2081-04-10 13:10:00</td>\n",
       "            <td>None</td>\n",
       "            <td>Mars</td>\n",
       "            <td>Luxury Dome Stay</td>\n",
       "            <td>Dallas-Fort Worth Launch Complex</td>\n",
       "            <td>150000</td>\n",
       "            <td>30000</td>\n",
       "            <td>180000</td>\n",
       "            <td>Confirmed</td>\n",
       "            <td>2</td>\n",
       "        </tr>\n",
       "    </tbody>\n",
       "</table>"
      ],
      "text/plain": [
       "+-----------+--------------+---------------------+---------------+-------------+------------------------+----------------------------------+--------------------+----------------+--------------+---------------+---------+\n",
       "| BookingID | AssignmentID | BookingCompleteDate | CancelledDate | Destination |        Package         |          LaunchLocation          | DestinationRevenue | PackageRevenue | TotalRevenue | BookingStatus | AgentID |\n",
       "+-----------+--------------+---------------------+---------------+-------------+------------------------+----------------------------------+--------------------+----------------+--------------+---------------+---------+\n",
       "|    501    |     501      |         None        |      None     |     None    |          None          |               None               |        None        |      None      |     None     |    Pending    |    1    |\n",
       "|    500    |     500      |         None        |      None     |     None    |          None          |               None               |        None        |      None      |     None     |    Pending    |    1    |\n",
       "|    412    |     450      | 2081-04-10 14:25:00 |      None     |    Europa   | Glacier Trek Adventure |     Tokyo Spaceport Terminal     |       120000       |     25000      |    145000    |   Confirmed   |    11   |\n",
       "|    411    |     449      | 2081-04-10 14:25:00 |      None     |    Titan    |    Ringside Cruise     |     New York Orbital Gateway     |       140000       |     20000      |    160000    |   Confirmed   |    20   |\n",
       "|    410    |     448      | 2081-04-10 13:10:00 |      None     |     Mars    |    Luxury Dome Stay    | Dallas-Fort Worth Launch Complex |       150000       |     30000      |    180000    |   Confirmed   |    2    |\n",
       "+-----------+--------------+---------------------+---------------+-------------+------------------------+----------------------------------+--------------------+----------------+--------------+---------------+---------+"
      ]
     },
     "execution_count": 31,
     "metadata": {},
     "output_type": "execute_result"
    }
   ],
   "source": [
    "%%sql\n",
    "INSERT INTO bookings_2 (BookingID, AssignmentID, AgentID, BookingStatus)\n",
    "VALUES (500, 500, 1, 'Pending'),\n",
    "       (501, 501, 1, 'Pending');\n",
    "\n",
    "SELECT * FROM bookings_2 ORDER BY BookingID DESC LIMIT 5"
   ]
  },
  {
   "cell_type": "code",
   "execution_count": 32,
   "id": "566ab997-b92f-4c85-a69e-a0e1a320fc0d",
   "metadata": {},
   "outputs": [
    {
     "data": {
      "text/html": [
       "<span style=\"None\">Running query in &#x27;sqlite:///my_database.db&#x27;</span>"
      ],
      "text/plain": [
       "Running query in 'sqlite:///my_database.db'"
      ]
     },
     "metadata": {},
     "output_type": "display_data"
    },
    {
     "data": {
      "text/html": [
       "<table>\n",
       "    <thead>\n",
       "        <tr>\n",
       "            <th>AgentID</th>\n",
       "            <th>FirstName</th>\n",
       "            <th>LastName</th>\n",
       "            <th>Email</th>\n",
       "            <th>JobTitle</th>\n",
       "            <th>DepartmentName</th>\n",
       "            <th>ManagerName</th>\n",
       "            <th>SpaceLicenseNumber</th>\n",
       "            <th>YearsOfService</th>\n",
       "            <th>AverageCustomerServiceRating</th>\n",
       "            <th>load</th>\n",
       "            <th>agent_rank</th>\n",
       "        </tr>\n",
       "    </thead>\n",
       "    <tbody>\n",
       "        <tr>\n",
       "            <td>1</td>\n",
       "            <td>Aurora</td>\n",
       "            <td>Tanaka</td>\n",
       "            <td>aurora.tanaka@astra2081.com</td>\n",
       "            <td>Senior Space Travel Agent</td>\n",
       "            <td>Interplanetary Sales</td>\n",
       "            <td>Lyra Chen</td>\n",
       "            <td>SL-2081-001</td>\n",
       "            <td>12</td>\n",
       "            <td>4.0</td>\n",
       "            <td>2</td>\n",
       "            <td>26</td>\n",
       "        </tr>\n",
       "    </tbody>\n",
       "</table>"
      ],
      "text/plain": [
       "+---------+-----------+----------+-----------------------------+---------------------------+----------------------+-------------+--------------------+----------------+------------------------------+------+------------+\n",
       "| AgentID | FirstName | LastName |            Email            |          JobTitle         |    DepartmentName    | ManagerName | SpaceLicenseNumber | YearsOfService | AverageCustomerServiceRating | load | agent_rank |\n",
       "+---------+-----------+----------+-----------------------------+---------------------------+----------------------+-------------+--------------------+----------------+------------------------------+------+------------+\n",
       "|    1    |   Aurora  |  Tanaka  | aurora.tanaka@astra2081.com | Senior Space Travel Agent | Interplanetary Sales |  Lyra Chen  |    SL-2081-001     |       12       |             4.0              |  2   |     26     |\n",
       "+---------+-----------+----------+-----------------------------+---------------------------+----------------------+-------------+--------------------+----------------+------------------------------+------+------------+"
      ]
     },
     "execution_count": 32,
     "metadata": {},
     "output_type": "execute_result"
    }
   ],
   "source": [
    "%sql SELECT * FROM space_travel_agents WHERE AgentID = 1"
   ]
  },
  {
   "cell_type": "code",
   "execution_count": 33,
   "id": "9708c35f-973a-4abb-83a0-a12fcce9e7d9",
   "metadata": {},
   "outputs": [
    {
     "data": {
      "text/html": [
       "<span style=\"None\">Running query in &#x27;sqlite:///my_database.db&#x27;</span>"
      ],
      "text/plain": [
       "Running query in 'sqlite:///my_database.db'"
      ]
     },
     "metadata": {},
     "output_type": "display_data"
    },
    {
     "data": {
      "text/html": [
       "<table>\n",
       "    <thead>\n",
       "        <tr>\n",
       "            <th>AgentID</th>\n",
       "            <th>agent_rank</th>\n",
       "        </tr>\n",
       "    </thead>\n",
       "    <tbody>\n",
       "        <tr>\n",
       "            <td>1</td>\n",
       "            <td>26</td>\n",
       "        </tr>\n",
       "        <tr>\n",
       "            <td>2</td>\n",
       "            <td>7</td>\n",
       "        </tr>\n",
       "        <tr>\n",
       "            <td>3</td>\n",
       "            <td>2</td>\n",
       "        </tr>\n",
       "        <tr>\n",
       "            <td>4</td>\n",
       "            <td>10</td>\n",
       "        </tr>\n",
       "        <tr>\n",
       "            <td>5</td>\n",
       "            <td>23</td>\n",
       "        </tr>\n",
       "    </tbody>\n",
       "</table>"
      ],
      "text/plain": [
       "+---------+------------+\n",
       "| AgentID | agent_rank |\n",
       "+---------+------------+\n",
       "|    1    |     26     |\n",
       "|    2    |     7      |\n",
       "|    3    |     2      |\n",
       "|    4    |     10     |\n",
       "|    5    |     23     |\n",
       "+---------+------------+"
      ]
     },
     "execution_count": 33,
     "metadata": {},
     "output_type": "execute_result"
    }
   ],
   "source": [
    "%sql SELECT * FROM agent_rank_tracker LIMIT 5"
   ]
  },
  {
   "cell_type": "code",
   "execution_count": 34,
   "id": "71a5fe12-5b0a-4c88-9cad-62a8f38d3035",
   "metadata": {},
   "outputs": [
    {
     "data": {
      "text/html": [
       "<span style=\"None\">Running query in &#x27;sqlite:///my_database.db&#x27;</span>"
      ],
      "text/plain": [
       "Running query in 'sqlite:///my_database.db'"
      ]
     },
     "metadata": {},
     "output_type": "display_data"
    },
    {
     "data": {
      "text/html": [
       "<table>\n",
       "    <thead>\n",
       "        <tr>\n",
       "            <th>AgentID</th>\n",
       "            <th>FirstName</th>\n",
       "            <th>LastName</th>\n",
       "            <th>Email</th>\n",
       "            <th>JobTitle</th>\n",
       "            <th>DepartmentName</th>\n",
       "            <th>ManagerName</th>\n",
       "            <th>SpaceLicenseNumber</th>\n",
       "            <th>YearsOfService</th>\n",
       "            <th>AverageCustomerServiceRating</th>\n",
       "            <th>load</th>\n",
       "            <th>agent_rank</th>\n",
       "        </tr>\n",
       "    </thead>\n",
       "    <tbody>\n",
       "        <tr>\n",
       "            <td>1</td>\n",
       "            <td>Aurora</td>\n",
       "            <td>Tanaka</td>\n",
       "            <td>aurora.tanaka@astra2081.com</td>\n",
       "            <td>Senior Space Travel Agent</td>\n",
       "            <td>Interplanetary Sales</td>\n",
       "            <td>Lyra Chen</td>\n",
       "            <td>SL-2081-001</td>\n",
       "            <td>12</td>\n",
       "            <td>4.0</td>\n",
       "            <td>2</td>\n",
       "            <td>26</td>\n",
       "        </tr>\n",
       "        <tr>\n",
       "            <td>9</td>\n",
       "            <td>Luna</td>\n",
       "            <td>Martinez</td>\n",
       "            <td>luna.martinez@astra2081.com</td>\n",
       "            <td>Space Travel Agent</td>\n",
       "            <td>Premium Bookings</td>\n",
       "            <td>Zane Holloway</td>\n",
       "            <td>SL-2081-009</td>\n",
       "            <td>6</td>\n",
       "            <td>4.4</td>\n",
       "            <td>2</td>\n",
       "            <td>28</td>\n",
       "        </tr>\n",
       "        <tr>\n",
       "            <td>14</td>\n",
       "            <td>Selene</td>\n",
       "            <td>Ali</td>\n",
       "            <td>selene.ali@astra2081.com</td>\n",
       "            <td>Lead Space Travel Agent</td>\n",
       "            <td>Luxury Voyages</td>\n",
       "            <td>Zane Holloway</td>\n",
       "            <td>SL-2081-014</td>\n",
       "            <td>16</td>\n",
       "            <td>4.2</td>\n",
       "            <td>2</td>\n",
       "            <td>25</td>\n",
       "        </tr>\n",
       "        <tr>\n",
       "            <td>15</td>\n",
       "            <td>Rhea</td>\n",
       "            <td>Chen</td>\n",
       "            <td>rhea.chen@astra2081.com</td>\n",
       "            <td>Space Travel Agent</td>\n",
       "            <td>Interplanetary Sales</td>\n",
       "            <td>Lyra Chen</td>\n",
       "            <td>SL-2081-015</td>\n",
       "            <td>4</td>\n",
       "            <td>4.1</td>\n",
       "            <td>2</td>\n",
       "            <td>29</td>\n",
       "        </tr>\n",
       "        <tr>\n",
       "            <td>18</td>\n",
       "            <td>Dax</td>\n",
       "            <td>Reyes</td>\n",
       "            <td>dax.reyes@astra2081.com</td>\n",
       "            <td>Space Travel Agent</td>\n",
       "            <td>Premium Bookings</td>\n",
       "            <td>Zane Holloway</td>\n",
       "            <td>SL-2081-018</td>\n",
       "            <td>8</td>\n",
       "            <td>4.0</td>\n",
       "            <td>2</td>\n",
       "            <td>27</td>\n",
       "        </tr>\n",
       "        <tr>\n",
       "            <td>28</td>\n",
       "            <td>Mila</td>\n",
       "            <td>Reed</td>\n",
       "            <td>mila.reed@astra2081.com</td>\n",
       "            <td>Space Travel Agent</td>\n",
       "            <td>Interplanetary Sales</td>\n",
       "            <td>Lyra Chen</td>\n",
       "            <td>SL-2081-028</td>\n",
       "            <td>6</td>\n",
       "            <td>4.9</td>\n",
       "            <td>3</td>\n",
       "            <td>30</td>\n",
       "        </tr>\n",
       "    </tbody>\n",
       "</table>"
      ],
      "text/plain": [
       "+---------+-----------+----------+-----------------------------+---------------------------+----------------------+---------------+--------------------+----------------+------------------------------+------+------------+\n",
       "| AgentID | FirstName | LastName |            Email            |          JobTitle         |    DepartmentName    |  ManagerName  | SpaceLicenseNumber | YearsOfService | AverageCustomerServiceRating | load | agent_rank |\n",
       "+---------+-----------+----------+-----------------------------+---------------------------+----------------------+---------------+--------------------+----------------+------------------------------+------+------------+\n",
       "|    1    |   Aurora  |  Tanaka  | aurora.tanaka@astra2081.com | Senior Space Travel Agent | Interplanetary Sales |   Lyra Chen   |    SL-2081-001     |       12       |             4.0              |  2   |     26     |\n",
       "|    9    |    Luna   | Martinez | luna.martinez@astra2081.com |     Space Travel Agent    |   Premium Bookings   | Zane Holloway |    SL-2081-009     |       6        |             4.4              |  2   |     28     |\n",
       "|    14   |   Selene  |   Ali    |   selene.ali@astra2081.com  |  Lead Space Travel Agent  |    Luxury Voyages    | Zane Holloway |    SL-2081-014     |       16       |             4.2              |  2   |     25     |\n",
       "|    15   |    Rhea   |   Chen   |   rhea.chen@astra2081.com   |     Space Travel Agent    | Interplanetary Sales |   Lyra Chen   |    SL-2081-015     |       4        |             4.1              |  2   |     29     |\n",
       "|    18   |    Dax    |  Reyes   |   dax.reyes@astra2081.com   |     Space Travel Agent    |   Premium Bookings   | Zane Holloway |    SL-2081-018     |       8        |             4.0              |  2   |     27     |\n",
       "|    28   |    Mila   |   Reed   |   mila.reed@astra2081.com   |     Space Travel Agent    | Interplanetary Sales |   Lyra Chen   |    SL-2081-028     |       6        |             4.9              |  3   |     30     |\n",
       "+---------+-----------+----------+-----------------------------+---------------------------+----------------------+---------------+--------------------+----------------+------------------------------+------+------------+"
      ]
     },
     "execution_count": 34,
     "metadata": {},
     "output_type": "execute_result"
    }
   ],
   "source": [
    "%sql SELECT * FROM space_travel_agents WHERE load >= 2"
   ]
  },
  {
   "cell_type": "markdown",
   "id": "c2684ae7-535b-4812-92ad-5bee323c5054",
   "metadata": {},
   "source": [
    "So this trigger added the load and update the rank nicely!"
   ]
  },
  {
   "cell_type": "markdown",
   "id": "77df919b-110d-47eb-bebc-5ff9985fe2df",
   "metadata": {},
   "source": [
    "## Assign agents to new customer"
   ]
  },
  {
   "cell_type": "code",
   "execution_count": 35,
   "id": "55aad52a-0adf-4e88-bbd6-a90ce570dee7",
   "metadata": {},
   "outputs": [],
   "source": [
    "# First, create a table named new_customer"
   ]
  },
  {
   "cell_type": "code",
   "execution_count": 36,
   "id": "c66bade4-5833-4861-ae01-d2f232f8d9a1",
   "metadata": {},
   "outputs": [
    {
     "data": {
      "text/html": [
       "<span style=\"None\">Running query in &#x27;sqlite:///my_database.db&#x27;</span>"
      ],
      "text/plain": [
       "Running query in 'sqlite:///my_database.db'"
      ]
     },
     "metadata": {},
     "output_type": "display_data"
    },
    {
     "data": {
      "text/html": [
       "<table>\n",
       "    <thead>\n",
       "        <tr>\n",
       "        </tr>\n",
       "    </thead>\n",
       "    <tbody>\n",
       "    </tbody>\n",
       "</table>"
      ],
      "text/plain": [
       "++\n",
       "||\n",
       "++\n",
       "++"
      ]
     },
     "execution_count": 36,
     "metadata": {},
     "output_type": "execute_result"
    }
   ],
   "source": [
    "%%sql\n",
    "CREATE TABLE new_customer (\n",
    "    CustomerName VARCHAR(100) PRIMARY KEY,\n",
    "    CommunicationMethod VARCHAR(50) NOT NULL CHECK (CommunicationMethod IN ('Phone Call', 'Text')),\n",
    "    LeadSource VARCHAR(50) NOT NULL CHECK (LeadSource IN ('Organic', 'Bought')),\n",
    "    Destination VARCHAR(50) NOT NULL CHECK (Destination IN ('Mars', 'Europa', 'Titan', 'Venus', 'Ganymede')),\n",
    "    LaunchLocation VARCHAR(200) NOT NULL CHECK (LaunchLocation IN ('Dallas-Fort Worth Launch Complex', \n",
    "    'New York Orbital Gateway', 'Dubai Interplanetary Hub',\n",
    "    'Tokyo Spaceport Terminal', 'London Ascension Platform', 'Sydney Stellar Port'))\n",
    "    )"
   ]
  },
  {
   "cell_type": "code",
   "execution_count": 37,
   "id": "8a31c761-ca9c-4bd1-9c17-322d779fc394",
   "metadata": {},
   "outputs": [
    {
     "data": {
      "text/html": [
       "<span style=\"None\">Running query in &#x27;sqlite:///my_database.db&#x27;</span>"
      ],
      "text/plain": [
       "Running query in 'sqlite:///my_database.db'"
      ]
     },
     "metadata": {},
     "output_type": "display_data"
    },
    {
     "data": {
      "text/html": [
       "<table>\n",
       "    <thead>\n",
       "        <tr>\n",
       "            <th>CustomerName</th>\n",
       "            <th>CommunicationMethod</th>\n",
       "            <th>LeadSource</th>\n",
       "            <th>Destination</th>\n",
       "            <th>LaunchLocation</th>\n",
       "        </tr>\n",
       "    </thead>\n",
       "    <tbody>\n",
       "    </tbody>\n",
       "</table>"
      ],
      "text/plain": [
       "+--------------+---------------------+------------+-------------+----------------+\n",
       "| CustomerName | CommunicationMethod | LeadSource | Destination | LaunchLocation |\n",
       "+--------------+---------------------+------------+-------------+----------------+\n",
       "+--------------+---------------------+------------+-------------+----------------+"
      ]
     },
     "execution_count": 37,
     "metadata": {},
     "output_type": "execute_result"
    }
   ],
   "source": [
    "%sql SELECT * FROM new_customer"
   ]
  },
  {
   "cell_type": "code",
   "execution_count": 38,
   "id": "205ebc1b-dd24-485b-88e6-a02c20dd9a98",
   "metadata": {},
   "outputs": [],
   "source": [
    "# To make sense, I added 56 years from today"
   ]
  },
  {
   "cell_type": "code",
   "execution_count": 39,
   "id": "9028af4f-ccd1-4aed-a967-eb28c8a383a2",
   "metadata": {},
   "outputs": [
    {
     "data": {
      "text/html": [
       "<span style=\"None\">Running query in &#x27;sqlite:///my_database.db&#x27;</span>"
      ],
      "text/plain": [
       "Running query in 'sqlite:///my_database.db'"
      ]
     },
     "metadata": {},
     "output_type": "display_data"
    },
    {
     "data": {
      "text/html": [
       "<table>\n",
       "    <thead>\n",
       "        <tr>\n",
       "        </tr>\n",
       "    </thead>\n",
       "    <tbody>\n",
       "    </tbody>\n",
       "</table>"
      ],
      "text/plain": [
       "++\n",
       "||\n",
       "++\n",
       "++"
      ]
     },
     "execution_count": 39,
     "metadata": {},
     "output_type": "execute_result"
    }
   ],
   "source": [
    "%%sql\n",
    "CREATE TABLE agent_buffer (\n",
    "  AgentID INTEGER\n",
    ");\n"
   ]
  },
  {
   "cell_type": "code",
   "execution_count": 40,
   "id": "bd3a3ec9-9982-43ef-9a89-eef857bc5aad",
   "metadata": {},
   "outputs": [
    {
     "data": {
      "text/html": [
       "<span style=\"None\">Running query in &#x27;sqlite:///my_database.db&#x27;</span>"
      ],
      "text/plain": [
       "Running query in 'sqlite:///my_database.db'"
      ]
     },
     "metadata": {},
     "output_type": "display_data"
    },
    {
     "data": {
      "text/html": [
       "<table>\n",
       "    <thead>\n",
       "        <tr>\n",
       "        </tr>\n",
       "    </thead>\n",
       "    <tbody>\n",
       "    </tbody>\n",
       "</table>"
      ],
      "text/plain": [
       "++\n",
       "||\n",
       "++\n",
       "++"
      ]
     },
     "execution_count": 40,
     "metadata": {},
     "output_type": "execute_result"
    }
   ],
   "source": [
    "%%sql\n",
    "CREATE TRIGGER updating_customer\n",
    "AFTER INSERT ON new_customer\n",
    "FOR EACH ROW\n",
    "BEGIN\n",
    "\n",
    "  -- Insert assignment using buffered agent\n",
    "  INSERT INTO assignment_history (\n",
    "    CustomerName,\n",
    "    AssignmentID,\n",
    "    CommunicationMethod,\n",
    "    LeadSource,\n",
    "    AssignedDateTime\n",
    "    --AgentID\n",
    "  )\n",
    "  VALUES (\n",
    "    NEW.CustomerName,\n",
    "    (SELECT IFNULL(MAX(AssignmentID), 0) + 1 FROM assignment_history),\n",
    "    NEW.CommunicationMethod,\n",
    "    NEW.LeadSource,\n",
    "    datetime('now', '+56 years')\n",
    "    --(SELECT AgentID FROM agent_rank_tracker)\n",
    "  );\n",
    "\n",
    "  -- Insert booking using same buffered agent\n",
    "  INSERT INTO bookings_2 (\n",
    "    BookingID,\n",
    "    AssignmentID,\n",
    "    Destination,\n",
    "    LaunchLocation,\n",
    "    BookingStatus\n",
    "    --AgentID\n",
    "  )\n",
    "  VALUES (\n",
    "    (SELECT IFNULL(MAX(BookingID), 0) + 1 FROM bookings_2),\n",
    "    (SELECT MAX(AssignmentID) FROM assignment_history),\n",
    "    NEW.Destination,\n",
    "    NEW.LaunchLocation,\n",
    "    'Pending'\n",
    "    --(SELECT AgentID FROM agent_rank_tracker)\n",
    "  );\n",
    "\n",
    "\n",
    "END;"
   ]
  },
  {
   "cell_type": "code",
   "execution_count": 41,
   "id": "db247bcf-0161-49b5-8468-df79d13f09a9",
   "metadata": {},
   "outputs": [
    {
     "data": {
      "text/html": [
       "<span style=\"None\">Running query in &#x27;sqlite:///my_database.db&#x27;</span>"
      ],
      "text/plain": [
       "Running query in 'sqlite:///my_database.db'"
      ]
     },
     "metadata": {},
     "output_type": "display_data"
    },
    {
     "data": {
      "text/html": [
       "<table>\n",
       "    <thead>\n",
       "        <tr>\n",
       "        </tr>\n",
       "    </thead>\n",
       "    <tbody>\n",
       "    </tbody>\n",
       "</table>"
      ],
      "text/plain": [
       "++\n",
       "||\n",
       "++\n",
       "++"
      ]
     },
     "execution_count": 41,
     "metadata": {},
     "output_type": "execute_result"
    }
   ],
   "source": [
    "%%sql\n",
    "CREATE TRIGGER update_agent_assignment\n",
    "AFTER INSERT ON assignment_history\n",
    "FOR EACH ROW\n",
    "BEGIN\n",
    "  UPDATE assignment_history\n",
    "  SET AgentID = (SELECT AgentID FROM agent_rank_tracker)\n",
    "  WHERE AssignmentID = NEW.AssignmentID;\n",
    "END;"
   ]
  },
  {
   "cell_type": "code",
   "execution_count": 42,
   "id": "229228d8-3cc4-4573-b0cb-60000be49247",
   "metadata": {},
   "outputs": [
    {
     "data": {
      "text/html": [
       "<span style=\"None\">Running query in &#x27;sqlite:///my_database.db&#x27;</span>"
      ],
      "text/plain": [
       "Running query in 'sqlite:///my_database.db'"
      ]
     },
     "metadata": {},
     "output_type": "display_data"
    },
    {
     "data": {
      "text/html": [
       "<table>\n",
       "    <thead>\n",
       "        <tr>\n",
       "        </tr>\n",
       "    </thead>\n",
       "    <tbody>\n",
       "    </tbody>\n",
       "</table>"
      ],
      "text/plain": [
       "++\n",
       "||\n",
       "++\n",
       "++"
      ]
     },
     "execution_count": 42,
     "metadata": {},
     "output_type": "execute_result"
    }
   ],
   "source": [
    "%%sql\n",
    "CREATE TRIGGER update_agent_booking\n",
    "AFTER INSERT ON bookings_2\n",
    "FOR EACH ROW\n",
    "BEGIN\n",
    "  UPDATE bookings_2\n",
    "  SET AgentID = (SELECT AgentID FROM agent_rank_tracker)\n",
    "  WHERE BookingID = NEW.BookingID;\n",
    "END;"
   ]
  },
  {
   "cell_type": "code",
   "execution_count": 43,
   "id": "23376db0-df30-4070-a900-5d2728d2bf36",
   "metadata": {},
   "outputs": [
    {
     "data": {
      "text/html": [
       "<span style=\"None\">Running query in &#x27;sqlite:///my_database.db&#x27;</span>"
      ],
      "text/plain": [
       "Running query in 'sqlite:///my_database.db'"
      ]
     },
     "metadata": {},
     "output_type": "display_data"
    },
    {
     "data": {
      "text/html": [
       "<table>\n",
       "    <thead>\n",
       "        <tr>\n",
       "            <th>AgentID</th>\n",
       "            <th>FirstName</th>\n",
       "            <th>LastName</th>\n",
       "            <th>Email</th>\n",
       "            <th>JobTitle</th>\n",
       "            <th>DepartmentName</th>\n",
       "            <th>ManagerName</th>\n",
       "            <th>SpaceLicenseNumber</th>\n",
       "            <th>YearsOfService</th>\n",
       "            <th>AverageCustomerServiceRating</th>\n",
       "            <th>load</th>\n",
       "            <th>agent_rank</th>\n",
       "        </tr>\n",
       "    </thead>\n",
       "    <tbody>\n",
       "        <tr>\n",
       "            <td>6</td>\n",
       "            <td>Soren</td>\n",
       "            <td>Baker</td>\n",
       "            <td>soren.baker@astra2081.com</td>\n",
       "            <td>Lead Space Travel Agent</td>\n",
       "            <td>Premium Bookings</td>\n",
       "            <td>Zane Holloway</td>\n",
       "            <td>SL-2081-006</td>\n",
       "            <td>18</td>\n",
       "            <td>4.6</td>\n",
       "            <td>0</td>\n",
       "            <td>1</td>\n",
       "        </tr>\n",
       "        <tr>\n",
       "            <td>3</td>\n",
       "            <td>Nova</td>\n",
       "            <td>Singh</td>\n",
       "            <td>nova.singh@astra2081.com</td>\n",
       "            <td>Senior Space Travel Agent</td>\n",
       "            <td>Premium Bookings</td>\n",
       "            <td>Zane Holloway</td>\n",
       "            <td>SL-2081-003</td>\n",
       "            <td>15</td>\n",
       "            <td>4.0</td>\n",
       "            <td>0</td>\n",
       "            <td>2</td>\n",
       "        </tr>\n",
       "        <tr>\n",
       "            <td>27</td>\n",
       "            <td>Ronan</td>\n",
       "            <td>Young</td>\n",
       "            <td>ronan.young@astra2081.com</td>\n",
       "            <td>Senior Space Travel Agent</td>\n",
       "            <td>Premium Bookings</td>\n",
       "            <td>Zane Holloway</td>\n",
       "            <td>SL-2081-027</td>\n",
       "            <td>15</td>\n",
       "            <td>4.0</td>\n",
       "            <td>0</td>\n",
       "            <td>2</td>\n",
       "        </tr>\n",
       "        <tr>\n",
       "            <td>24</td>\n",
       "            <td>Phoebe</td>\n",
       "            <td>Diaz</td>\n",
       "            <td>phoebe.diaz@astra2081.com</td>\n",
       "            <td>Senior Space Travel Agent</td>\n",
       "            <td>Premium Bookings</td>\n",
       "            <td>Zane Holloway</td>\n",
       "            <td>SL-2081-024</td>\n",
       "            <td>13</td>\n",
       "            <td>4.3</td>\n",
       "            <td>0</td>\n",
       "            <td>4</td>\n",
       "        </tr>\n",
       "        <tr>\n",
       "            <td>16</td>\n",
       "            <td>Zion</td>\n",
       "            <td>Parker</td>\n",
       "            <td>zion.parker@astra2081.com</td>\n",
       "            <td>Senior Space Travel Agent</td>\n",
       "            <td>Premium Bookings</td>\n",
       "            <td>Zane Holloway</td>\n",
       "            <td>SL-2081-016</td>\n",
       "            <td>12</td>\n",
       "            <td>4.0</td>\n",
       "            <td>0</td>\n",
       "            <td>5</td>\n",
       "        </tr>\n",
       "    </tbody>\n",
       "</table>"
      ],
      "text/plain": [
       "+---------+-----------+----------+---------------------------+---------------------------+------------------+---------------+--------------------+----------------+------------------------------+------+------------+\n",
       "| AgentID | FirstName | LastName |           Email           |          JobTitle         |  DepartmentName  |  ManagerName  | SpaceLicenseNumber | YearsOfService | AverageCustomerServiceRating | load | agent_rank |\n",
       "+---------+-----------+----------+---------------------------+---------------------------+------------------+---------------+--------------------+----------------+------------------------------+------+------------+\n",
       "|    6    |   Soren   |  Baker   | soren.baker@astra2081.com |  Lead Space Travel Agent  | Premium Bookings | Zane Holloway |    SL-2081-006     |       18       |             4.6              |  0   |     1      |\n",
       "|    3    |    Nova   |  Singh   |  nova.singh@astra2081.com | Senior Space Travel Agent | Premium Bookings | Zane Holloway |    SL-2081-003     |       15       |             4.0              |  0   |     2      |\n",
       "|    27   |   Ronan   |  Young   | ronan.young@astra2081.com | Senior Space Travel Agent | Premium Bookings | Zane Holloway |    SL-2081-027     |       15       |             4.0              |  0   |     2      |\n",
       "|    24   |   Phoebe  |   Diaz   | phoebe.diaz@astra2081.com | Senior Space Travel Agent | Premium Bookings | Zane Holloway |    SL-2081-024     |       13       |             4.3              |  0   |     4      |\n",
       "|    16   |    Zion   |  Parker  | zion.parker@astra2081.com | Senior Space Travel Agent | Premium Bookings | Zane Holloway |    SL-2081-016     |       12       |             4.0              |  0   |     5      |\n",
       "+---------+-----------+----------+---------------------------+---------------------------+------------------+---------------+--------------------+----------------+------------------------------+------+------------+"
      ]
     },
     "execution_count": 43,
     "metadata": {},
     "output_type": "execute_result"
    }
   ],
   "source": [
    "%sql SELECT * FROM space_travel_agents ORDER BY agent_rank LIMIT 5"
   ]
  },
  {
   "cell_type": "code",
   "execution_count": 44,
   "id": "c32b5741-7ebb-4dc9-bc6a-aaa40d9c11c7",
   "metadata": {},
   "outputs": [],
   "source": [
    "# Then assigning customers to an agent"
   ]
  },
  {
   "cell_type": "code",
   "execution_count": 45,
   "id": "8450dc21-bacb-410d-9013-45db2b8d01b6",
   "metadata": {},
   "outputs": [
    {
     "data": {
      "text/html": [
       "<span style=\"None\">Running query in &#x27;sqlite:///my_database.db&#x27;</span>"
      ],
      "text/plain": [
       "Running query in 'sqlite:///my_database.db'"
      ]
     },
     "metadata": {},
     "output_type": "display_data"
    },
    {
     "data": {
      "text/html": [
       "<span style=\"color: green\">2 rows affected.</span>"
      ],
      "text/plain": [
       "2 rows affected."
      ]
     },
     "metadata": {},
     "output_type": "display_data"
    },
    {
     "data": {
      "text/html": [
       "<table>\n",
       "    <thead>\n",
       "        <tr>\n",
       "        </tr>\n",
       "    </thead>\n",
       "    <tbody>\n",
       "    </tbody>\n",
       "</table>"
      ],
      "text/plain": [
       "++\n",
       "||\n",
       "++\n",
       "++"
      ]
     },
     "execution_count": 45,
     "metadata": {},
     "output_type": "execute_result"
    }
   ],
   "source": [
    "%%sql\n",
    "\n",
    "INSERT INTO new_customer (CustomerName, CommunicationMethod, LeadSource, Destination, LaunchLocation)\n",
    "VALUES ('Kate Nguyen', 'Text', 'Organic', 'Mars', 'Dallas-Fort Worth Launch Complex'),\n",
    "('Jonh Doe', 'Phone Call', 'Bought', 'Europa', 'Sydney Stellar Port')"
   ]
  },
  {
   "cell_type": "code",
   "execution_count": 46,
   "id": "927d8d8d-af80-4ca2-af76-d4cbdc5c5bcd",
   "metadata": {},
   "outputs": [
    {
     "data": {
      "text/html": [
       "<span style=\"None\">Running query in &#x27;sqlite:///my_database.db&#x27;</span>"
      ],
      "text/plain": [
       "Running query in 'sqlite:///my_database.db'"
      ]
     },
     "metadata": {},
     "output_type": "display_data"
    },
    {
     "data": {
      "text/html": [
       "<table>\n",
       "    <thead>\n",
       "        <tr>\n",
       "            <th>CustomerName</th>\n",
       "            <th>CommunicationMethod</th>\n",
       "            <th>LeadSource</th>\n",
       "            <th>Destination</th>\n",
       "            <th>LaunchLocation</th>\n",
       "        </tr>\n",
       "    </thead>\n",
       "    <tbody>\n",
       "        <tr>\n",
       "            <td>Kate Nguyen</td>\n",
       "            <td>Text</td>\n",
       "            <td>Organic</td>\n",
       "            <td>Mars</td>\n",
       "            <td>Dallas-Fort Worth Launch Complex</td>\n",
       "        </tr>\n",
       "        <tr>\n",
       "            <td>Jonh Doe</td>\n",
       "            <td>Phone Call</td>\n",
       "            <td>Bought</td>\n",
       "            <td>Europa</td>\n",
       "            <td>Sydney Stellar Port</td>\n",
       "        </tr>\n",
       "    </tbody>\n",
       "</table>"
      ],
      "text/plain": [
       "+--------------+---------------------+------------+-------------+----------------------------------+\n",
       "| CustomerName | CommunicationMethod | LeadSource | Destination |          LaunchLocation          |\n",
       "+--------------+---------------------+------------+-------------+----------------------------------+\n",
       "| Kate Nguyen  |         Text        |  Organic   |     Mars    | Dallas-Fort Worth Launch Complex |\n",
       "|   Jonh Doe   |      Phone Call     |   Bought   |    Europa   |       Sydney Stellar Port        |\n",
       "+--------------+---------------------+------------+-------------+----------------------------------+"
      ]
     },
     "execution_count": 46,
     "metadata": {},
     "output_type": "execute_result"
    }
   ],
   "source": [
    "%sql SELECT * FROM new_customer"
   ]
  },
  {
   "cell_type": "code",
   "execution_count": 47,
   "id": "9acb19af-7a92-4a5d-bc6a-c86e9315f437",
   "metadata": {},
   "outputs": [
    {
     "data": {
      "text/html": [
       "<span style=\"None\">Running query in &#x27;sqlite:///my_database.db&#x27;</span>"
      ],
      "text/plain": [
       "Running query in 'sqlite:///my_database.db'"
      ]
     },
     "metadata": {},
     "output_type": "display_data"
    },
    {
     "data": {
      "text/html": [
       "<table>\n",
       "    <thead>\n",
       "        <tr>\n",
       "            <th>AgentID</th>\n",
       "            <th>FirstName</th>\n",
       "            <th>LastName</th>\n",
       "            <th>Email</th>\n",
       "            <th>JobTitle</th>\n",
       "            <th>DepartmentName</th>\n",
       "            <th>ManagerName</th>\n",
       "            <th>SpaceLicenseNumber</th>\n",
       "            <th>YearsOfService</th>\n",
       "            <th>AverageCustomerServiceRating</th>\n",
       "            <th>load</th>\n",
       "            <th>agent_rank</th>\n",
       "        </tr>\n",
       "    </thead>\n",
       "    <tbody>\n",
       "        <tr>\n",
       "            <td>6</td>\n",
       "            <td>Soren</td>\n",
       "            <td>Baker</td>\n",
       "            <td>soren.baker@astra2081.com</td>\n",
       "            <td>Lead Space Travel Agent</td>\n",
       "            <td>Premium Bookings</td>\n",
       "            <td>Zane Holloway</td>\n",
       "            <td>SL-2081-006</td>\n",
       "            <td>18</td>\n",
       "            <td>4.6</td>\n",
       "            <td>0</td>\n",
       "            <td>1</td>\n",
       "        </tr>\n",
       "        <tr>\n",
       "            <td>3</td>\n",
       "            <td>Nova</td>\n",
       "            <td>Singh</td>\n",
       "            <td>nova.singh@astra2081.com</td>\n",
       "            <td>Senior Space Travel Agent</td>\n",
       "            <td>Premium Bookings</td>\n",
       "            <td>Zane Holloway</td>\n",
       "            <td>SL-2081-003</td>\n",
       "            <td>15</td>\n",
       "            <td>4.0</td>\n",
       "            <td>0</td>\n",
       "            <td>2</td>\n",
       "        </tr>\n",
       "        <tr>\n",
       "            <td>27</td>\n",
       "            <td>Ronan</td>\n",
       "            <td>Young</td>\n",
       "            <td>ronan.young@astra2081.com</td>\n",
       "            <td>Senior Space Travel Agent</td>\n",
       "            <td>Premium Bookings</td>\n",
       "            <td>Zane Holloway</td>\n",
       "            <td>SL-2081-027</td>\n",
       "            <td>15</td>\n",
       "            <td>4.0</td>\n",
       "            <td>0</td>\n",
       "            <td>2</td>\n",
       "        </tr>\n",
       "        <tr>\n",
       "            <td>24</td>\n",
       "            <td>Phoebe</td>\n",
       "            <td>Diaz</td>\n",
       "            <td>phoebe.diaz@astra2081.com</td>\n",
       "            <td>Senior Space Travel Agent</td>\n",
       "            <td>Premium Bookings</td>\n",
       "            <td>Zane Holloway</td>\n",
       "            <td>SL-2081-024</td>\n",
       "            <td>13</td>\n",
       "            <td>4.3</td>\n",
       "            <td>0</td>\n",
       "            <td>4</td>\n",
       "        </tr>\n",
       "        <tr>\n",
       "            <td>16</td>\n",
       "            <td>Zion</td>\n",
       "            <td>Parker</td>\n",
       "            <td>zion.parker@astra2081.com</td>\n",
       "            <td>Senior Space Travel Agent</td>\n",
       "            <td>Premium Bookings</td>\n",
       "            <td>Zane Holloway</td>\n",
       "            <td>SL-2081-016</td>\n",
       "            <td>12</td>\n",
       "            <td>4.0</td>\n",
       "            <td>0</td>\n",
       "            <td>5</td>\n",
       "        </tr>\n",
       "    </tbody>\n",
       "</table>"
      ],
      "text/plain": [
       "+---------+-----------+----------+---------------------------+---------------------------+------------------+---------------+--------------------+----------------+------------------------------+------+------------+\n",
       "| AgentID | FirstName | LastName |           Email           |          JobTitle         |  DepartmentName  |  ManagerName  | SpaceLicenseNumber | YearsOfService | AverageCustomerServiceRating | load | agent_rank |\n",
       "+---------+-----------+----------+---------------------------+---------------------------+------------------+---------------+--------------------+----------------+------------------------------+------+------------+\n",
       "|    6    |   Soren   |  Baker   | soren.baker@astra2081.com |  Lead Space Travel Agent  | Premium Bookings | Zane Holloway |    SL-2081-006     |       18       |             4.6              |  0   |     1      |\n",
       "|    3    |    Nova   |  Singh   |  nova.singh@astra2081.com | Senior Space Travel Agent | Premium Bookings | Zane Holloway |    SL-2081-003     |       15       |             4.0              |  0   |     2      |\n",
       "|    27   |   Ronan   |  Young   | ronan.young@astra2081.com | Senior Space Travel Agent | Premium Bookings | Zane Holloway |    SL-2081-027     |       15       |             4.0              |  0   |     2      |\n",
       "|    24   |   Phoebe  |   Diaz   | phoebe.diaz@astra2081.com | Senior Space Travel Agent | Premium Bookings | Zane Holloway |    SL-2081-024     |       13       |             4.3              |  0   |     4      |\n",
       "|    16   |    Zion   |  Parker  | zion.parker@astra2081.com | Senior Space Travel Agent | Premium Bookings | Zane Holloway |    SL-2081-016     |       12       |             4.0              |  0   |     5      |\n",
       "+---------+-----------+----------+---------------------------+---------------------------+------------------+---------------+--------------------+----------------+------------------------------+------+------------+"
      ]
     },
     "execution_count": 47,
     "metadata": {},
     "output_type": "execute_result"
    }
   ],
   "source": [
    "%sql SELECT * FROM space_travel_agents ORDER BY agent_rank LIMIT 5"
   ]
  },
  {
   "cell_type": "code",
   "execution_count": 48,
   "id": "2b147f4f-6b5f-4d07-87fe-0f88a560c264",
   "metadata": {},
   "outputs": [
    {
     "data": {
      "text/html": [
       "<span style=\"None\">Running query in &#x27;sqlite:///my_database.db&#x27;</span>"
      ],
      "text/plain": [
       "Running query in 'sqlite:///my_database.db'"
      ]
     },
     "metadata": {},
     "output_type": "display_data"
    },
    {
     "data": {
      "text/html": [
       "<table>\n",
       "    <thead>\n",
       "        <tr>\n",
       "            <th>AssignmentID</th>\n",
       "            <th>AgentID</th>\n",
       "            <th>CustomerName</th>\n",
       "            <th>CommunicationMethod</th>\n",
       "            <th>LeadSource</th>\n",
       "            <th>AssignedDateTime</th>\n",
       "        </tr>\n",
       "    </thead>\n",
       "    <tbody>\n",
       "        <tr>\n",
       "            <td>452</td>\n",
       "            <td>1</td>\n",
       "            <td>Jonh Doe</td>\n",
       "            <td>Phone Call</td>\n",
       "            <td>Bought</td>\n",
       "            <td>2081-07-10 18:58:03</td>\n",
       "        </tr>\n",
       "        <tr>\n",
       "            <td>451</td>\n",
       "            <td>1</td>\n",
       "            <td>Kate Nguyen</td>\n",
       "            <td>Text</td>\n",
       "            <td>Organic</td>\n",
       "            <td>2081-07-10 18:58:03</td>\n",
       "        </tr>\n",
       "        <tr>\n",
       "            <td>450</td>\n",
       "            <td>11</td>\n",
       "            <td>Mira Cruz</td>\n",
       "            <td>Phone Call</td>\n",
       "            <td>Bought</td>\n",
       "            <td>2081-04-10 15:00:00</td>\n",
       "        </tr>\n",
       "        <tr>\n",
       "            <td>449</td>\n",
       "            <td>20</td>\n",
       "            <td>Arlo King</td>\n",
       "            <td>Text</td>\n",
       "            <td>Organic</td>\n",
       "            <td>2081-04-10 13:50:00</td>\n",
       "        </tr>\n",
       "        <tr>\n",
       "            <td>448</td>\n",
       "            <td>2</td>\n",
       "            <td>Tinsley Ross</td>\n",
       "            <td>Text</td>\n",
       "            <td>Bought</td>\n",
       "            <td>2081-04-10 12:40:00</td>\n",
       "        </tr>\n",
       "        <tr>\n",
       "            <td>447</td>\n",
       "            <td>16</td>\n",
       "            <td>Elowen Bell</td>\n",
       "            <td>Phone Call</td>\n",
       "            <td>Organic</td>\n",
       "            <td>2081-04-10 11:30:00</td>\n",
       "        </tr>\n",
       "        <tr>\n",
       "            <td>446</td>\n",
       "            <td>24</td>\n",
       "            <td>Callahan Rivera</td>\n",
       "            <td>Text</td>\n",
       "            <td>Bought</td>\n",
       "            <td>2081-04-10 10:20:00</td>\n",
       "        </tr>\n",
       "        <tr>\n",
       "            <td>445</td>\n",
       "            <td>7</td>\n",
       "            <td>Kylan Scott</td>\n",
       "            <td>Text</td>\n",
       "            <td>Organic</td>\n",
       "            <td>2081-04-10 09:10:00</td>\n",
       "        </tr>\n",
       "        <tr>\n",
       "            <td>444</td>\n",
       "            <td>28</td>\n",
       "            <td>Zya Lewis</td>\n",
       "            <td>Phone Call</td>\n",
       "            <td>Bought</td>\n",
       "            <td>2081-04-09 14:55:00</td>\n",
       "        </tr>\n",
       "        <tr>\n",
       "            <td>443</td>\n",
       "            <td>13</td>\n",
       "            <td>Azalea Brooks</td>\n",
       "            <td>Text</td>\n",
       "            <td>Organic</td>\n",
       "            <td>2081-04-09 13:45:00</td>\n",
       "        </tr>\n",
       "    </tbody>\n",
       "</table>\n",
       "<span style=\"font-style:italic;text-align:center;\">Truncated to <a href=\"https://jupysql.ploomber.io/en/latest/api/configuration.html#displaylimit\">displaylimit</a> of 10.</span>"
      ],
      "text/plain": [
       "+--------------+---------+-----------------+---------------------+------------+---------------------+\n",
       "| AssignmentID | AgentID |   CustomerName  | CommunicationMethod | LeadSource |   AssignedDateTime  |\n",
       "+--------------+---------+-----------------+---------------------+------------+---------------------+\n",
       "|     452      |    1    |     Jonh Doe    |      Phone Call     |   Bought   | 2081-07-10 18:58:03 |\n",
       "|     451      |    1    |   Kate Nguyen   |         Text        |  Organic   | 2081-07-10 18:58:03 |\n",
       "|     450      |    11   |    Mira Cruz    |      Phone Call     |   Bought   | 2081-04-10 15:00:00 |\n",
       "|     449      |    20   |    Arlo King    |         Text        |  Organic   | 2081-04-10 13:50:00 |\n",
       "|     448      |    2    |   Tinsley Ross  |         Text        |   Bought   | 2081-04-10 12:40:00 |\n",
       "|     447      |    16   |   Elowen Bell   |      Phone Call     |  Organic   | 2081-04-10 11:30:00 |\n",
       "|     446      |    24   | Callahan Rivera |         Text        |   Bought   | 2081-04-10 10:20:00 |\n",
       "|     445      |    7    |   Kylan Scott   |         Text        |  Organic   | 2081-04-10 09:10:00 |\n",
       "|     444      |    28   |    Zya Lewis    |      Phone Call     |   Bought   | 2081-04-09 14:55:00 |\n",
       "|     443      |    13   |  Azalea Brooks  |         Text        |  Organic   | 2081-04-09 13:45:00 |\n",
       "+--------------+---------+-----------------+---------------------+------------+---------------------+\n",
       "Truncated to displaylimit of 10."
      ]
     },
     "execution_count": 48,
     "metadata": {},
     "output_type": "execute_result"
    }
   ],
   "source": [
    "%sql SELECT * FROM assignment_history ORDER BY AssignmentID DESC"
   ]
  },
  {
   "cell_type": "code",
   "execution_count": 49,
   "id": "69774085-d2ac-436c-8f95-eeae28b29c59",
   "metadata": {},
   "outputs": [
    {
     "data": {
      "text/html": [
       "<span style=\"None\">Running query in &#x27;sqlite:///my_database.db&#x27;</span>"
      ],
      "text/plain": [
       "Running query in 'sqlite:///my_database.db'"
      ]
     },
     "metadata": {},
     "output_type": "display_data"
    },
    {
     "data": {
      "text/html": [
       "<table>\n",
       "    <thead>\n",
       "        <tr>\n",
       "            <th>AgentID</th>\n",
       "            <th>FirstName</th>\n",
       "            <th>LastName</th>\n",
       "            <th>Email</th>\n",
       "            <th>JobTitle</th>\n",
       "            <th>DepartmentName</th>\n",
       "            <th>ManagerName</th>\n",
       "            <th>SpaceLicenseNumber</th>\n",
       "            <th>YearsOfService</th>\n",
       "            <th>AverageCustomerServiceRating</th>\n",
       "            <th>load</th>\n",
       "            <th>agent_rank</th>\n",
       "        </tr>\n",
       "    </thead>\n",
       "    <tbody>\n",
       "        <tr>\n",
       "            <td>22</td>\n",
       "            <td>Juno</td>\n",
       "            <td>Brooks</td>\n",
       "            <td>juno.brooks@astra2081.com</td>\n",
       "            <td>Lead Space Travel Agent</td>\n",
       "            <td>Premium Bookings</td>\n",
       "            <td>Zane Holloway</td>\n",
       "            <td>SL-2081-022</td>\n",
       "            <td>17</td>\n",
       "            <td>4.8</td>\n",
       "            <td>1</td>\n",
       "            <td>17</td>\n",
       "        </tr>\n",
       "        <tr>\n",
       "            <td>12</td>\n",
       "            <td>Nia</td>\n",
       "            <td>Ramirez</td>\n",
       "            <td>nia.ramirez@astra2081.com</td>\n",
       "            <td>Senior Space Travel Agent</td>\n",
       "            <td>Premium Bookings</td>\n",
       "            <td>Zane Holloway</td>\n",
       "            <td>SL-2081-012</td>\n",
       "            <td>14</td>\n",
       "            <td>5.0</td>\n",
       "            <td>1</td>\n",
       "            <td>18</td>\n",
       "        </tr>\n",
       "        <tr>\n",
       "            <td>8</td>\n",
       "            <td>Orion</td>\n",
       "            <td>Davis</td>\n",
       "            <td>orion.davis@astra2081.com</td>\n",
       "            <td>Senior Space Travel Agent</td>\n",
       "            <td>Luxury Voyages</td>\n",
       "            <td>Zane Holloway</td>\n",
       "            <td>SL-2081-008</td>\n",
       "            <td>10</td>\n",
       "            <td>4.4</td>\n",
       "            <td>1</td>\n",
       "            <td>19</td>\n",
       "        </tr>\n",
       "        <tr>\n",
       "            <td>21</td>\n",
       "            <td>Arlo</td>\n",
       "            <td>Scott</td>\n",
       "            <td>arlo.scott@astra2081.com</td>\n",
       "            <td>Space Travel Agent</td>\n",
       "            <td>Interplanetary Sales</td>\n",
       "            <td>Lyra Chen</td>\n",
       "            <td>SL-2081-021</td>\n",
       "            <td>7</td>\n",
       "            <td>4.2</td>\n",
       "            <td>1</td>\n",
       "            <td>20</td>\n",
       "        </tr>\n",
       "        <tr>\n",
       "            <td>13</td>\n",
       "            <td>Atlas</td>\n",
       "            <td>Foster</td>\n",
       "            <td>atlas.foster@astra2081.com</td>\n",
       "            <td>Space Travel Agent</td>\n",
       "            <td>Interplanetary Sales</td>\n",
       "            <td>Lyra Chen</td>\n",
       "            <td>SL-2081-013</td>\n",
       "            <td>6</td>\n",
       "            <td>4.3</td>\n",
       "            <td>1</td>\n",
       "            <td>21</td>\n",
       "        </tr>\n",
       "    </tbody>\n",
       "</table>"
      ],
      "text/plain": [
       "+---------+-----------+----------+----------------------------+---------------------------+----------------------+---------------+--------------------+----------------+------------------------------+------+------------+\n",
       "| AgentID | FirstName | LastName |           Email            |          JobTitle         |    DepartmentName    |  ManagerName  | SpaceLicenseNumber | YearsOfService | AverageCustomerServiceRating | load | agent_rank |\n",
       "+---------+-----------+----------+----------------------------+---------------------------+----------------------+---------------+--------------------+----------------+------------------------------+------+------------+\n",
       "|    22   |    Juno   |  Brooks  | juno.brooks@astra2081.com  |  Lead Space Travel Agent  |   Premium Bookings   | Zane Holloway |    SL-2081-022     |       17       |             4.8              |  1   |     17     |\n",
       "|    12   |    Nia    | Ramirez  | nia.ramirez@astra2081.com  | Senior Space Travel Agent |   Premium Bookings   | Zane Holloway |    SL-2081-012     |       14       |             5.0              |  1   |     18     |\n",
       "|    8    |   Orion   |  Davis   | orion.davis@astra2081.com  | Senior Space Travel Agent |    Luxury Voyages    | Zane Holloway |    SL-2081-008     |       10       |             4.4              |  1   |     19     |\n",
       "|    21   |    Arlo   |  Scott   |  arlo.scott@astra2081.com  |     Space Travel Agent    | Interplanetary Sales |   Lyra Chen   |    SL-2081-021     |       7        |             4.2              |  1   |     20     |\n",
       "|    13   |   Atlas   |  Foster  | atlas.foster@astra2081.com |     Space Travel Agent    | Interplanetary Sales |   Lyra Chen   |    SL-2081-013     |       6        |             4.3              |  1   |     21     |\n",
       "+---------+-----------+----------+----------------------------+---------------------------+----------------------+---------------+--------------------+----------------+------------------------------+------+------------+"
      ]
     },
     "execution_count": 49,
     "metadata": {},
     "output_type": "execute_result"
    }
   ],
   "source": [
    "%sql SELECT * FROM space_travel_agents WHERE load > 0 ORDER BY agent_rank LIMIT 5"
   ]
  },
  {
   "cell_type": "code",
   "execution_count": 50,
   "id": "5f9b9c0b-b292-47f8-9b3b-fdce7cdcac69",
   "metadata": {},
   "outputs": [
    {
     "data": {
      "text/html": [
       "<span style=\"None\">Running query in &#x27;sqlite:///my_database.db&#x27;</span>"
      ],
      "text/plain": [
       "Running query in 'sqlite:///my_database.db'"
      ]
     },
     "metadata": {},
     "output_type": "display_data"
    },
    {
     "data": {
      "text/html": [
       "<table>\n",
       "    <thead>\n",
       "        <tr>\n",
       "            <th>BookingID</th>\n",
       "            <th>AssignmentID</th>\n",
       "            <th>BookingCompleteDate</th>\n",
       "            <th>CancelledDate</th>\n",
       "            <th>Destination</th>\n",
       "            <th>Package</th>\n",
       "            <th>LaunchLocation</th>\n",
       "            <th>DestinationRevenue</th>\n",
       "            <th>PackageRevenue</th>\n",
       "            <th>TotalRevenue</th>\n",
       "            <th>BookingStatus</th>\n",
       "            <th>AgentID</th>\n",
       "        </tr>\n",
       "    </thead>\n",
       "    <tbody>\n",
       "        <tr>\n",
       "            <td>503</td>\n",
       "            <td>452</td>\n",
       "            <td>None</td>\n",
       "            <td>None</td>\n",
       "            <td>Europa</td>\n",
       "            <td>None</td>\n",
       "            <td>Sydney Stellar Port</td>\n",
       "            <td>None</td>\n",
       "            <td>None</td>\n",
       "            <td>None</td>\n",
       "            <td>Pending</td>\n",
       "            <td>1</td>\n",
       "        </tr>\n",
       "        <tr>\n",
       "            <td>502</td>\n",
       "            <td>451</td>\n",
       "            <td>None</td>\n",
       "            <td>None</td>\n",
       "            <td>Mars</td>\n",
       "            <td>None</td>\n",
       "            <td>Dallas-Fort Worth Launch Complex</td>\n",
       "            <td>None</td>\n",
       "            <td>None</td>\n",
       "            <td>None</td>\n",
       "            <td>Pending</td>\n",
       "            <td>1</td>\n",
       "        </tr>\n",
       "        <tr>\n",
       "            <td>501</td>\n",
       "            <td>501</td>\n",
       "            <td>None</td>\n",
       "            <td>None</td>\n",
       "            <td>None</td>\n",
       "            <td>None</td>\n",
       "            <td>None</td>\n",
       "            <td>None</td>\n",
       "            <td>None</td>\n",
       "            <td>None</td>\n",
       "            <td>Pending</td>\n",
       "            <td>1</td>\n",
       "        </tr>\n",
       "        <tr>\n",
       "            <td>500</td>\n",
       "            <td>500</td>\n",
       "            <td>None</td>\n",
       "            <td>None</td>\n",
       "            <td>None</td>\n",
       "            <td>None</td>\n",
       "            <td>None</td>\n",
       "            <td>None</td>\n",
       "            <td>None</td>\n",
       "            <td>None</td>\n",
       "            <td>Pending</td>\n",
       "            <td>1</td>\n",
       "        </tr>\n",
       "        <tr>\n",
       "            <td>412</td>\n",
       "            <td>450</td>\n",
       "            <td>2081-04-10 14:25:00</td>\n",
       "            <td>None</td>\n",
       "            <td>Europa</td>\n",
       "            <td>Glacier Trek Adventure</td>\n",
       "            <td>Tokyo Spaceport Terminal</td>\n",
       "            <td>120000</td>\n",
       "            <td>25000</td>\n",
       "            <td>145000</td>\n",
       "            <td>Confirmed</td>\n",
       "            <td>11</td>\n",
       "        </tr>\n",
       "        <tr>\n",
       "            <td>411</td>\n",
       "            <td>449</td>\n",
       "            <td>2081-04-10 14:25:00</td>\n",
       "            <td>None</td>\n",
       "            <td>Titan</td>\n",
       "            <td>Ringside Cruise</td>\n",
       "            <td>New York Orbital Gateway</td>\n",
       "            <td>140000</td>\n",
       "            <td>20000</td>\n",
       "            <td>160000</td>\n",
       "            <td>Confirmed</td>\n",
       "            <td>20</td>\n",
       "        </tr>\n",
       "        <tr>\n",
       "            <td>410</td>\n",
       "            <td>448</td>\n",
       "            <td>2081-04-10 13:10:00</td>\n",
       "            <td>None</td>\n",
       "            <td>Mars</td>\n",
       "            <td>Luxury Dome Stay</td>\n",
       "            <td>Dallas-Fort Worth Launch Complex</td>\n",
       "            <td>150000</td>\n",
       "            <td>30000</td>\n",
       "            <td>180000</td>\n",
       "            <td>Confirmed</td>\n",
       "            <td>2</td>\n",
       "        </tr>\n",
       "        <tr>\n",
       "            <td>409</td>\n",
       "            <td>447</td>\n",
       "            <td>2081-04-10 12:00:00</td>\n",
       "            <td>None</td>\n",
       "            <td>Venus</td>\n",
       "            <td>Cloud City Excursion</td>\n",
       "            <td>Dubai Interplanetary Hub</td>\n",
       "            <td>130000</td>\n",
       "            <td>25000</td>\n",
       "            <td>155000</td>\n",
       "            <td>Confirmed</td>\n",
       "            <td>16</td>\n",
       "        </tr>\n",
       "        <tr>\n",
       "            <td>408</td>\n",
       "            <td>446</td>\n",
       "            <td>None</td>\n",
       "            <td>2081-04-10 10:45:00</td>\n",
       "            <td>Europa</td>\n",
       "            <td>Zero-Gravity Yacht Cruise</td>\n",
       "            <td>Tokyo Spaceport Terminal</td>\n",
       "            <td>120000</td>\n",
       "            <td>20000</td>\n",
       "            <td>140000</td>\n",
       "            <td>Cancelled</td>\n",
       "            <td>24</td>\n",
       "        </tr>\n",
       "        <tr>\n",
       "            <td>407</td>\n",
       "            <td>445</td>\n",
       "            <td>2081-04-10 09:30:00</td>\n",
       "            <td>None</td>\n",
       "            <td>Titan</td>\n",
       "            <td>Ringside Cruise</td>\n",
       "            <td>New York Orbital Gateway</td>\n",
       "            <td>140000</td>\n",
       "            <td>25000</td>\n",
       "            <td>165000</td>\n",
       "            <td>Confirmed</td>\n",
       "            <td>7</td>\n",
       "        </tr>\n",
       "    </tbody>\n",
       "</table>\n",
       "<span style=\"font-style:italic;text-align:center;\">Truncated to <a href=\"https://jupysql.ploomber.io/en/latest/api/configuration.html#displaylimit\">displaylimit</a> of 10.</span>"
      ],
      "text/plain": [
       "+-----------+--------------+---------------------+---------------------+-------------+---------------------------+----------------------------------+--------------------+----------------+--------------+---------------+---------+\n",
       "| BookingID | AssignmentID | BookingCompleteDate |    CancelledDate    | Destination |          Package          |          LaunchLocation          | DestinationRevenue | PackageRevenue | TotalRevenue | BookingStatus | AgentID |\n",
       "+-----------+--------------+---------------------+---------------------+-------------+---------------------------+----------------------------------+--------------------+----------------+--------------+---------------+---------+\n",
       "|    503    |     452      |         None        |         None        |    Europa   |            None           |       Sydney Stellar Port        |        None        |      None      |     None     |    Pending    |    1    |\n",
       "|    502    |     451      |         None        |         None        |     Mars    |            None           | Dallas-Fort Worth Launch Complex |        None        |      None      |     None     |    Pending    |    1    |\n",
       "|    501    |     501      |         None        |         None        |     None    |            None           |               None               |        None        |      None      |     None     |    Pending    |    1    |\n",
       "|    500    |     500      |         None        |         None        |     None    |            None           |               None               |        None        |      None      |     None     |    Pending    |    1    |\n",
       "|    412    |     450      | 2081-04-10 14:25:00 |         None        |    Europa   |   Glacier Trek Adventure  |     Tokyo Spaceport Terminal     |       120000       |     25000      |    145000    |   Confirmed   |    11   |\n",
       "|    411    |     449      | 2081-04-10 14:25:00 |         None        |    Titan    |      Ringside Cruise      |     New York Orbital Gateway     |       140000       |     20000      |    160000    |   Confirmed   |    20   |\n",
       "|    410    |     448      | 2081-04-10 13:10:00 |         None        |     Mars    |      Luxury Dome Stay     | Dallas-Fort Worth Launch Complex |       150000       |     30000      |    180000    |   Confirmed   |    2    |\n",
       "|    409    |     447      | 2081-04-10 12:00:00 |         None        |    Venus    |    Cloud City Excursion   |     Dubai Interplanetary Hub     |       130000       |     25000      |    155000    |   Confirmed   |    16   |\n",
       "|    408    |     446      |         None        | 2081-04-10 10:45:00 |    Europa   | Zero-Gravity Yacht Cruise |     Tokyo Spaceport Terminal     |       120000       |     20000      |    140000    |   Cancelled   |    24   |\n",
       "|    407    |     445      | 2081-04-10 09:30:00 |         None        |    Titan    |      Ringside Cruise      |     New York Orbital Gateway     |       140000       |     25000      |    165000    |   Confirmed   |    7    |\n",
       "+-----------+--------------+---------------------+---------------------+-------------+---------------------------+----------------------------------+--------------------+----------------+--------------+---------------+---------+\n",
       "Truncated to displaylimit of 10."
      ]
     },
     "execution_count": 50,
     "metadata": {},
     "output_type": "execute_result"
    }
   ],
   "source": [
    "%sql SELECT * FROM bookings_2 ORDER BY BookingID DESC"
   ]
  },
  {
   "cell_type": "markdown",
   "id": "b36c55a3-b66d-4fc8-8322-98751b1d23ff",
   "metadata": {},
   "source": [
    "## Close cursor and connection"
   ]
  },
  {
   "cell_type": "code",
   "execution_count": 51,
   "id": "4013eb1b-0ea2-46b9-92a1-c38237e04ac4",
   "metadata": {},
   "outputs": [],
   "source": [
    "cursor.close()\n",
    "conn.close()"
   ]
  },
  {
   "cell_type": "code",
   "execution_count": null,
   "id": "2cea1aa7-b4f7-41f3-83b6-57d24c136813",
   "metadata": {},
   "outputs": [],
   "source": []
  }
 ],
 "metadata": {
  "kernelspec": {
   "display_name": "python_prep",
   "language": "python",
   "name": "python_prep"
  },
  "language_info": {
   "codemirror_mode": {
    "name": "ipython",
    "version": 3
   },
   "file_extension": ".py",
   "mimetype": "text/x-python",
   "name": "python",
   "nbconvert_exporter": "python",
   "pygments_lexer": "ipython3",
   "version": "3.12.3"
  }
 },
 "nbformat": 4,
 "nbformat_minor": 5
}
