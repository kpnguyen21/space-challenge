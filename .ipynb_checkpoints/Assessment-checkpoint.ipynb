{
 "cells": [
  {
   "cell_type": "markdown",
   "id": "84e6f994-c2c5-4c00-90fc-7e757ac12668",
   "metadata": {},
   "source": [
    "# AmericaSave Mortgage Assessment"
   ]
  },
  {
   "cell_type": "markdown",
   "id": "982d5a52-8349-4fff-9786-d70ef65abb94",
   "metadata": {},
   "source": [
    "## Import and connect to the database"
   ]
  },
  {
   "cell_type": "code",
   "execution_count": 1,
   "id": "58ef8cb3-8c49-45a6-9917-b6a7de86a7b8",
   "metadata": {},
   "outputs": [],
   "source": [
    "import sqlite3"
   ]
  },
  {
   "cell_type": "code",
   "execution_count": 2,
   "id": "354aad93-9648-4640-8ef9-5aa7f0810065",
   "metadata": {},
   "outputs": [],
   "source": [
    "# Connect to the SQLite database (or create it if it doesn't exist)\n",
    "conn = sqlite3.connect('my_database.db')\n",
    "cursor = conn.cursor()"
   ]
  },
  {
   "cell_type": "code",
   "execution_count": 3,
   "id": "2b031734-52c9-4856-a60e-a5c903a2ae40",
   "metadata": {},
   "outputs": [
    {
     "data": {
      "text/html": [
       "<span style=\"None\">Connecting to &#x27;sqlite:///my_database.db&#x27;</span>"
      ],
      "text/plain": [
       "Connecting to 'sqlite:///my_database.db'"
      ]
     },
     "metadata": {},
     "output_type": "display_data"
    }
   ],
   "source": [
    "%load_ext sql\n",
    "%sql sqlite:///my_database.db"
   ]
  },
  {
   "cell_type": "code",
   "execution_count": 4,
   "id": "2452b51f-e74a-4701-b43b-26d4ba21f4d5",
   "metadata": {},
   "outputs": [],
   "source": [
    "# Delete all tables from the database. This is useful when rerunning the notebook."
   ]
  },
  {
   "cell_type": "code",
   "execution_count": 5,
   "id": "f94123b2-2983-45b3-821f-c705c0f8e419",
   "metadata": {},
   "outputs": [],
   "source": [
    "# Get all user-defined tables (excluding internal SQLite tables)\n",
    "cursor.execute(\"SELECT name FROM sqlite_master WHERE type='table' AND name NOT LIKE 'sqlite_%';\")\n",
    "tables = cursor.fetchall()\n",
    "\n",
    "# Drop each table\n",
    "for table in tables:\n",
    "    cursor.execute(f\"DROP TABLE IF EXISTS {table[0]};\")"
   ]
  },
  {
   "cell_type": "code",
   "execution_count": 6,
   "id": "a9e089bf-bcf8-4a1e-969a-0d916bacd814",
   "metadata": {},
   "outputs": [],
   "source": [
    "# Read the tables\n",
    "table_list = ['assignment_history SQL Table.txt', 'bookings SQL Table.txt', 'space_travel_agents SQL Table.txt']\n",
    "\n",
    "for t in table_list:\n",
    "    with open(t, 'r') as f:\n",
    "        script = f.read()\n",
    "    cursor.executescript(script)"
   ]
  },
  {
   "cell_type": "code",
   "execution_count": 7,
   "id": "77832c28-dafc-4311-9825-4fdfcdc1c4ed",
   "metadata": {},
   "outputs": [],
   "source": [
    "## Merge table bookings and assignment_history so that bookings have information of AgentID"
   ]
  },
  {
   "cell_type": "code",
   "execution_count": 8,
   "id": "79fec4e4-d91c-453c-b26d-041d3736b474",
   "metadata": {},
   "outputs": [
    {
     "data": {
      "text/html": [
       "<span style=\"None\">Running query in &#x27;sqlite:///my_database.db&#x27;</span>"
      ],
      "text/plain": [
       "Running query in 'sqlite:///my_database.db'"
      ]
     },
     "metadata": {},
     "output_type": "display_data"
    },
    {
     "data": {
      "text/html": [
       "<table>\n",
       "    <thead>\n",
       "        <tr>\n",
       "        </tr>\n",
       "    </thead>\n",
       "    <tbody>\n",
       "    </tbody>\n",
       "</table>"
      ],
      "text/plain": [
       "++\n",
       "||\n",
       "++\n",
       "++"
      ]
     },
     "execution_count": 8,
     "metadata": {},
     "output_type": "execute_result"
    }
   ],
   "source": [
    "%%sql\n",
    "\n",
    "CREATE TABLE bookings_2 AS\n",
    "SELECT B.*,\n",
    "        AH.AgentID\n",
    "FROM bookings AS B\n",
    "LEFT JOIN assignment_history AS AH USING(AssignmentID)"
   ]
  },
  {
   "cell_type": "markdown",
   "id": "a4694b15-0615-4f9a-b92b-8119a1c176a0",
   "metadata": {},
   "source": [
    "## Update loads and agent_ranking"
   ]
  },
  {
   "cell_type": "code",
   "execution_count": 9,
   "id": "a82c884d-0ec1-4fe3-a078-96fd08e3b31d",
   "metadata": {},
   "outputs": [
    {
     "data": {
      "text/html": [
       "<span style=\"None\">Running query in &#x27;sqlite:///my_database.db&#x27;</span>"
      ],
      "text/plain": [
       "Running query in 'sqlite:///my_database.db'"
      ]
     },
     "metadata": {},
     "output_type": "display_data"
    },
    {
     "data": {
      "text/html": [
       "<table>\n",
       "    <thead>\n",
       "        <tr>\n",
       "        </tr>\n",
       "    </thead>\n",
       "    <tbody>\n",
       "    </tbody>\n",
       "</table>"
      ],
      "text/plain": [
       "++\n",
       "||\n",
       "++\n",
       "++"
      ]
     },
     "execution_count": 9,
     "metadata": {},
     "output_type": "execute_result"
    }
   ],
   "source": [
    "%%sql \n",
    "\n",
    "ALTER TABLE space_travel_agents\n",
    "ADD COLUMN load INTEGER DEFAULT 0;\n",
    "\n",
    "ALTER TABLE space_travel_agents\n",
    "ADD COLUMN agent_rank INTEGER;"
   ]
  },
  {
   "cell_type": "code",
   "execution_count": 10,
   "id": "7bbc1e3f-7ee7-40b1-bf2a-3c9296b3d0af",
   "metadata": {},
   "outputs": [
    {
     "data": {
      "text/html": [
       "<span style=\"None\">Running query in &#x27;sqlite:///my_database.db&#x27;</span>"
      ],
      "text/plain": [
       "Running query in 'sqlite:///my_database.db'"
      ]
     },
     "metadata": {},
     "output_type": "display_data"
    },
    {
     "data": {
      "text/html": [
       "<span style=\"color: green\">30 rows affected.</span>"
      ],
      "text/plain": [
       "30 rows affected."
      ]
     },
     "metadata": {},
     "output_type": "display_data"
    },
    {
     "data": {
      "text/html": [
       "<table>\n",
       "    <thead>\n",
       "        <tr>\n",
       "        </tr>\n",
       "    </thead>\n",
       "    <tbody>\n",
       "    </tbody>\n",
       "</table>"
      ],
      "text/plain": [
       "++\n",
       "||\n",
       "++\n",
       "++"
      ]
     },
     "execution_count": 10,
     "metadata": {},
     "output_type": "execute_result"
    }
   ],
   "source": [
    "%%sql\n",
    "UPDATE space_travel_agents\n",
    "SET load = load + (\n",
    "  SELECT COUNT(*)\n",
    "  FROM bookings_2\n",
    "  WHERE bookings_2.AgentID = space_travel_agents.AgentID\n",
    "    AND bookings_2.BookingStatus = 'Pending'\n",
    ")"
   ]
  },
  {
   "cell_type": "code",
   "execution_count": 11,
   "id": "9c62011e-5bc5-4f47-946f-c8776ecbfa3c",
   "metadata": {},
   "outputs": [
    {
     "data": {
      "text/html": [
       "<span style=\"None\">Running query in &#x27;sqlite:///my_database.db&#x27;</span>"
      ],
      "text/plain": [
       "Running query in 'sqlite:///my_database.db'"
      ]
     },
     "metadata": {},
     "output_type": "display_data"
    },
    {
     "data": {
      "text/html": [
       "<span style=\"color: green\">30 rows affected.</span>"
      ],
      "text/plain": [
       "30 rows affected."
      ]
     },
     "metadata": {},
     "output_type": "display_data"
    },
    {
     "data": {
      "text/html": [
       "<table>\n",
       "    <thead>\n",
       "        <tr>\n",
       "        </tr>\n",
       "    </thead>\n",
       "    <tbody>\n",
       "    </tbody>\n",
       "</table>"
      ],
      "text/plain": [
       "++\n",
       "||\n",
       "++\n",
       "++"
      ]
     },
     "execution_count": 11,
     "metadata": {},
     "output_type": "execute_result"
    }
   ],
   "source": [
    "%%sql\n",
    "\n",
    "UPDATE space_travel_agents\n",
    "SET agent_rank = (\n",
    "  SELECT COUNT(*)\n",
    "  FROM space_travel_agents AS b\n",
    "  WHERE b.load < space_travel_agents.load\n",
    "     OR (b.load = space_travel_agents.load AND b.YearsOfService > space_travel_agents.YearsOfService)\n",
    "     OR (b.load = space_travel_agents.load AND b.YearsOfService = space_travel_agents.YearsOfService AND b.AverageCustomerServiceRating > space_travel_agents.AverageCustomerServiceRating)\n",
    ") + 1;"
   ]
  },
  {
   "cell_type": "code",
   "execution_count": 12,
   "id": "a9702c5f-2501-4e6e-97a3-757b06bed004",
   "metadata": {},
   "outputs": [
    {
     "data": {
      "text/html": [
       "<span style=\"None\">Running query in &#x27;sqlite:///my_database.db&#x27;</span>"
      ],
      "text/plain": [
       "Running query in 'sqlite:///my_database.db'"
      ]
     },
     "metadata": {},
     "output_type": "display_data"
    },
    {
     "data": {
      "text/html": [
       "<table>\n",
       "    <thead>\n",
       "        <tr>\n",
       "            <th>AgentID</th>\n",
       "            <th>FirstName</th>\n",
       "            <th>LastName</th>\n",
       "            <th>Email</th>\n",
       "            <th>JobTitle</th>\n",
       "            <th>DepartmentName</th>\n",
       "            <th>ManagerName</th>\n",
       "            <th>SpaceLicenseNumber</th>\n",
       "            <th>YearsOfService</th>\n",
       "            <th>AverageCustomerServiceRating</th>\n",
       "            <th>load</th>\n",
       "            <th>agent_rank</th>\n",
       "        </tr>\n",
       "    </thead>\n",
       "    <tbody>\n",
       "        <tr>\n",
       "            <td>1</td>\n",
       "            <td>Aurora</td>\n",
       "            <td>Tanaka</td>\n",
       "            <td>aurora.tanaka@astra2081.com</td>\n",
       "            <td>Senior Space Travel Agent</td>\n",
       "            <td>Interplanetary Sales</td>\n",
       "            <td>Lyra Chen</td>\n",
       "            <td>SL-2081-001</td>\n",
       "            <td>12</td>\n",
       "            <td>4.0</td>\n",
       "            <td>0</td>\n",
       "            <td>5</td>\n",
       "        </tr>\n",
       "        <tr>\n",
       "            <td>2</td>\n",
       "            <td>Kai</td>\n",
       "            <td>Rodriguez</td>\n",
       "            <td>kai.rodriguez@astra2081.com</td>\n",
       "            <td>Space Travel Agent</td>\n",
       "            <td>Luxury Voyages</td>\n",
       "            <td>Lyra Chen</td>\n",
       "            <td>SL-2081-002</td>\n",
       "            <td>7</td>\n",
       "            <td>4.0</td>\n",
       "            <td>1</td>\n",
       "            <td>21</td>\n",
       "        </tr>\n",
       "        <tr>\n",
       "            <td>3</td>\n",
       "            <td>Nova</td>\n",
       "            <td>Singh</td>\n",
       "            <td>nova.singh@astra2081.com</td>\n",
       "            <td>Senior Space Travel Agent</td>\n",
       "            <td>Premium Bookings</td>\n",
       "            <td>Zane Holloway</td>\n",
       "            <td>SL-2081-003</td>\n",
       "            <td>15</td>\n",
       "            <td>4.0</td>\n",
       "            <td>0</td>\n",
       "            <td>2</td>\n",
       "        </tr>\n",
       "        <tr>\n",
       "            <td>4</td>\n",
       "            <td>Leo</td>\n",
       "            <td>Kim</td>\n",
       "            <td>leo.kim@astra2081.com</td>\n",
       "            <td>Space Travel Agent</td>\n",
       "            <td>Interplanetary Sales</td>\n",
       "            <td>Lyra Chen</td>\n",
       "            <td>SL-2081-004</td>\n",
       "            <td>5</td>\n",
       "            <td>4.0</td>\n",
       "            <td>0</td>\n",
       "            <td>10</td>\n",
       "        </tr>\n",
       "        <tr>\n",
       "            <td>5</td>\n",
       "            <td>Vera</td>\n",
       "            <td>Nguyen</td>\n",
       "            <td>vera.nguyen@astra2081.com</td>\n",
       "            <td>Space Travel Agent</td>\n",
       "            <td>Luxury Voyages</td>\n",
       "            <td>Zane Holloway</td>\n",
       "            <td>SL-2081-005</td>\n",
       "            <td>3</td>\n",
       "            <td>3.9</td>\n",
       "            <td>1</td>\n",
       "            <td>24</td>\n",
       "        </tr>\n",
       "    </tbody>\n",
       "</table>"
      ],
      "text/plain": [
       "+---------+-----------+-----------+-----------------------------+---------------------------+----------------------+---------------+--------------------+----------------+------------------------------+------+------------+\n",
       "| AgentID | FirstName |  LastName |            Email            |          JobTitle         |    DepartmentName    |  ManagerName  | SpaceLicenseNumber | YearsOfService | AverageCustomerServiceRating | load | agent_rank |\n",
       "+---------+-----------+-----------+-----------------------------+---------------------------+----------------------+---------------+--------------------+----------------+------------------------------+------+------------+\n",
       "|    1    |   Aurora  |   Tanaka  | aurora.tanaka@astra2081.com | Senior Space Travel Agent | Interplanetary Sales |   Lyra Chen   |    SL-2081-001     |       12       |             4.0              |  0   |     5      |\n",
       "|    2    |    Kai    | Rodriguez | kai.rodriguez@astra2081.com |     Space Travel Agent    |    Luxury Voyages    |   Lyra Chen   |    SL-2081-002     |       7        |             4.0              |  1   |     21     |\n",
       "|    3    |    Nova   |   Singh   |   nova.singh@astra2081.com  | Senior Space Travel Agent |   Premium Bookings   | Zane Holloway |    SL-2081-003     |       15       |             4.0              |  0   |     2      |\n",
       "|    4    |    Leo    |    Kim    |    leo.kim@astra2081.com    |     Space Travel Agent    | Interplanetary Sales |   Lyra Chen   |    SL-2081-004     |       5        |             4.0              |  0   |     10     |\n",
       "|    5    |    Vera   |   Nguyen  |  vera.nguyen@astra2081.com  |     Space Travel Agent    |    Luxury Voyages    | Zane Holloway |    SL-2081-005     |       3        |             3.9              |  1   |     24     |\n",
       "+---------+-----------+-----------+-----------------------------+---------------------------+----------------------+---------------+--------------------+----------------+------------------------------+------+------------+"
      ]
     },
     "execution_count": 12,
     "metadata": {},
     "output_type": "execute_result"
    }
   ],
   "source": [
    "%sql SELECT * FROM space_travel_agents LIMIT 5"
   ]
  },
  {
   "cell_type": "markdown",
   "id": "123c03ca-253e-4e2c-954a-699ef889b0ea",
   "metadata": {},
   "source": [
    "## Create agent_rank_tracker"
   ]
  },
  {
   "cell_type": "code",
   "execution_count": 13,
   "id": "688eb4a9-84da-43eb-9c64-b67460a9a73d",
   "metadata": {},
   "outputs": [
    {
     "data": {
      "text/html": [
       "<span style=\"None\">Running query in &#x27;sqlite:///my_database.db&#x27;</span>"
      ],
      "text/plain": [
       "Running query in 'sqlite:///my_database.db'"
      ]
     },
     "metadata": {},
     "output_type": "display_data"
    },
    {
     "data": {
      "text/html": [
       "<span style=\"color: green\">30 rows affected.</span>"
      ],
      "text/plain": [
       "30 rows affected."
      ]
     },
     "metadata": {},
     "output_type": "display_data"
    },
    {
     "data": {
      "text/html": [
       "<table>\n",
       "    <thead>\n",
       "        <tr>\n",
       "        </tr>\n",
       "    </thead>\n",
       "    <tbody>\n",
       "    </tbody>\n",
       "</table>"
      ],
      "text/plain": [
       "++\n",
       "||\n",
       "++\n",
       "++"
      ]
     },
     "execution_count": 13,
     "metadata": {},
     "output_type": "execute_result"
    }
   ],
   "source": [
    "%%sql\n",
    "\n",
    "CREATE TABLE IF NOT EXISTS agent_rank_tracker (\n",
    "    AgentID INTEGER PRIMARY KEY,\n",
    "    agent_rank INTEGER \n",
    ");\n",
    "\n",
    "INSERT INTO agent_rank_tracker (AgentID, agent_rank)\n",
    "    SELECT a.AgentID,\n",
    "        (\n",
    "            SELECT COUNT(*)\n",
    "            FROM space_travel_agents AS b\n",
    "            WHERE b.load < a.load\n",
    "              OR (b.load = a.load AND b.YearsOfService > a.YearsOfService)\n",
    "              OR (b.load = a.load AND b.YearsOfService = a.YearsOfService AND b.AverageCustomerServiceRating > a.AverageCustomerServiceRating)\n",
    "         ) + 1\n",
    "    FROM space_travel_agents AS a;"
   ]
  },
  {
   "cell_type": "code",
   "execution_count": 14,
   "id": "0185ee0e-f57f-47bf-9ac4-0c8f6ca527a3",
   "metadata": {},
   "outputs": [
    {
     "data": {
      "text/html": [
       "<span style=\"None\">Running query in &#x27;sqlite:///my_database.db&#x27;</span>"
      ],
      "text/plain": [
       "Running query in 'sqlite:///my_database.db'"
      ]
     },
     "metadata": {},
     "output_type": "display_data"
    },
    {
     "data": {
      "text/html": [
       "<table>\n",
       "    <thead>\n",
       "        <tr>\n",
       "            <th>AgentID</th>\n",
       "            <th>agent_rank</th>\n",
       "        </tr>\n",
       "    </thead>\n",
       "    <tbody>\n",
       "        <tr>\n",
       "            <td>6</td>\n",
       "            <td>1</td>\n",
       "        </tr>\n",
       "        <tr>\n",
       "            <td>3</td>\n",
       "            <td>2</td>\n",
       "        </tr>\n",
       "        <tr>\n",
       "            <td>27</td>\n",
       "            <td>2</td>\n",
       "        </tr>\n",
       "        <tr>\n",
       "            <td>24</td>\n",
       "            <td>4</td>\n",
       "        </tr>\n",
       "        <tr>\n",
       "            <td>1</td>\n",
       "            <td>5</td>\n",
       "        </tr>\n",
       "    </tbody>\n",
       "</table>"
      ],
      "text/plain": [
       "+---------+------------+\n",
       "| AgentID | agent_rank |\n",
       "+---------+------------+\n",
       "|    6    |     1      |\n",
       "|    3    |     2      |\n",
       "|    27   |     2      |\n",
       "|    24   |     4      |\n",
       "|    1    |     5      |\n",
       "+---------+------------+"
      ]
     },
     "execution_count": 14,
     "metadata": {},
     "output_type": "execute_result"
    }
   ],
   "source": [
    "%sql SELECT * FROM agent_rank_tracker ORDER BY agent_rank LIMIT 5"
   ]
  },
  {
   "cell_type": "markdown",
   "id": "d438135f-2169-4500-be42-bd7c5f4e1f5b",
   "metadata": {},
   "source": [
    "## Add a new table, named new_customer"
   ]
  },
  {
   "cell_type": "code",
   "execution_count": 15,
   "id": "79b0c820-8080-43a6-b581-b3d48e8d1706",
   "metadata": {},
   "outputs": [
    {
     "data": {
      "text/html": [
       "<span style=\"None\">Running query in &#x27;sqlite:///my_database.db&#x27;</span>"
      ],
      "text/plain": [
       "Running query in 'sqlite:///my_database.db'"
      ]
     },
     "metadata": {},
     "output_type": "display_data"
    },
    {
     "data": {
      "text/html": [
       "<table>\n",
       "    <thead>\n",
       "        <tr>\n",
       "        </tr>\n",
       "    </thead>\n",
       "    <tbody>\n",
       "    </tbody>\n",
       "</table>"
      ],
      "text/plain": [
       "++\n",
       "||\n",
       "++\n",
       "++"
      ]
     },
     "execution_count": 15,
     "metadata": {},
     "output_type": "execute_result"
    }
   ],
   "source": [
    "%%sql\n",
    "CREATE TABLE new_customer (\n",
    "    CustomerName VARCHAR(100) PRIMARY KEY,\n",
    "    CommunicationMethod VARCHAR(50) NOT NULL CHECK (CommunicationMethod IN ('Phone Call', 'Text')),\n",
    "    LeadSource VARCHAR(50) NOT NULL CHECK (LeadSource IN ('Organic', 'Bought')),\n",
    "    Destination VARCHAR(50) NOT NULL CHECK (Destination IN ('Mars', 'Europa', 'Titan', 'Venus', 'Ganymede')),\n",
    "    LaunchLocation VARCHAR(200) NOT NULL CHECK (LaunchLocation IN ('Dallas-Fort Worth Launch Complex', \n",
    "    'New York Orbital Gateway', 'Dubai Interplanetary Hub',\n",
    "    'Tokyo Spaceport Terminal', 'London Ascension Platform', 'Sydney Stellar Port'))\n",
    "    )"
   ]
  },
  {
   "cell_type": "markdown",
   "id": "afde5769-08a9-44ce-99fc-8e08e6e9ddfc",
   "metadata": {},
   "source": [
    "## Step 1: Update assignment_history"
   ]
  },
  {
   "cell_type": "code",
   "execution_count": 16,
   "id": "c281aa56-66e4-4866-ae0d-06c9406f6202",
   "metadata": {},
   "outputs": [
    {
     "data": {
      "text/html": [
       "<span style=\"None\">Running query in &#x27;sqlite:///my_database.db&#x27;</span>"
      ],
      "text/plain": [
       "Running query in 'sqlite:///my_database.db'"
      ]
     },
     "metadata": {},
     "output_type": "display_data"
    },
    {
     "data": {
      "text/html": [
       "<table>\n",
       "    <thead>\n",
       "        <tr>\n",
       "        </tr>\n",
       "    </thead>\n",
       "    <tbody>\n",
       "    </tbody>\n",
       "</table>"
      ],
      "text/plain": [
       "++\n",
       "||\n",
       "++\n",
       "++"
      ]
     },
     "execution_count": 16,
     "metadata": {},
     "output_type": "execute_result"
    }
   ],
   "source": [
    "%%sql\n",
    "CREATE TRIGGER updating_assignment_history\n",
    "AFTER INSERT ON new_customer\n",
    "FOR EACH ROW\n",
    "BEGIN\n",
    "\n",
    "    -- Insert assignment_history\n",
    "    INSERT INTO assignment_history (\n",
    "                CustomerName,\n",
    "                AssignmentID,\n",
    "                CommunicationMethod,\n",
    "                LeadSource,\n",
    "                AssignedDateTime,\n",
    "                AgentID\n",
    "                )\n",
    "    VALUES (\n",
    "            NEW.CustomerName,\n",
    "            (SELECT IFNULL(MAX(AssignmentID), 0) + 1 FROM assignment_history),\n",
    "                    NEW.CommunicationMethod,\n",
    "                    NEW.LeadSource,\n",
    "                    datetime('now', '+56 years'),\n",
    "            (SELECT AgentID FROM agent_rank_tracker ORDER BY agent_rank LIMIT 1)\n",
    "    );\n",
    "END;"
   ]
  },
  {
   "cell_type": "markdown",
   "id": "84662b5f-d58a-4c25-885a-481d7c5acb56",
   "metadata": {},
   "source": [
    "## Step 2: Insert into bookings_2"
   ]
  },
  {
   "cell_type": "code",
   "execution_count": 17,
   "id": "2fa10f9c-19f3-4989-868c-aa75717244df",
   "metadata": {},
   "outputs": [
    {
     "data": {
      "text/html": [
       "<span style=\"None\">Running query in &#x27;sqlite:///my_database.db&#x27;</span>"
      ],
      "text/plain": [
       "Running query in 'sqlite:///my_database.db'"
      ]
     },
     "metadata": {},
     "output_type": "display_data"
    },
    {
     "data": {
      "text/html": [
       "<table>\n",
       "    <thead>\n",
       "        <tr>\n",
       "        </tr>\n",
       "    </thead>\n",
       "    <tbody>\n",
       "    </tbody>\n",
       "</table>"
      ],
      "text/plain": [
       "++\n",
       "||\n",
       "++\n",
       "++"
      ]
     },
     "execution_count": 17,
     "metadata": {},
     "output_type": "execute_result"
    }
   ],
   "source": [
    "%%sql\n",
    "CREATE TRIGGER updating_bookings_2\n",
    "AFTER INSERT ON assignment_history\n",
    "FOR EACH ROW\n",
    "BEGIN\n",
    "    \n",
    "    INSERT INTO bookings_2 (\n",
    "                BookingID,\n",
    "                AssignmentID,\n",
    "                Destination,\n",
    "                LaunchLocation,\n",
    "                BookingStatus,\n",
    "                AgentID\n",
    "                )\n",
    "    VALUES (\n",
    "            (SELECT IFNULL(MAX(BookingID), 0) + 1 FROM bookings_2),\n",
    "                    NEW.AssignmentID,\n",
    "                    (SELECT Destination FROM new_customer WHERE CustomerName = NEW.CustomerName),\n",
    "                    (SELECT LaunchLocation FROM new_customer WHERE CustomerName = NEW.CustomerName),\n",
    "                    'Pending',\n",
    "                    NEW.AgentID\n",
    "            );\n",
    "END;"
   ]
  },
  {
   "cell_type": "markdown",
   "id": "b6199069-c821-410c-ab16-9eef86690fa5",
   "metadata": {},
   "source": [
    "## Step 3a: Updating load if new row is added to table bookings_2"
   ]
  },
  {
   "cell_type": "code",
   "execution_count": 18,
   "id": "2cc595e3-7293-4671-8266-e6910e7fcfd9",
   "metadata": {},
   "outputs": [
    {
     "data": {
      "text/html": [
       "<span style=\"None\">Running query in &#x27;sqlite:///my_database.db&#x27;</span>"
      ],
      "text/plain": [
       "Running query in 'sqlite:///my_database.db'"
      ]
     },
     "metadata": {},
     "output_type": "display_data"
    },
    {
     "data": {
      "text/html": [
       "<table>\n",
       "    <thead>\n",
       "        <tr>\n",
       "        </tr>\n",
       "    </thead>\n",
       "    <tbody>\n",
       "    </tbody>\n",
       "</table>"
      ],
      "text/plain": [
       "++\n",
       "||\n",
       "++\n",
       "++"
      ]
     },
     "execution_count": 18,
     "metadata": {},
     "output_type": "execute_result"
    }
   ],
   "source": [
    "%%sql\n",
    "\n",
    "CREATE TRIGGER updating_loads\n",
    "AFTER INSERT ON bookings_2\n",
    "FOR EACH ROW\n",
    "BEGIN\n",
    "    UPDATE space_travel_agents\n",
    "    SET load = load + 1\n",
    "    WHERE AgentID = NEW.AgentID AND NEW.BookingStatus = 'Pending';\n",
    "END;"
   ]
  },
  {
   "cell_type": "markdown",
   "id": "35fa2468-99c3-4bc1-ab01-e8dcb6866cbb",
   "metadata": {},
   "source": [
    "## Step 3b: In case the BookingStatus changed from \"Pending\" to \"Cancelled\" or \"Confirmed\""
   ]
  },
  {
   "cell_type": "code",
   "execution_count": 19,
   "id": "b3d1b960-191a-4696-b9d0-7aa0531655c3",
   "metadata": {},
   "outputs": [
    {
     "data": {
      "text/html": [
       "<span style=\"None\">Running query in &#x27;sqlite:///my_database.db&#x27;</span>"
      ],
      "text/plain": [
       "Running query in 'sqlite:///my_database.db'"
      ]
     },
     "metadata": {},
     "output_type": "display_data"
    },
    {
     "data": {
      "text/html": [
       "<table>\n",
       "    <thead>\n",
       "        <tr>\n",
       "        </tr>\n",
       "    </thead>\n",
       "    <tbody>\n",
       "    </tbody>\n",
       "</table>"
      ],
      "text/plain": [
       "++\n",
       "||\n",
       "++\n",
       "++"
      ]
     },
     "execution_count": 19,
     "metadata": {},
     "output_type": "execute_result"
    }
   ],
   "source": [
    "%%sql\n",
    "\n",
    "CREATE TRIGGER update_loads_subtracting\n",
    "AFTER UPDATE OF BookingStatus ON bookings_2\n",
    "FOR EACH ROW\n",
    "    WHEN OLD.BookingStatus = 'Pending' AND NEW.BookingStatus IN ('Confirmed', 'Cancelled')\n",
    "    BEGIN\n",
    "        UPDATE space_travel_agents\n",
    "        SET load = MAX(load - 1, 0)\n",
    "        WHERE AgentID = NEW.AgentID;\n",
    "    END;"
   ]
  },
  {
   "cell_type": "markdown",
   "id": "9dd371a2-1368-4101-a350-7811d1241d2e",
   "metadata": {},
   "source": [
    "## Step 4: Recomputing agent_rank"
   ]
  },
  {
   "cell_type": "code",
   "execution_count": 20,
   "id": "197cdb74-59c6-4501-87f0-715b2c978b71",
   "metadata": {},
   "outputs": [
    {
     "data": {
      "text/html": [
       "<span style=\"None\">Running query in &#x27;sqlite:///my_database.db&#x27;</span>"
      ],
      "text/plain": [
       "Running query in 'sqlite:///my_database.db'"
      ]
     },
     "metadata": {},
     "output_type": "display_data"
    },
    {
     "data": {
      "text/html": [
       "<table>\n",
       "    <thead>\n",
       "        <tr>\n",
       "        </tr>\n",
       "    </thead>\n",
       "    <tbody>\n",
       "    </tbody>\n",
       "</table>"
      ],
      "text/plain": [
       "++\n",
       "||\n",
       "++\n",
       "++"
      ]
     },
     "execution_count": 20,
     "metadata": {},
     "output_type": "execute_result"
    }
   ],
   "source": [
    "%%sql\n",
    "    \n",
    "CREATE TRIGGER recompute_agent_rank_on_load\n",
    "AFTER UPDATE OF load ON space_travel_agents\n",
    "FOR EACH ROW\n",
    "BEGIN\n",
    "    DELETE FROM agent_rank_tracker;\n",
    "\n",
    "    INSERT INTO agent_rank_tracker (AgentID, agent_rank)\n",
    "    SELECT a.AgentID,\n",
    "            (SELECT COUNT(*)\n",
    "                FROM space_travel_agents AS b\n",
    "                WHERE b.load < a.load\n",
    "                OR (b.load = a.load AND b.YearsOfService > a.YearsOfService)\n",
    "                OR (b.load = a.load AND b.YearsOfService = a.YearsOfService\n",
    "                AND b.AverageCustomerServiceRating > a.AverageCustomerServiceRating)\n",
    "            ) + 1\n",
    "FROM space_travel_agents AS a;\n",
    "END;"
   ]
  },
  {
   "cell_type": "markdown",
   "id": "9a6190b8-10fa-45ac-8a99-4b1f6512d91a",
   "metadata": {},
   "source": [
    "## If BookingStatus changes from 'Pending' to 'Cancelled' or 'Confirmed'"
   ]
  },
  {
   "cell_type": "markdown",
   "id": "ac126637-a87f-4ae8-840b-2a2d3288a239",
   "metadata": {},
   "source": [
    "## Test run"
   ]
  },
  {
   "cell_type": "markdown",
   "id": "8aa08451-eadc-4430-b217-9e8d5f7be35b",
   "metadata": {},
   "source": [
    "## 1. Insert new rows to \"new_customer\""
   ]
  },
  {
   "cell_type": "markdown",
   "id": "800710d2-fc9b-4741-ad85-8d823f9a767e",
   "metadata": {},
   "source": [
    "Before inserting new rows, here is my agent_ranking_tracker:"
   ]
  },
  {
   "cell_type": "code",
   "execution_count": 21,
   "id": "68a24dbd-494f-4fd9-a34b-a80a1a8ff949",
   "metadata": {},
   "outputs": [
    {
     "data": {
      "text/html": [
       "<span style=\"None\">Running query in &#x27;sqlite:///my_database.db&#x27;</span>"
      ],
      "text/plain": [
       "Running query in 'sqlite:///my_database.db'"
      ]
     },
     "metadata": {},
     "output_type": "display_data"
    },
    {
     "data": {
      "text/html": [
       "<table>\n",
       "    <thead>\n",
       "        <tr>\n",
       "            <th>AgentID</th>\n",
       "            <th>agent_rank</th>\n",
       "        </tr>\n",
       "    </thead>\n",
       "    <tbody>\n",
       "        <tr>\n",
       "            <td>6</td>\n",
       "            <td>1</td>\n",
       "        </tr>\n",
       "        <tr>\n",
       "            <td>3</td>\n",
       "            <td>2</td>\n",
       "        </tr>\n",
       "        <tr>\n",
       "            <td>27</td>\n",
       "            <td>2</td>\n",
       "        </tr>\n",
       "        <tr>\n",
       "            <td>24</td>\n",
       "            <td>4</td>\n",
       "        </tr>\n",
       "        <tr>\n",
       "            <td>1</td>\n",
       "            <td>5</td>\n",
       "        </tr>\n",
       "    </tbody>\n",
       "</table>"
      ],
      "text/plain": [
       "+---------+------------+\n",
       "| AgentID | agent_rank |\n",
       "+---------+------------+\n",
       "|    6    |     1      |\n",
       "|    3    |     2      |\n",
       "|    27   |     2      |\n",
       "|    24   |     4      |\n",
       "|    1    |     5      |\n",
       "+---------+------------+"
      ]
     },
     "execution_count": 21,
     "metadata": {},
     "output_type": "execute_result"
    }
   ],
   "source": [
    "%sql SELECT * FROM agent_rank_tracker ORDER BY agent_rank LIMIT 5"
   ]
  },
  {
   "cell_type": "code",
   "execution_count": 22,
   "id": "e45c9646-2a7a-4e48-b72f-bf3a2b816400",
   "metadata": {},
   "outputs": [
    {
     "data": {
      "text/html": [
       "<span style=\"None\">Running query in &#x27;sqlite:///my_database.db&#x27;</span>"
      ],
      "text/plain": [
       "Running query in 'sqlite:///my_database.db'"
      ]
     },
     "metadata": {},
     "output_type": "display_data"
    },
    {
     "data": {
      "text/html": [
       "<span style=\"color: green\">2 rows affected.</span>"
      ],
      "text/plain": [
       "2 rows affected."
      ]
     },
     "metadata": {},
     "output_type": "display_data"
    },
    {
     "data": {
      "text/html": [
       "<table>\n",
       "    <thead>\n",
       "        <tr>\n",
       "        </tr>\n",
       "    </thead>\n",
       "    <tbody>\n",
       "    </tbody>\n",
       "</table>"
      ],
      "text/plain": [
       "++\n",
       "||\n",
       "++\n",
       "++"
      ]
     },
     "execution_count": 22,
     "metadata": {},
     "output_type": "execute_result"
    }
   ],
   "source": [
    "%%sql\n",
    "\n",
    "INSERT INTO new_customer (\n",
    "                        CustomerName, \n",
    "                        CommunicationMethod,\n",
    "                        LeadSource, \n",
    "                        Destination, \n",
    "                        LaunchLocation\n",
    "                        )\n",
    "VALUES (\n",
    "        'Kate Nguyen', \n",
    "        'Text', \n",
    "        'Organic', \n",
    "        'Mars', \n",
    "        'Dallas-Fort Worth Launch Complex'),\n",
    "        (\n",
    "        'Jonh Doe', \n",
    "        'Phone Call', \n",
    "        'Bought', \n",
    "        'Europa', \n",
    "        'Sydney Stellar Port'\n",
    "        )"
   ]
  },
  {
   "cell_type": "code",
   "execution_count": 23,
   "id": "59e48ed7-2950-412d-8eaa-330a9745e1c7",
   "metadata": {},
   "outputs": [
    {
     "data": {
      "text/html": [
       "<span style=\"None\">Running query in &#x27;sqlite:///my_database.db&#x27;</span>"
      ],
      "text/plain": [
       "Running query in 'sqlite:///my_database.db'"
      ]
     },
     "metadata": {},
     "output_type": "display_data"
    },
    {
     "data": {
      "text/html": [
       "<table>\n",
       "    <thead>\n",
       "        <tr>\n",
       "            <th>AssignmentID</th>\n",
       "            <th>AgentID</th>\n",
       "            <th>CustomerName</th>\n",
       "            <th>CommunicationMethod</th>\n",
       "            <th>LeadSource</th>\n",
       "            <th>AssignedDateTime</th>\n",
       "        </tr>\n",
       "    </thead>\n",
       "    <tbody>\n",
       "        <tr>\n",
       "            <td>452</td>\n",
       "            <td>3</td>\n",
       "            <td>Jonh Doe</td>\n",
       "            <td>Phone Call</td>\n",
       "            <td>Bought</td>\n",
       "            <td>2081-07-10 21:48:36</td>\n",
       "        </tr>\n",
       "        <tr>\n",
       "            <td>451</td>\n",
       "            <td>6</td>\n",
       "            <td>Kate Nguyen</td>\n",
       "            <td>Text</td>\n",
       "            <td>Organic</td>\n",
       "            <td>2081-07-10 21:48:36</td>\n",
       "        </tr>\n",
       "        <tr>\n",
       "            <td>450</td>\n",
       "            <td>11</td>\n",
       "            <td>Mira Cruz</td>\n",
       "            <td>Phone Call</td>\n",
       "            <td>Bought</td>\n",
       "            <td>2081-04-10 15:00:00</td>\n",
       "        </tr>\n",
       "        <tr>\n",
       "            <td>449</td>\n",
       "            <td>20</td>\n",
       "            <td>Arlo King</td>\n",
       "            <td>Text</td>\n",
       "            <td>Organic</td>\n",
       "            <td>2081-04-10 13:50:00</td>\n",
       "        </tr>\n",
       "        <tr>\n",
       "            <td>448</td>\n",
       "            <td>2</td>\n",
       "            <td>Tinsley Ross</td>\n",
       "            <td>Text</td>\n",
       "            <td>Bought</td>\n",
       "            <td>2081-04-10 12:40:00</td>\n",
       "        </tr>\n",
       "        <tr>\n",
       "            <td>447</td>\n",
       "            <td>16</td>\n",
       "            <td>Elowen Bell</td>\n",
       "            <td>Phone Call</td>\n",
       "            <td>Organic</td>\n",
       "            <td>2081-04-10 11:30:00</td>\n",
       "        </tr>\n",
       "        <tr>\n",
       "            <td>446</td>\n",
       "            <td>24</td>\n",
       "            <td>Callahan Rivera</td>\n",
       "            <td>Text</td>\n",
       "            <td>Bought</td>\n",
       "            <td>2081-04-10 10:20:00</td>\n",
       "        </tr>\n",
       "        <tr>\n",
       "            <td>445</td>\n",
       "            <td>7</td>\n",
       "            <td>Kylan Scott</td>\n",
       "            <td>Text</td>\n",
       "            <td>Organic</td>\n",
       "            <td>2081-04-10 09:10:00</td>\n",
       "        </tr>\n",
       "        <tr>\n",
       "            <td>444</td>\n",
       "            <td>28</td>\n",
       "            <td>Zya Lewis</td>\n",
       "            <td>Phone Call</td>\n",
       "            <td>Bought</td>\n",
       "            <td>2081-04-09 14:55:00</td>\n",
       "        </tr>\n",
       "        <tr>\n",
       "            <td>443</td>\n",
       "            <td>13</td>\n",
       "            <td>Azalea Brooks</td>\n",
       "            <td>Text</td>\n",
       "            <td>Organic</td>\n",
       "            <td>2081-04-09 13:45:00</td>\n",
       "        </tr>\n",
       "    </tbody>\n",
       "</table>\n",
       "<span style=\"font-style:italic;text-align:center;\">Truncated to <a href=\"https://jupysql.ploomber.io/en/latest/api/configuration.html#displaylimit\">displaylimit</a> of 10.</span>"
      ],
      "text/plain": [
       "+--------------+---------+-----------------+---------------------+------------+---------------------+\n",
       "| AssignmentID | AgentID |   CustomerName  | CommunicationMethod | LeadSource |   AssignedDateTime  |\n",
       "+--------------+---------+-----------------+---------------------+------------+---------------------+\n",
       "|     452      |    3    |     Jonh Doe    |      Phone Call     |   Bought   | 2081-07-10 21:48:36 |\n",
       "|     451      |    6    |   Kate Nguyen   |         Text        |  Organic   | 2081-07-10 21:48:36 |\n",
       "|     450      |    11   |    Mira Cruz    |      Phone Call     |   Bought   | 2081-04-10 15:00:00 |\n",
       "|     449      |    20   |    Arlo King    |         Text        |  Organic   | 2081-04-10 13:50:00 |\n",
       "|     448      |    2    |   Tinsley Ross  |         Text        |   Bought   | 2081-04-10 12:40:00 |\n",
       "|     447      |    16   |   Elowen Bell   |      Phone Call     |  Organic   | 2081-04-10 11:30:00 |\n",
       "|     446      |    24   | Callahan Rivera |         Text        |   Bought   | 2081-04-10 10:20:00 |\n",
       "|     445      |    7    |   Kylan Scott   |         Text        |  Organic   | 2081-04-10 09:10:00 |\n",
       "|     444      |    28   |    Zya Lewis    |      Phone Call     |   Bought   | 2081-04-09 14:55:00 |\n",
       "|     443      |    13   |  Azalea Brooks  |         Text        |  Organic   | 2081-04-09 13:45:00 |\n",
       "+--------------+---------+-----------------+---------------------+------------+---------------------+\n",
       "Truncated to displaylimit of 10."
      ]
     },
     "execution_count": 23,
     "metadata": {},
     "output_type": "execute_result"
    }
   ],
   "source": [
    "%sql SELECT * FROM assignment_history ORDER BY AssignmentID DESC"
   ]
  },
  {
   "cell_type": "code",
   "execution_count": 24,
   "id": "347a913a-b4de-4fa2-b629-fcdb352fee0e",
   "metadata": {},
   "outputs": [
    {
     "data": {
      "text/html": [
       "<span style=\"None\">Running query in &#x27;sqlite:///my_database.db&#x27;</span>"
      ],
      "text/plain": [
       "Running query in 'sqlite:///my_database.db'"
      ]
     },
     "metadata": {},
     "output_type": "display_data"
    },
    {
     "data": {
      "text/html": [
       "<table>\n",
       "    <thead>\n",
       "        <tr>\n",
       "            <th>AgentID</th>\n",
       "            <th>agent_rank</th>\n",
       "        </tr>\n",
       "    </thead>\n",
       "    <tbody>\n",
       "        <tr>\n",
       "            <td>27</td>\n",
       "            <td>1</td>\n",
       "        </tr>\n",
       "        <tr>\n",
       "            <td>24</td>\n",
       "            <td>2</td>\n",
       "        </tr>\n",
       "        <tr>\n",
       "            <td>1</td>\n",
       "            <td>3</td>\n",
       "        </tr>\n",
       "        <tr>\n",
       "            <td>16</td>\n",
       "            <td>3</td>\n",
       "        </tr>\n",
       "        <tr>\n",
       "            <td>19</td>\n",
       "            <td>5</td>\n",
       "        </tr>\n",
       "        <tr>\n",
       "            <td>11</td>\n",
       "            <td>6</td>\n",
       "        </tr>\n",
       "        <tr>\n",
       "            <td>25</td>\n",
       "            <td>7</td>\n",
       "        </tr>\n",
       "        <tr>\n",
       "            <td>4</td>\n",
       "            <td>8</td>\n",
       "        </tr>\n",
       "        <tr>\n",
       "            <td>23</td>\n",
       "            <td>9</td>\n",
       "        </tr>\n",
       "        <tr>\n",
       "            <td>29</td>\n",
       "            <td>10</td>\n",
       "        </tr>\n",
       "    </tbody>\n",
       "</table>\n",
       "<span style=\"font-style:italic;text-align:center;\">Truncated to <a href=\"https://jupysql.ploomber.io/en/latest/api/configuration.html#displaylimit\">displaylimit</a> of 10.</span>"
      ],
      "text/plain": [
       "+---------+------------+\n",
       "| AgentID | agent_rank |\n",
       "+---------+------------+\n",
       "|    27   |     1      |\n",
       "|    24   |     2      |\n",
       "|    1    |     3      |\n",
       "|    16   |     3      |\n",
       "|    19   |     5      |\n",
       "|    11   |     6      |\n",
       "|    25   |     7      |\n",
       "|    4    |     8      |\n",
       "|    23   |     9      |\n",
       "|    29   |     10     |\n",
       "+---------+------------+\n",
       "Truncated to displaylimit of 10."
      ]
     },
     "execution_count": 24,
     "metadata": {},
     "output_type": "execute_result"
    }
   ],
   "source": [
    "%sql SELECT * FROM agent_rank_tracker ORDER BY agent_rank LIMIT 10"
   ]
  },
  {
   "cell_type": "markdown",
   "id": "e0a48042-6a98-4a24-aca8-f9d9532b777e",
   "metadata": {},
   "source": [
    "## 2. If BookingStatus changed from \"Pending\" to \"Cancelled\""
   ]
  },
  {
   "cell_type": "markdown",
   "id": "aeb9a9b6-9cef-40e1-af64-7b1583465483",
   "metadata": {},
   "source": [
    "Let's find the AgentID that has load > 1"
   ]
  },
  {
   "cell_type": "code",
   "execution_count": 25,
   "id": "98dca6d2-ecfa-463a-a780-3a9bc6e9dbe1",
   "metadata": {},
   "outputs": [
    {
     "data": {
      "text/html": [
       "<span style=\"None\">Running query in &#x27;sqlite:///my_database.db&#x27;</span>"
      ],
      "text/plain": [
       "Running query in 'sqlite:///my_database.db'"
      ]
     },
     "metadata": {},
     "output_type": "display_data"
    },
    {
     "data": {
      "text/html": [
       "<table>\n",
       "    <thead>\n",
       "        <tr>\n",
       "            <th>AgentID</th>\n",
       "            <th>FirstName</th>\n",
       "            <th>LastName</th>\n",
       "            <th>Email</th>\n",
       "            <th>JobTitle</th>\n",
       "            <th>DepartmentName</th>\n",
       "            <th>ManagerName</th>\n",
       "            <th>SpaceLicenseNumber</th>\n",
       "            <th>YearsOfService</th>\n",
       "            <th>AverageCustomerServiceRating</th>\n",
       "            <th>load</th>\n",
       "            <th>agent_rank</th>\n",
       "        </tr>\n",
       "    </thead>\n",
       "    <tbody>\n",
       "        <tr>\n",
       "            <td>6</td>\n",
       "            <td>Soren</td>\n",
       "            <td>Baker</td>\n",
       "            <td>soren.baker@astra2081.com</td>\n",
       "            <td>Lead Space Travel Agent</td>\n",
       "            <td>Premium Bookings</td>\n",
       "            <td>Zane Holloway</td>\n",
       "            <td>SL-2081-006</td>\n",
       "            <td>18</td>\n",
       "            <td>4.6</td>\n",
       "            <td>1</td>\n",
       "            <td>1</td>\n",
       "        </tr>\n",
       "        <tr>\n",
       "            <td>3</td>\n",
       "            <td>Nova</td>\n",
       "            <td>Singh</td>\n",
       "            <td>nova.singh@astra2081.com</td>\n",
       "            <td>Senior Space Travel Agent</td>\n",
       "            <td>Premium Bookings</td>\n",
       "            <td>Zane Holloway</td>\n",
       "            <td>SL-2081-003</td>\n",
       "            <td>15</td>\n",
       "            <td>4.0</td>\n",
       "            <td>1</td>\n",
       "            <td>2</td>\n",
       "        </tr>\n",
       "        <tr>\n",
       "            <td>22</td>\n",
       "            <td>Juno</td>\n",
       "            <td>Brooks</td>\n",
       "            <td>juno.brooks@astra2081.com</td>\n",
       "            <td>Lead Space Travel Agent</td>\n",
       "            <td>Premium Bookings</td>\n",
       "            <td>Zane Holloway</td>\n",
       "            <td>SL-2081-022</td>\n",
       "            <td>17</td>\n",
       "            <td>4.8</td>\n",
       "            <td>1</td>\n",
       "            <td>17</td>\n",
       "        </tr>\n",
       "        <tr>\n",
       "            <td>12</td>\n",
       "            <td>Nia</td>\n",
       "            <td>Ramirez</td>\n",
       "            <td>nia.ramirez@astra2081.com</td>\n",
       "            <td>Senior Space Travel Agent</td>\n",
       "            <td>Premium Bookings</td>\n",
       "            <td>Zane Holloway</td>\n",
       "            <td>SL-2081-012</td>\n",
       "            <td>14</td>\n",
       "            <td>5.0</td>\n",
       "            <td>1</td>\n",
       "            <td>18</td>\n",
       "        </tr>\n",
       "        <tr>\n",
       "            <td>8</td>\n",
       "            <td>Orion</td>\n",
       "            <td>Davis</td>\n",
       "            <td>orion.davis@astra2081.com</td>\n",
       "            <td>Senior Space Travel Agent</td>\n",
       "            <td>Luxury Voyages</td>\n",
       "            <td>Zane Holloway</td>\n",
       "            <td>SL-2081-008</td>\n",
       "            <td>10</td>\n",
       "            <td>4.4</td>\n",
       "            <td>1</td>\n",
       "            <td>19</td>\n",
       "        </tr>\n",
       "    </tbody>\n",
       "</table>"
      ],
      "text/plain": [
       "+---------+-----------+----------+---------------------------+---------------------------+------------------+---------------+--------------------+----------------+------------------------------+------+------------+\n",
       "| AgentID | FirstName | LastName |           Email           |          JobTitle         |  DepartmentName  |  ManagerName  | SpaceLicenseNumber | YearsOfService | AverageCustomerServiceRating | load | agent_rank |\n",
       "+---------+-----------+----------+---------------------------+---------------------------+------------------+---------------+--------------------+----------------+------------------------------+------+------------+\n",
       "|    6    |   Soren   |  Baker   | soren.baker@astra2081.com |  Lead Space Travel Agent  | Premium Bookings | Zane Holloway |    SL-2081-006     |       18       |             4.6              |  1   |     1      |\n",
       "|    3    |    Nova   |  Singh   |  nova.singh@astra2081.com | Senior Space Travel Agent | Premium Bookings | Zane Holloway |    SL-2081-003     |       15       |             4.0              |  1   |     2      |\n",
       "|    22   |    Juno   |  Brooks  | juno.brooks@astra2081.com |  Lead Space Travel Agent  | Premium Bookings | Zane Holloway |    SL-2081-022     |       17       |             4.8              |  1   |     17     |\n",
       "|    12   |    Nia    | Ramirez  | nia.ramirez@astra2081.com | Senior Space Travel Agent | Premium Bookings | Zane Holloway |    SL-2081-012     |       14       |             5.0              |  1   |     18     |\n",
       "|    8    |   Orion   |  Davis   | orion.davis@astra2081.com | Senior Space Travel Agent |  Luxury Voyages  | Zane Holloway |    SL-2081-008     |       10       |             4.4              |  1   |     19     |\n",
       "+---------+-----------+----------+---------------------------+---------------------------+------------------+---------------+--------------------+----------------+------------------------------+------+------------+"
      ]
     },
     "execution_count": 25,
     "metadata": {},
     "output_type": "execute_result"
    }
   ],
   "source": [
    "%sql SELECT * FROM space_travel_agents WHERE load > 0 ORDER BY agent_rank LIMIT 5"
   ]
  },
  {
   "cell_type": "markdown",
   "id": "16c49276-beed-42a6-8912-5c6fc2664b9b",
   "metadata": {},
   "source": [
    "Let's choose AgentID = 14 with load = 2 and current rank = 26"
   ]
  },
  {
   "cell_type": "code",
   "execution_count": 26,
   "id": "32287c3b-a0ae-43e2-a415-649c43999255",
   "metadata": {},
   "outputs": [
    {
     "data": {
      "text/html": [
       "<span style=\"None\">Running query in &#x27;sqlite:///my_database.db&#x27;</span>"
      ],
      "text/plain": [
       "Running query in 'sqlite:///my_database.db'"
      ]
     },
     "metadata": {},
     "output_type": "display_data"
    },
    {
     "data": {
      "text/html": [
       "<table>\n",
       "    <thead>\n",
       "        <tr>\n",
       "            <th>BookingID</th>\n",
       "            <th>AssignmentID</th>\n",
       "            <th>BookingCompleteDate</th>\n",
       "            <th>CancelledDate</th>\n",
       "            <th>Destination</th>\n",
       "            <th>Package</th>\n",
       "            <th>LaunchLocation</th>\n",
       "            <th>DestinationRevenue</th>\n",
       "            <th>PackageRevenue</th>\n",
       "            <th>TotalRevenue</th>\n",
       "            <th>BookingStatus</th>\n",
       "            <th>AgentID</th>\n",
       "        </tr>\n",
       "    </thead>\n",
       "    <tbody>\n",
       "        <tr>\n",
       "            <td>414</td>\n",
       "            <td>452</td>\n",
       "            <td>None</td>\n",
       "            <td>None</td>\n",
       "            <td>Europa</td>\n",
       "            <td>None</td>\n",
       "            <td>Sydney Stellar Port</td>\n",
       "            <td>None</td>\n",
       "            <td>None</td>\n",
       "            <td>None</td>\n",
       "            <td>Pending</td>\n",
       "            <td>3</td>\n",
       "        </tr>\n",
       "    </tbody>\n",
       "</table>"
      ],
      "text/plain": [
       "+-----------+--------------+---------------------+---------------+-------------+---------+---------------------+--------------------+----------------+--------------+---------------+---------+\n",
       "| BookingID | AssignmentID | BookingCompleteDate | CancelledDate | Destination | Package |    LaunchLocation   | DestinationRevenue | PackageRevenue | TotalRevenue | BookingStatus | AgentID |\n",
       "+-----------+--------------+---------------------+---------------+-------------+---------+---------------------+--------------------+----------------+--------------+---------------+---------+\n",
       "|    414    |     452      |         None        |      None     |    Europa   |   None  | Sydney Stellar Port |        None        |      None      |     None     |    Pending    |    3    |\n",
       "+-----------+--------------+---------------------+---------------+-------------+---------+---------------------+--------------------+----------------+--------------+---------------+---------+"
      ]
     },
     "execution_count": 26,
     "metadata": {},
     "output_type": "execute_result"
    }
   ],
   "source": [
    "%%sql\n",
    "SELECT * \n",
    "FROM bookings_2\n",
    "WHERE AgentID = 3 AND BookingStatus = 'Pending'"
   ]
  },
  {
   "cell_type": "markdown",
   "id": "3feb65c2-0dd3-4741-918a-ed641bfad68d",
   "metadata": {},
   "source": [
    "Let's change the BookingStatus of BookingID = 414 into 'Cancelled'."
   ]
  },
  {
   "cell_type": "code",
   "execution_count": 27,
   "id": "861265d5-ab36-4291-8cfa-f4e01ecb2b66",
   "metadata": {},
   "outputs": [
    {
     "data": {
      "text/html": [
       "<span style=\"None\">Running query in &#x27;sqlite:///my_database.db&#x27;</span>"
      ],
      "text/plain": [
       "Running query in 'sqlite:///my_database.db'"
      ]
     },
     "metadata": {},
     "output_type": "display_data"
    },
    {
     "data": {
      "text/html": [
       "<span style=\"color: green\">1 rows affected.</span>"
      ],
      "text/plain": [
       "1 rows affected."
      ]
     },
     "metadata": {},
     "output_type": "display_data"
    },
    {
     "data": {
      "text/html": [
       "<table>\n",
       "    <thead>\n",
       "        <tr>\n",
       "            <th>BookingID</th>\n",
       "            <th>AssignmentID</th>\n",
       "            <th>BookingCompleteDate</th>\n",
       "            <th>CancelledDate</th>\n",
       "            <th>Destination</th>\n",
       "            <th>Package</th>\n",
       "            <th>LaunchLocation</th>\n",
       "            <th>DestinationRevenue</th>\n",
       "            <th>PackageRevenue</th>\n",
       "            <th>TotalRevenue</th>\n",
       "            <th>BookingStatus</th>\n",
       "            <th>AgentID</th>\n",
       "        </tr>\n",
       "    </thead>\n",
       "    <tbody>\n",
       "        <tr>\n",
       "            <td>414</td>\n",
       "            <td>452</td>\n",
       "            <td>None</td>\n",
       "            <td>None</td>\n",
       "            <td>Europa</td>\n",
       "            <td>None</td>\n",
       "            <td>Sydney Stellar Port</td>\n",
       "            <td>None</td>\n",
       "            <td>None</td>\n",
       "            <td>None</td>\n",
       "            <td>Cancelled</td>\n",
       "            <td>3</td>\n",
       "        </tr>\n",
       "    </tbody>\n",
       "</table>"
      ],
      "text/plain": [
       "+-----------+--------------+---------------------+---------------+-------------+---------+---------------------+--------------------+----------------+--------------+---------------+---------+\n",
       "| BookingID | AssignmentID | BookingCompleteDate | CancelledDate | Destination | Package |    LaunchLocation   | DestinationRevenue | PackageRevenue | TotalRevenue | BookingStatus | AgentID |\n",
       "+-----------+--------------+---------------------+---------------+-------------+---------+---------------------+--------------------+----------------+--------------+---------------+---------+\n",
       "|    414    |     452      |         None        |      None     |    Europa   |   None  | Sydney Stellar Port |        None        |      None      |     None     |   Cancelled   |    3    |\n",
       "+-----------+--------------+---------------------+---------------+-------------+---------+---------------------+--------------------+----------------+--------------+---------------+---------+"
      ]
     },
     "execution_count": 27,
     "metadata": {},
     "output_type": "execute_result"
    }
   ],
   "source": [
    "%%sql\n",
    "UPDATE bookings_2\n",
    "SET BookingStatus = 'Cancelled'\n",
    "WHERE AgentID = 3 AND BookingID = 414;\n",
    "\n",
    "SELECT * \n",
    "FROM bookings_2\n",
    "WHERE AgentID = 3 AND BookingID = 414;"
   ]
  },
  {
   "cell_type": "markdown",
   "id": "05f20cc9-352f-4f66-9546-a05f1074958c",
   "metadata": {},
   "source": [
    "Let's check the load"
   ]
  },
  {
   "cell_type": "code",
   "execution_count": 28,
   "id": "3ca7bdee-433a-43a8-921d-604cfcc064df",
   "metadata": {},
   "outputs": [
    {
     "data": {
      "text/html": [
       "<span style=\"None\">Running query in &#x27;sqlite:///my_database.db&#x27;</span>"
      ],
      "text/plain": [
       "Running query in 'sqlite:///my_database.db'"
      ]
     },
     "metadata": {},
     "output_type": "display_data"
    },
    {
     "data": {
      "text/html": [
       "<table>\n",
       "    <thead>\n",
       "        <tr>\n",
       "            <th>AgentID</th>\n",
       "            <th>FirstName</th>\n",
       "            <th>LastName</th>\n",
       "            <th>Email</th>\n",
       "            <th>JobTitle</th>\n",
       "            <th>DepartmentName</th>\n",
       "            <th>ManagerName</th>\n",
       "            <th>SpaceLicenseNumber</th>\n",
       "            <th>YearsOfService</th>\n",
       "            <th>AverageCustomerServiceRating</th>\n",
       "            <th>load</th>\n",
       "            <th>agent_rank</th>\n",
       "        </tr>\n",
       "    </thead>\n",
       "    <tbody>\n",
       "        <tr>\n",
       "            <td>3</td>\n",
       "            <td>Nova</td>\n",
       "            <td>Singh</td>\n",
       "            <td>nova.singh@astra2081.com</td>\n",
       "            <td>Senior Space Travel Agent</td>\n",
       "            <td>Premium Bookings</td>\n",
       "            <td>Zane Holloway</td>\n",
       "            <td>SL-2081-003</td>\n",
       "            <td>15</td>\n",
       "            <td>4.0</td>\n",
       "            <td>0</td>\n",
       "            <td>2</td>\n",
       "        </tr>\n",
       "    </tbody>\n",
       "</table>"
      ],
      "text/plain": [
       "+---------+-----------+----------+--------------------------+---------------------------+------------------+---------------+--------------------+----------------+------------------------------+------+------------+\n",
       "| AgentID | FirstName | LastName |          Email           |          JobTitle         |  DepartmentName  |  ManagerName  | SpaceLicenseNumber | YearsOfService | AverageCustomerServiceRating | load | agent_rank |\n",
       "+---------+-----------+----------+--------------------------+---------------------------+------------------+---------------+--------------------+----------------+------------------------------+------+------------+\n",
       "|    3    |    Nova   |  Singh   | nova.singh@astra2081.com | Senior Space Travel Agent | Premium Bookings | Zane Holloway |    SL-2081-003     |       15       |             4.0              |  0   |     2      |\n",
       "+---------+-----------+----------+--------------------------+---------------------------+------------------+---------------+--------------------+----------------+------------------------------+------+------------+"
      ]
     },
     "execution_count": 28,
     "metadata": {},
     "output_type": "execute_result"
    }
   ],
   "source": [
    "%sql SELECT * FROM space_travel_agents WHERE AgentID = 3"
   ]
  },
  {
   "cell_type": "code",
   "execution_count": 29,
   "id": "d6566991-dbef-429b-a564-0995f5143140",
   "metadata": {},
   "outputs": [
    {
     "data": {
      "text/html": [
       "<span style=\"None\">Running query in &#x27;sqlite:///my_database.db&#x27;</span>"
      ],
      "text/plain": [
       "Running query in 'sqlite:///my_database.db'"
      ]
     },
     "metadata": {},
     "output_type": "display_data"
    },
    {
     "data": {
      "text/html": [
       "<table>\n",
       "    <thead>\n",
       "        <tr>\n",
       "            <th>AgentID</th>\n",
       "            <th>agent_rank</th>\n",
       "        </tr>\n",
       "    </thead>\n",
       "    <tbody>\n",
       "        <tr>\n",
       "            <td>3</td>\n",
       "            <td>1</td>\n",
       "        </tr>\n",
       "        <tr>\n",
       "            <td>27</td>\n",
       "            <td>1</td>\n",
       "        </tr>\n",
       "        <tr>\n",
       "            <td>24</td>\n",
       "            <td>3</td>\n",
       "        </tr>\n",
       "        <tr>\n",
       "            <td>1</td>\n",
       "            <td>4</td>\n",
       "        </tr>\n",
       "        <tr>\n",
       "            <td>16</td>\n",
       "            <td>4</td>\n",
       "        </tr>\n",
       "    </tbody>\n",
       "</table>"
      ],
      "text/plain": [
       "+---------+------------+\n",
       "| AgentID | agent_rank |\n",
       "+---------+------------+\n",
       "|    3    |     1      |\n",
       "|    27   |     1      |\n",
       "|    24   |     3      |\n",
       "|    1    |     4      |\n",
       "|    16   |     4      |\n",
       "+---------+------------+"
      ]
     },
     "execution_count": 29,
     "metadata": {},
     "output_type": "execute_result"
    }
   ],
   "source": [
    "%sql SELECT * FROM agent_rank_tracker ORDER BY agent_rank LIMIT 5"
   ]
  },
  {
   "cell_type": "markdown",
   "id": "4c63305e-842b-46af-ae9b-c0d23ef5ebb0",
   "metadata": {},
   "source": [
    "AgentID = 3 becomes the first available as they don't have any loads. Our algorithms work for both cases beautifully!"
   ]
  },
  {
   "cell_type": "code",
   "execution_count": null,
   "id": "a9d76b70-2d2f-4fca-ae82-7f418d14bc5d",
   "metadata": {},
   "outputs": [],
   "source": []
  }
 ],
 "metadata": {
  "kernelspec": {
   "display_name": "python_prep",
   "language": "python",
   "name": "python_prep"
  },
  "language_info": {
   "codemirror_mode": {
    "name": "ipython",
    "version": 3
   },
   "file_extension": ".py",
   "mimetype": "text/x-python",
   "name": "python",
   "nbconvert_exporter": "python",
   "pygments_lexer": "ipython3",
   "version": "3.12.3"
  }
 },
 "nbformat": 4,
 "nbformat_minor": 5
}
